{
 "cells": [
  {
   "cell_type": "code",
   "execution_count": 40,
   "metadata": {},
   "outputs": [],
   "source": [
    "import pandas as pd"
   ]
  },
  {
   "cell_type": "code",
   "execution_count": 41,
   "metadata": {},
   "outputs": [],
   "source": [
    "from dateutil import parser as dateparser # doc https://dateutil.readthedocs.io/en/stable/parser.html\n",
    "from dateutil.parser import parserinfo as dateparser_info\n",
    "import plotly"
   ]
  },
  {
   "cell_type": "code",
   "execution_count": 42,
   "metadata": {},
   "outputs": [],
   "source": [
    "# Input\n",
    "column_of_interest = \"Open\"\n",
    "date_column = 'Date'\n",
    "\n",
    "# Setting\n",
    "date_parser_info = dateparser_info()\n",
    "date_parser_info._year = 1999"
   ]
  },
  {
   "cell_type": "code",
   "execution_count": 43,
   "metadata": {},
   "outputs": [],
   "source": [
    "d = dateparser.parse(\"12/08/54 9:00:01\", parserinfo=date_parser_info, dayfirst = True)"
   ]
  },
  {
   "cell_type": "code",
   "execution_count": 44,
   "metadata": {},
   "outputs": [],
   "source": [
    "df = pd.read_csv('dataset/Google_Stock_Price_Train.csv')"
   ]
  },
  {
   "cell_type": "code",
   "execution_count": 45,
   "metadata": {},
   "outputs": [
    {
     "data": {
      "text/html": [
       "<div>\n",
       "<style scoped>\n",
       "    .dataframe tbody tr th:only-of-type {\n",
       "        vertical-align: middle;\n",
       "    }\n",
       "\n",
       "    .dataframe tbody tr th {\n",
       "        vertical-align: top;\n",
       "    }\n",
       "\n",
       "    .dataframe thead th {\n",
       "        text-align: right;\n",
       "    }\n",
       "</style>\n",
       "<table border=\"1\" class=\"dataframe\">\n",
       "  <thead>\n",
       "    <tr style=\"text-align: right;\">\n",
       "      <th></th>\n",
       "      <th>Date</th>\n",
       "      <th>Open</th>\n",
       "      <th>High</th>\n",
       "      <th>Low</th>\n",
       "      <th>Close</th>\n",
       "      <th>Volume</th>\n",
       "    </tr>\n",
       "  </thead>\n",
       "  <tbody>\n",
       "    <tr>\n",
       "      <th>0</th>\n",
       "      <td>1/3/2012</td>\n",
       "      <td>325.25</td>\n",
       "      <td>332.83</td>\n",
       "      <td>324.97</td>\n",
       "      <td>663.59</td>\n",
       "      <td>7,380,500</td>\n",
       "    </tr>\n",
       "    <tr>\n",
       "      <th>1</th>\n",
       "      <td>1/4/2012</td>\n",
       "      <td>331.27</td>\n",
       "      <td>333.87</td>\n",
       "      <td>329.08</td>\n",
       "      <td>666.45</td>\n",
       "      <td>5,749,400</td>\n",
       "    </tr>\n",
       "  </tbody>\n",
       "</table>\n",
       "</div>"
      ],
      "text/plain": [
       "       Date    Open    High     Low   Close     Volume\n",
       "0  1/3/2012  325.25  332.83  324.97  663.59  7,380,500\n",
       "1  1/4/2012  331.27  333.87  329.08  666.45  5,749,400"
      ]
     },
     "execution_count": 45,
     "metadata": {},
     "output_type": "execute_result"
    }
   ],
   "source": [
    "df.head(2)"
   ]
  },
  {
   "cell_type": "code",
   "execution_count": 46,
   "metadata": {},
   "outputs": [
    {
     "data": {
      "text/plain": [
       "Index(['Date', 'Open', 'High', 'Low', 'Close', 'Volume'], dtype='object')"
      ]
     },
     "execution_count": 46,
     "metadata": {},
     "output_type": "execute_result"
    }
   ],
   "source": [
    "df.columns"
   ]
  },
  {
   "cell_type": "code",
   "execution_count": 47,
   "metadata": {},
   "outputs": [],
   "source": [
    "df['parsed_date'] = df.apply(lambda row: dateparser.parse(row['Date'], parserinfo=date_parser_info, dayfirst = False),axis = 1)"
   ]
  },
  {
   "cell_type": "code",
   "execution_count": 48,
   "metadata": {},
   "outputs": [
    {
     "name": "stdout",
     "output_type": "stream",
     "text": [
      "Date object\n",
      "Open float64\n",
      "High float64\n",
      "Low float64\n",
      "Close object\n",
      "Volume object\n",
      "parsed_date datetime64[ns]\n"
     ]
    }
   ],
   "source": [
    "for c in df.columns:\n",
    "    print(c, df[c].dtype)"
   ]
  },
  {
   "cell_type": "code",
   "execution_count": 49,
   "metadata": {},
   "outputs": [
    {
     "data": {
      "text/plain": [
       "(1258, 7)"
      ]
     },
     "execution_count": 49,
     "metadata": {},
     "output_type": "execute_result"
    }
   ],
   "source": [
    "df.shape"
   ]
  },
  {
   "cell_type": "code",
   "execution_count": 50,
   "metadata": {},
   "outputs": [
    {
     "data": {
      "text/html": [
       "<div>\n",
       "<style scoped>\n",
       "    .dataframe tbody tr th:only-of-type {\n",
       "        vertical-align: middle;\n",
       "    }\n",
       "\n",
       "    .dataframe tbody tr th {\n",
       "        vertical-align: top;\n",
       "    }\n",
       "\n",
       "    .dataframe thead th {\n",
       "        text-align: right;\n",
       "    }\n",
       "</style>\n",
       "<table border=\"1\" class=\"dataframe\">\n",
       "  <thead>\n",
       "    <tr style=\"text-align: right;\">\n",
       "      <th></th>\n",
       "      <th>Date</th>\n",
       "      <th>Open</th>\n",
       "      <th>High</th>\n",
       "      <th>Low</th>\n",
       "      <th>Close</th>\n",
       "      <th>Volume</th>\n",
       "      <th>parsed_date</th>\n",
       "    </tr>\n",
       "  </thead>\n",
       "  <tbody>\n",
       "    <tr>\n",
       "      <th>0</th>\n",
       "      <td>1/3/2012</td>\n",
       "      <td>325.25</td>\n",
       "      <td>332.83</td>\n",
       "      <td>324.97</td>\n",
       "      <td>663.59</td>\n",
       "      <td>7,380,500</td>\n",
       "      <td>2012-01-03</td>\n",
       "    </tr>\n",
       "    <tr>\n",
       "      <th>1</th>\n",
       "      <td>1/4/2012</td>\n",
       "      <td>331.27</td>\n",
       "      <td>333.87</td>\n",
       "      <td>329.08</td>\n",
       "      <td>666.45</td>\n",
       "      <td>5,749,400</td>\n",
       "      <td>2012-01-04</td>\n",
       "    </tr>\n",
       "    <tr>\n",
       "      <th>2</th>\n",
       "      <td>1/5/2012</td>\n",
       "      <td>329.83</td>\n",
       "      <td>330.75</td>\n",
       "      <td>326.89</td>\n",
       "      <td>657.21</td>\n",
       "      <td>6,590,300</td>\n",
       "      <td>2012-01-05</td>\n",
       "    </tr>\n",
       "    <tr>\n",
       "      <th>3</th>\n",
       "      <td>1/6/2012</td>\n",
       "      <td>328.34</td>\n",
       "      <td>328.77</td>\n",
       "      <td>323.68</td>\n",
       "      <td>648.24</td>\n",
       "      <td>5,405,900</td>\n",
       "      <td>2012-01-06</td>\n",
       "    </tr>\n",
       "    <tr>\n",
       "      <th>4</th>\n",
       "      <td>1/9/2012</td>\n",
       "      <td>322.04</td>\n",
       "      <td>322.29</td>\n",
       "      <td>309.46</td>\n",
       "      <td>620.76</td>\n",
       "      <td>11,688,800</td>\n",
       "      <td>2012-01-09</td>\n",
       "    </tr>\n",
       "  </tbody>\n",
       "</table>\n",
       "</div>"
      ],
      "text/plain": [
       "       Date    Open    High     Low   Close      Volume parsed_date\n",
       "0  1/3/2012  325.25  332.83  324.97  663.59   7,380,500  2012-01-03\n",
       "1  1/4/2012  331.27  333.87  329.08  666.45   5,749,400  2012-01-04\n",
       "2  1/5/2012  329.83  330.75  326.89  657.21   6,590,300  2012-01-05\n",
       "3  1/6/2012  328.34  328.77  323.68  648.24   5,405,900  2012-01-06\n",
       "4  1/9/2012  322.04  322.29  309.46  620.76  11,688,800  2012-01-09"
      ]
     },
     "execution_count": 50,
     "metadata": {},
     "output_type": "execute_result"
    }
   ],
   "source": [
    "df.head()"
   ]
  },
  {
   "cell_type": "code",
   "execution_count": 51,
   "metadata": {},
   "outputs": [],
   "source": [
    "df.set_index('Date',inplace = True)"
   ]
  },
  {
   "cell_type": "code",
   "execution_count": 52,
   "metadata": {},
   "outputs": [
    {
     "data": {
      "text/html": [
       "<div>\n",
       "<style scoped>\n",
       "    .dataframe tbody tr th:only-of-type {\n",
       "        vertical-align: middle;\n",
       "    }\n",
       "\n",
       "    .dataframe tbody tr th {\n",
       "        vertical-align: top;\n",
       "    }\n",
       "\n",
       "    .dataframe thead th {\n",
       "        text-align: right;\n",
       "    }\n",
       "</style>\n",
       "<table border=\"1\" class=\"dataframe\">\n",
       "  <thead>\n",
       "    <tr style=\"text-align: right;\">\n",
       "      <th></th>\n",
       "      <th>Open</th>\n",
       "      <th>High</th>\n",
       "      <th>Low</th>\n",
       "      <th>Close</th>\n",
       "      <th>Volume</th>\n",
       "      <th>parsed_date</th>\n",
       "    </tr>\n",
       "    <tr>\n",
       "      <th>Date</th>\n",
       "      <th></th>\n",
       "      <th></th>\n",
       "      <th></th>\n",
       "      <th></th>\n",
       "      <th></th>\n",
       "      <th></th>\n",
       "    </tr>\n",
       "  </thead>\n",
       "  <tbody>\n",
       "    <tr>\n",
       "      <th>1/3/2012</th>\n",
       "      <td>325.25</td>\n",
       "      <td>332.83</td>\n",
       "      <td>324.97</td>\n",
       "      <td>663.59</td>\n",
       "      <td>7,380,500</td>\n",
       "      <td>2012-01-03</td>\n",
       "    </tr>\n",
       "    <tr>\n",
       "      <th>1/4/2012</th>\n",
       "      <td>331.27</td>\n",
       "      <td>333.87</td>\n",
       "      <td>329.08</td>\n",
       "      <td>666.45</td>\n",
       "      <td>5,749,400</td>\n",
       "      <td>2012-01-04</td>\n",
       "    </tr>\n",
       "    <tr>\n",
       "      <th>1/5/2012</th>\n",
       "      <td>329.83</td>\n",
       "      <td>330.75</td>\n",
       "      <td>326.89</td>\n",
       "      <td>657.21</td>\n",
       "      <td>6,590,300</td>\n",
       "      <td>2012-01-05</td>\n",
       "    </tr>\n",
       "    <tr>\n",
       "      <th>1/6/2012</th>\n",
       "      <td>328.34</td>\n",
       "      <td>328.77</td>\n",
       "      <td>323.68</td>\n",
       "      <td>648.24</td>\n",
       "      <td>5,405,900</td>\n",
       "      <td>2012-01-06</td>\n",
       "    </tr>\n",
       "    <tr>\n",
       "      <th>1/9/2012</th>\n",
       "      <td>322.04</td>\n",
       "      <td>322.29</td>\n",
       "      <td>309.46</td>\n",
       "      <td>620.76</td>\n",
       "      <td>11,688,800</td>\n",
       "      <td>2012-01-09</td>\n",
       "    </tr>\n",
       "  </tbody>\n",
       "</table>\n",
       "</div>"
      ],
      "text/plain": [
       "            Open    High     Low   Close      Volume parsed_date\n",
       "Date                                                            \n",
       "1/3/2012  325.25  332.83  324.97  663.59   7,380,500  2012-01-03\n",
       "1/4/2012  331.27  333.87  329.08  666.45   5,749,400  2012-01-04\n",
       "1/5/2012  329.83  330.75  326.89  657.21   6,590,300  2012-01-05\n",
       "1/6/2012  328.34  328.77  323.68  648.24   5,405,900  2012-01-06\n",
       "1/9/2012  322.04  322.29  309.46  620.76  11,688,800  2012-01-09"
      ]
     },
     "execution_count": 52,
     "metadata": {},
     "output_type": "execute_result"
    }
   ],
   "source": [
    "df.head()"
   ]
  },
  {
   "cell_type": "code",
   "execution_count": 53,
   "metadata": {},
   "outputs": [
    {
     "data": {
      "text/plain": [
       "<matplotlib.axes._subplots.AxesSubplot at 0x116f67460>"
      ]
     },
     "execution_count": 53,
     "metadata": {},
     "output_type": "execute_result"
    },
    {
     "data": {
      "image/png": "[encoded data removed]",
      "text/plain": [
       "<Figure size 432x288 with 1 Axes>"
      ]
     },
     "metadata": {
      "needs_background": "light"
     },
     "output_type": "display_data"
    }
   ],
   "source": [
    "df[df]['Open'].astype(float).plot()"
   ]
  },
  {
   "cell_type": "code",
   "execution_count": 54,
   "metadata": {},
   "outputs": [],
   "source": [
    "df.reset_index(inplace = True)"
   ]
  },
  {
   "cell_type": "markdown",
   "metadata": {},
   "source": [
    "### Date parsing"
   ]
  },
  {
   "cell_type": "code",
   "execution_count": 55,
   "metadata": {},
   "outputs": [],
   "source": [
    "def timestamp_processing(df,timestamp_column, list_granularity = ['year','month','weekday','hour','minute']):\n",
    "    df[timestamp_column] = df.apply(lambda row: dateparser.parse(row[timestamp_column], parserinfo=date_parser_info, dayfirst = False),axis = 1)\n",
    "    df['date_only'] = df[timestamp_column].apply(lambda row: row.date())\n",
    "    \n",
    "    # Creating column to isolate specific timestamps\n",
    "    if \"year\" in list_granularity: \n",
    "        df['year'] = df[timestamp_column].apply(lambda row: row.year)\n",
    "    if \"month\" in list_granularity: \n",
    "        df['month'] = df[timestamp_column].apply(lambda row: row.month)\n",
    "    if \"weekday\" in list_granularity: \n",
    "        df['weekday'] = df[timestamp_column].apply(lambda row: row.weekday())\n",
    "        df['weekend'] = 0\n",
    "        df.loc[df.weekday > 4, 'weekend'] = 1\n",
    "    if \"hour\" in list_granularity: \n",
    "        df['hour'] = df[timestamp_column].apply(lambda row: row.hour)\n",
    "    if \"minute\" in list_granularity:\n",
    "        df['minute'] = df[timestamp_column].apply(lambda row: row.minute)\n",
    "    return df"
   ]
  },
  {
   "cell_type": "code",
   "execution_count": 56,
   "metadata": {},
   "outputs": [],
   "source": [
    "df = timestamp_processing(df,'Date')"
   ]
  },
  {
   "cell_type": "code",
   "execution_count": 57,
   "metadata": {},
   "outputs": [
    {
     "data": {
      "text/html": [
       "<div>\n",
       "<style scoped>\n",
       "    .dataframe tbody tr th:only-of-type {\n",
       "        vertical-align: middle;\n",
       "    }\n",
       "\n",
       "    .dataframe tbody tr th {\n",
       "        vertical-align: top;\n",
       "    }\n",
       "\n",
       "    .dataframe thead th {\n",
       "        text-align: right;\n",
       "    }\n",
       "</style>\n",
       "<table border=\"1\" class=\"dataframe\">\n",
       "  <thead>\n",
       "    <tr style=\"text-align: right;\">\n",
       "      <th></th>\n",
       "      <th>Date</th>\n",
       "      <th>Open</th>\n",
       "      <th>High</th>\n",
       "      <th>Low</th>\n",
       "      <th>Close</th>\n",
       "      <th>Volume</th>\n",
       "      <th>parsed_date</th>\n",
       "      <th>date_only</th>\n",
       "      <th>year</th>\n",
       "      <th>month</th>\n",
       "      <th>weekday</th>\n",
       "      <th>weekend</th>\n",
       "      <th>hour</th>\n",
       "      <th>minute</th>\n",
       "    </tr>\n",
       "  </thead>\n",
       "  <tbody>\n",
       "    <tr>\n",
       "      <th>0</th>\n",
       "      <td>2012-01-03</td>\n",
       "      <td>325.25</td>\n",
       "      <td>332.83</td>\n",
       "      <td>324.97</td>\n",
       "      <td>663.59</td>\n",
       "      <td>7,380,500</td>\n",
       "      <td>2012-01-03</td>\n",
       "      <td>2012-01-03</td>\n",
       "      <td>2012</td>\n",
       "      <td>1</td>\n",
       "      <td>1</td>\n",
       "      <td>0</td>\n",
       "      <td>0</td>\n",
       "      <td>0</td>\n",
       "    </tr>\n",
       "    <tr>\n",
       "      <th>1</th>\n",
       "      <td>2012-01-04</td>\n",
       "      <td>331.27</td>\n",
       "      <td>333.87</td>\n",
       "      <td>329.08</td>\n",
       "      <td>666.45</td>\n",
       "      <td>5,749,400</td>\n",
       "      <td>2012-01-04</td>\n",
       "      <td>2012-01-04</td>\n",
       "      <td>2012</td>\n",
       "      <td>1</td>\n",
       "      <td>2</td>\n",
       "      <td>0</td>\n",
       "      <td>0</td>\n",
       "      <td>0</td>\n",
       "    </tr>\n",
       "    <tr>\n",
       "      <th>2</th>\n",
       "      <td>2012-01-05</td>\n",
       "      <td>329.83</td>\n",
       "      <td>330.75</td>\n",
       "      <td>326.89</td>\n",
       "      <td>657.21</td>\n",
       "      <td>6,590,300</td>\n",
       "      <td>2012-01-05</td>\n",
       "      <td>2012-01-05</td>\n",
       "      <td>2012</td>\n",
       "      <td>1</td>\n",
       "      <td>3</td>\n",
       "      <td>0</td>\n",
       "      <td>0</td>\n",
       "      <td>0</td>\n",
       "    </tr>\n",
       "    <tr>\n",
       "      <th>3</th>\n",
       "      <td>2012-01-06</td>\n",
       "      <td>328.34</td>\n",
       "      <td>328.77</td>\n",
       "      <td>323.68</td>\n",
       "      <td>648.24</td>\n",
       "      <td>5,405,900</td>\n",
       "      <td>2012-01-06</td>\n",
       "      <td>2012-01-06</td>\n",
       "      <td>2012</td>\n",
       "      <td>1</td>\n",
       "      <td>4</td>\n",
       "      <td>0</td>\n",
       "      <td>0</td>\n",
       "      <td>0</td>\n",
       "    </tr>\n",
       "    <tr>\n",
       "      <th>4</th>\n",
       "      <td>2012-01-09</td>\n",
       "      <td>322.04</td>\n",
       "      <td>322.29</td>\n",
       "      <td>309.46</td>\n",
       "      <td>620.76</td>\n",
       "      <td>11,688,800</td>\n",
       "      <td>2012-01-09</td>\n",
       "      <td>2012-01-09</td>\n",
       "      <td>2012</td>\n",
       "      <td>1</td>\n",
       "      <td>0</td>\n",
       "      <td>0</td>\n",
       "      <td>0</td>\n",
       "      <td>0</td>\n",
       "    </tr>\n",
       "  </tbody>\n",
       "</table>\n",
       "</div>"
      ],
      "text/plain": [
       "        Date    Open    High     Low   Close      Volume parsed_date  \\\n",
       "0 2012-01-03  325.25  332.83  324.97  663.59   7,380,500  2012-01-03   \n",
       "1 2012-01-04  331.27  333.87  329.08  666.45   5,749,400  2012-01-04   \n",
       "2 2012-01-05  329.83  330.75  326.89  657.21   6,590,300  2012-01-05   \n",
       "3 2012-01-06  328.34  328.77  323.68  648.24   5,405,900  2012-01-06   \n",
       "4 2012-01-09  322.04  322.29  309.46  620.76  11,688,800  2012-01-09   \n",
       "\n",
       "    date_only  year  month  weekday  weekend  hour  minute  \n",
       "0  2012-01-03  2012      1        1        0     0       0  \n",
       "1  2012-01-04  2012      1        2        0     0       0  \n",
       "2  2012-01-05  2012      1        3        0     0       0  \n",
       "3  2012-01-06  2012      1        4        0     0       0  \n",
       "4  2012-01-09  2012      1        0        0     0       0  "
      ]
     },
     "execution_count": 57,
     "metadata": {},
     "output_type": "execute_result"
    }
   ],
   "source": [
    "df.head()"
   ]
  },
  {
   "cell_type": "markdown",
   "metadata": {},
   "source": [
    "jan feb mar apr may jun jul aug sep oct nov dec"
   ]
  },
  {
   "cell_type": "markdown",
   "metadata": {},
   "source": [
    "### Granularity"
   ]
  },
  {
   "cell_type": "code",
   "execution_count": 130,
   "metadata": {},
   "outputs": [],
   "source": [
    "min_threshold_dic = {'month':{'threshold':3,'max':12},'weekday':{'threshold':5,'max':7},'hour':{'threshold':6,'max':24},'minute':{'threshold':30,'max':60}}"
   ]
  },
  {
   "cell_type": "code",
   "execution_count": 131,
   "metadata": {},
   "outputs": [],
   "source": [
    "def identify_ideal_granularity_visualisation(df, min_threshold_dic):\n",
    "    list_granularity_option = ['year','month','weekday','hour']# ,'seconds','other',\n",
    "    scales = {}\n",
    "    \n",
    "    def _check_nbr_consecutive_elements(nbr_consecutive_elements, scale, scales):\n",
    "        if nbr_consecutive_elements >= min_threshold_dic[scale]['threshold']:\n",
    "            \n",
    "            ratio = float(nbr_consecutive_elements/min_threshold_dic[scale]['max'])\n",
    "            scales[scale] = {'consecutive_nbr':nbr_consecutive_elements, 'ratio':ratio}\n",
    "        return scales \n",
    "    \n",
    "    def _check_cycle_threshold(df, element, scales):\n",
    "        list_unique_elements = sorted(df[element].unique())\n",
    "        nbr_consecutive_elements = 0\n",
    "\n",
    "        for element_value in list_unique_elements:\n",
    "              # Doesn't handle the case where we have 2020-01, 2020-02, 2020-03, 2020-12, will consider that 2020-12 is part of 2019, and therefore the months consecutive\n",
    "            try: \n",
    "                # Checking that the two months are consecutive\n",
    "                if element_value+1 == list_unique_elements[list_unique_elements.index(element_value)+1]:\n",
    "                    nbr_consecutive_elements +=1\n",
    "                # restarting the counter and keep searching for consecutive months\n",
    "                else:\n",
    "                    nbr_consecutive_elements = 0\n",
    "\n",
    "            # Excluding last month that cause an out of range error\n",
    "            except IndexError: \n",
    "                nbr_consecutive_elements +=1\n",
    "            # Checking if at this point (not at the end of the list of unique month, days etc yet) we have enough consecutive element to validate this scale \n",
    "            scales = _check_nbr_consecutive_elements(nbr_consecutive_elements, element, scales)\n",
    "        # if we managed to get to the end of the list of elements to check without issue, check that we have found enough to validate the scale\n",
    "        scales = _check_nbr_consecutive_elements(nbr_consecutive_elements, element, scales)\n",
    "        \n",
    "        return scales\n",
    "    \n",
    "    for scale in list_granularity_option:\n",
    "        # Check that there is a cycle (i.e. minimum of two elements)\n",
    "        if len(df[scale].unique()) > 2:\n",
    "            # Check that at least threshold of the cycle is represented\n",
    "            # except for Year that doesn't require a minimum threshold (12 months make a year cycle but no minimum number of year make a cycle - assuming we don't care about decades)\n",
    "            if scale =='year':\n",
    "                scales['year'] = {'consecutive_nbr':len(df[scale].unique()), 'ratio':1}\n",
    "            \n",
    "            elif scale == 'month':\n",
    "                _check_cycle_threshold(df, scale, scales)\n",
    "                \n",
    "            elif scale == 'weekday':\n",
    "                _check_cycle_threshold(df, scale, scales)\n",
    "                \n",
    "            elif scale == 'hour':\n",
    "                _check_cycle_threshold(df, scale, scales)\n",
    "            \n",
    "            elif scale == 'minute':\n",
    "                _check_cycle_threshold(df, scale, scales)\n",
    "                            \n",
    "    return scales"
   ]
  },
  {
   "cell_type": "code",
   "execution_count": 132,
   "metadata": {},
   "outputs": [],
   "source": [
    "highest_scale = identify_ideal_granularity_visualisation(df, min_threshold_dic)"
   ]
  },
  {
   "cell_type": "code",
   "execution_count": 133,
   "metadata": {},
   "outputs": [
    {
     "data": {
      "text/plain": [
       "{'year': {'consecutive_nbr': 5, 'ratio': 1},\n",
       " 'month': {'consecutive_nbr': 12, 'ratio': 1.0},\n",
       " 'weekday': {'consecutive_nbr': 5, 'ratio': 0.7142857142857143}}"
      ]
     },
     "execution_count": 133,
     "metadata": {},
     "output_type": "execute_result"
    }
   ],
   "source": [
    "highest_scale"
   ]
  },
  {
   "cell_type": "markdown",
   "metadata": {},
   "source": [
    "### Biggest Gains / Drop (by time level) "
   ]
  },
  {
   "cell_type": "markdown",
   "metadata": {},
   "source": [
    "- Biggest weekly growth\n",
    "- biggest monthly growth \n",
    "- biggest yearly growth"
   ]
  },
  {
   "cell_type": "code",
   "execution_count": 63,
   "metadata": {},
   "outputs": [],
   "source": [
    "df.set_index(date_column,inplace = True)"
   ]
  },
  {
   "cell_type": "markdown",
   "metadata": {},
   "source": [
    "### Biggest Growth / Decrease (regardless of the time)"
   ]
  },
  {
   "cell_type": "code",
   "execution_count": 90,
   "metadata": {},
   "outputs": [
    {
     "data": {
      "text/html": [
       "<div>\n",
       "<style scoped>\n",
       "    .dataframe tbody tr th:only-of-type {\n",
       "        vertical-align: middle;\n",
       "    }\n",
       "\n",
       "    .dataframe tbody tr th {\n",
       "        vertical-align: top;\n",
       "    }\n",
       "\n",
       "    .dataframe thead th {\n",
       "        text-align: right;\n",
       "    }\n",
       "</style>\n",
       "<table border=\"1\" class=\"dataframe\">\n",
       "  <thead>\n",
       "    <tr style=\"text-align: right;\">\n",
       "      <th></th>\n",
       "      <th>Open</th>\n",
       "      <th>High</th>\n",
       "      <th>Low</th>\n",
       "      <th>Close</th>\n",
       "      <th>Volume</th>\n",
       "      <th>parsed_date</th>\n",
       "      <th>date_only</th>\n",
       "      <th>year</th>\n",
       "      <th>month</th>\n",
       "      <th>weekday</th>\n",
       "      <th>weekend</th>\n",
       "      <th>hour</th>\n",
       "      <th>minute</th>\n",
       "    </tr>\n",
       "    <tr>\n",
       "      <th>Date</th>\n",
       "      <th></th>\n",
       "      <th></th>\n",
       "      <th></th>\n",
       "      <th></th>\n",
       "      <th></th>\n",
       "      <th></th>\n",
       "      <th></th>\n",
       "      <th></th>\n",
       "      <th></th>\n",
       "      <th></th>\n",
       "      <th></th>\n",
       "      <th></th>\n",
       "      <th></th>\n",
       "    </tr>\n",
       "  </thead>\n",
       "  <tbody>\n",
       "    <tr>\n",
       "      <th>2012-01-03</th>\n",
       "      <td>325.25</td>\n",
       "      <td>332.83</td>\n",
       "      <td>324.97</td>\n",
       "      <td>663.59</td>\n",
       "      <td>7,380,500</td>\n",
       "      <td>2012-01-03</td>\n",
       "      <td>2012-01-03</td>\n",
       "      <td>2012</td>\n",
       "      <td>1</td>\n",
       "      <td>1</td>\n",
       "      <td>0</td>\n",
       "      <td>0</td>\n",
       "      <td>0</td>\n",
       "    </tr>\n",
       "    <tr>\n",
       "      <th>2012-01-04</th>\n",
       "      <td>331.27</td>\n",
       "      <td>333.87</td>\n",
       "      <td>329.08</td>\n",
       "      <td>666.45</td>\n",
       "      <td>5,749,400</td>\n",
       "      <td>2012-01-04</td>\n",
       "      <td>2012-01-04</td>\n",
       "      <td>2012</td>\n",
       "      <td>1</td>\n",
       "      <td>2</td>\n",
       "      <td>0</td>\n",
       "      <td>0</td>\n",
       "      <td>0</td>\n",
       "    </tr>\n",
       "    <tr>\n",
       "      <th>2012-01-05</th>\n",
       "      <td>329.83</td>\n",
       "      <td>330.75</td>\n",
       "      <td>326.89</td>\n",
       "      <td>657.21</td>\n",
       "      <td>6,590,300</td>\n",
       "      <td>2012-01-05</td>\n",
       "      <td>2012-01-05</td>\n",
       "      <td>2012</td>\n",
       "      <td>1</td>\n",
       "      <td>3</td>\n",
       "      <td>0</td>\n",
       "      <td>0</td>\n",
       "      <td>0</td>\n",
       "    </tr>\n",
       "    <tr>\n",
       "      <th>2012-01-06</th>\n",
       "      <td>328.34</td>\n",
       "      <td>328.77</td>\n",
       "      <td>323.68</td>\n",
       "      <td>648.24</td>\n",
       "      <td>5,405,900</td>\n",
       "      <td>2012-01-06</td>\n",
       "      <td>2012-01-06</td>\n",
       "      <td>2012</td>\n",
       "      <td>1</td>\n",
       "      <td>4</td>\n",
       "      <td>0</td>\n",
       "      <td>0</td>\n",
       "      <td>0</td>\n",
       "    </tr>\n",
       "    <tr>\n",
       "      <th>2012-01-09</th>\n",
       "      <td>322.04</td>\n",
       "      <td>322.29</td>\n",
       "      <td>309.46</td>\n",
       "      <td>620.76</td>\n",
       "      <td>11,688,800</td>\n",
       "      <td>2012-01-09</td>\n",
       "      <td>2012-01-09</td>\n",
       "      <td>2012</td>\n",
       "      <td>1</td>\n",
       "      <td>0</td>\n",
       "      <td>0</td>\n",
       "      <td>0</td>\n",
       "      <td>0</td>\n",
       "    </tr>\n",
       "  </tbody>\n",
       "</table>\n",
       "</div>"
      ],
      "text/plain": [
       "              Open    High     Low   Close      Volume parsed_date  \\\n",
       "Date                                                                 \n",
       "2012-01-03  325.25  332.83  324.97  663.59   7,380,500  2012-01-03   \n",
       "2012-01-04  331.27  333.87  329.08  666.45   5,749,400  2012-01-04   \n",
       "2012-01-05  329.83  330.75  326.89  657.21   6,590,300  2012-01-05   \n",
       "2012-01-06  328.34  328.77  323.68  648.24   5,405,900  2012-01-06   \n",
       "2012-01-09  322.04  322.29  309.46  620.76  11,688,800  2012-01-09   \n",
       "\n",
       "             date_only  year  month  weekday  weekend  hour  minute  \n",
       "Date                                                                 \n",
       "2012-01-03  2012-01-03  2012      1        1        0     0       0  \n",
       "2012-01-04  2012-01-04  2012      1        2        0     0       0  \n",
       "2012-01-05  2012-01-05  2012      1        3        0     0       0  \n",
       "2012-01-06  2012-01-06  2012      1        4        0     0       0  \n",
       "2012-01-09  2012-01-09  2012      1        0        0     0       0  "
      ]
     },
     "execution_count": 90,
     "metadata": {},
     "output_type": "execute_result"
    }
   ],
   "source": [
    "df.head()"
   ]
  },
  {
   "cell_type": "code",
   "execution_count": 296,
   "metadata": {},
   "outputs": [],
   "source": [
    "def find_largest_decrease(df,column_of_interest,display_top_x_values = 10, rolling = 1):\n",
    "\n",
    "    start = 0\n",
    "    end = 0\n",
    "    max_start = 0 \n",
    "    max_end = 0\n",
    "    diff_end_start_values = 0\n",
    "\n",
    "    all_consecutive_decrease = {}\n",
    "    \n",
    "    rol_mean = df[column_of_interest].astype(float).rolling(rolling).mean()\n",
    "    col = [value for value in list(rol_mean) if str(value) != 'nan']\n",
    "    rol_mean.plot()\n",
    "\n",
    "    for i in range(0,len(col)-1):\n",
    "\n",
    "        if col[i] > col[i+1]:\n",
    "            end = i+1\n",
    "            \n",
    "        else:\n",
    "            diff_start_end_values = col[start] - col[end]\n",
    "            all_consecutive_decrease[(start,end)] = diff_start_end_values\n",
    "            start = i+1 \n",
    "            end = i+1\n",
    "            \n",
    "    return sorted(all_consecutive_decrease.items(), key=lambda x: x[1], reverse=True)[:display_top_x_values]"
   ]
  },
  {
   "cell_type": "code",
   "execution_count": 299,
   "metadata": {},
   "outputs": [
    {
     "data": {
      "text/plain": [
       "[((528, 571), 72.03633333333357),\n",
       " ((660, 699), 40.292333333333204),\n",
       " ((173, 203), 31.129333333333363),\n",
       " ((1053, 1083), 29.343999999999937),\n",
       " ((706, 738), 27.623999999999796),\n",
       " ((44, 104), 27.608999999999867),\n",
       " ((998, 1015), 26.681333333333555),\n",
       " ((978, 995), 20.96766666666656),\n",
       " ((1194, 1216), 17.806333333333555),\n",
       " ((903, 915), 13.89133333333325)]"
      ]
     },
     "execution_count": 299,
     "metadata": {},
     "output_type": "execute_result"
    },
    {
     "data": {
      "image/png": "[encoded data removed]",
      "text/plain": [
       "<Figure size 432x288 with 1 Axes>"
      ]
     },
     "metadata": {
      "needs_background": "light"
     },
     "output_type": "display_data"
    }
   ],
   "source": [
    "top_10 = find_largest_decrease(df,column_of_interest,rolling = 30) # TO DO - set the rolling systematically\n",
    "top_10"
   ]
  },
  {
   "cell_type": "code",
   "execution_count": 294,
   "metadata": {},
   "outputs": [],
   "source": [
    "def find_largest_growth(df,column_of_interest,display_top_x_values = 10, rolling = 1):\n",
    "    \n",
    "    start = 0\n",
    "    end = 0\n",
    "    max_start = 0 \n",
    "    max_end = 0\n",
    "    diff_end_start_values = 0\n",
    "    \n",
    "    all_consecutive_increase = {}\n",
    "    \n",
    "    rol_mean = df[column_of_interest].astype(float).rolling(rolling).mean()\n",
    "    col = [value for value in list(rol_mean) if str(value) != 'nan']\n",
    "    rol_mean.plot()\n",
    "    \n",
    "    for i in range(0,len(col)-1):\n",
    "\n",
    "        if col[i] < col[i+1]:\n",
    "            end = i+1\n",
    "\n",
    "        else:\n",
    "            diff_end_start_values = col[end] - col[start]\n",
    "            all_consecutive_increase[(start,end)] = diff_end_start_values\n",
    "            start = i+1 \n",
    "            end = i+1\n",
    "    \n",
    "    return sorted(all_consecutive_increase.items(), key=lambda x: x[1], reverse=True)[:display_top_x_values]"
   ]
  },
  {
   "cell_type": "code",
   "execution_count": 295,
   "metadata": {},
   "outputs": [
    {
     "data": {
      "text/plain": [
       "[((874, 889), 115.25166666666655),\n",
       " ((933, 958), 98.99666666666667),\n",
       " ((1123, 1156), 91.136666666667),\n",
       " ((121, 184), 89.66749999999985),\n",
       " ((436, 455), 76.64916666666659),\n",
       " ((463, 506), 63.21916666666681),\n",
       " ((314, 340), 53.35833333333346),\n",
       " ((252, 292), 48.92083333333318),\n",
       " ((959, 979), 38.73583333333386),\n",
       " ((606, 635), 37.539166666666574),\n",
       " ((1040, 1058), 36.504166666666606),\n",
       " ((770, 792), 36.44999999999993),\n",
       " ((515, 537), 34.79166666666674),\n",
       " ((215, 250), 34.42750000000001),\n",
       " ((586, 602), 34.10000000000002),\n",
       " ((1230, 1244), 30.853333333333353),\n",
       " ((756, 768), 21.90999999999991),\n",
       " ((1085, 1105), 20.84916666666686),\n",
       " ((894, 903), 19.837499999999977),\n",
       " ((1011, 1018), 18.90750000000014)]"
      ]
     },
     "execution_count": 295,
     "metadata": {},
     "output_type": "execute_result"
    },
    {
     "data": {
      "image/png": "[encoded data removed]",
      "text/plain": [
       "<Figure size 432x288 with 1 Axes>"
      ]
     },
     "metadata": {
      "needs_background": "light"
     },
     "output_type": "display_data"
    }
   ],
   "source": [
    "top_11 = find_largest_growth(df,column_of_interest,display_top_x_values=20, rolling = 12) # TO DO - set the rolling systematically\n",
    "top_11"
   ]
  },
  {
   "cell_type": "markdown",
   "metadata": {},
   "source": [
    "### Moving average"
   ]
  },
  {
   "cell_type": "code",
   "execution_count": 300,
   "metadata": {},
   "outputs": [
    {
     "data": {
      "text/plain": [
       "<matplotlib.axes._subplots.AxesSubplot at 0x11982e610>"
      ]
     },
     "execution_count": 300,
     "metadata": {},
     "output_type": "execute_result"
    },
    {
     "data": {
      "image/png": "[encoded data removed]",
      "text/plain": [
       "<Figure size 432x288 with 1 Axes>"
      ]
     },
     "metadata": {
      "needs_background": "light"
     },
     "output_type": "display_data"
    }
   ],
   "source": [
    "df[column_of_interest].astype(float).rolling(1).mean().plot()\n",
    "df[column_of_interest].astype(float).rolling(60).mean().plot()"
   ]
  },
  {
   "cell_type": "code",
   "execution_count": null,
   "metadata": {},
   "outputs": [],
   "source": []
  },
  {
   "cell_type": "markdown",
   "metadata": {},
   "source": [
    "else:\n",
    "            if col[end] - col[start] > diff_end_start_values:\n",
    "                max_start = start\n",
    "                max_end = end\n",
    "                diff_end_start_values = col[end] - col[start]\n",
    "                all_consecutive_increase[(max_start,max_end)] = diff_end_start_values\n",
    "                start = i+1 \n",
    "                end = i+1\n",
    "                diff_end_start_values = 0\n"
   ]
  },
  {
   "cell_type": "markdown",
   "metadata": {},
   "source": [
    "- Date parser # DONE\n",
    "- Granularity figure out [seconds, minutes, hours, days, months, year] Whenever two consecutive are provided and start by the highest, knowning that at least 30% of a full unit (i.e. 4 months, 2 weeks, 3 days , 8 hours) must be provided to select the granularity level. # DONE\n",
    "\n",
    "- Then, select the next level as a measure / groupby.\n",
    "\n",
    "- biggest drop, Gains, for the 2nd highest scale possible\n",
    "\n",
    "- Find date column\n",
    "- Handle convertion of number string column to int and float example '1,999.9' to float(1999.9)\n",
    "- Work on how to detect Column of interest / of measurement\n",
    "- Biggest growth, decrease, normalized by the size\n",
    "- most predictable lags by the ACF\n",
    "- Fit a regression, the r2 (explained variance) the fewest # of params\n",
    "- rolling averages\n",
    "- reset_index systematically\n",
    "..."
   ]
  },
  {
   "cell_type": "code",
   "execution_count": null,
   "metadata": {},
   "outputs": [],
   "source": []
  }
 ],
 "metadata": {
  "kernelspec": {
   "display_name": "auto_bi",
   "language": "python",
   "name": "auto_bi"
  },
  "language_info": {
   "codemirror_mode": {
    "name": "ipython",
    "version": 3
   },
   "file_extension": ".py",
   "mimetype": "text/x-python",
   "name": "python",
   "nbconvert_exporter": "python",
   "pygments_lexer": "ipython3",
   "version": "3.8.1"
  }
 },
 "nbformat": 4,
 "nbformat_minor": 4
}
