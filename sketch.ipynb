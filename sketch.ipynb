{
 "cells": [
  {
   "cell_type": "code",
   "execution_count": 1,
   "metadata": {},
   "outputs": [],
   "source": [
    "import pandas as pd\n",
    "import matplotlib.pyplot as plt\n",
    "import numpy as np\n",
    "import math as m\n",
    "import itertools\n",
    "import seaborn as sns\n",
    "import random "
   ]
  },
  {
   "cell_type": "markdown",
   "metadata": {},
   "source": [
    "## Input"
   ]
  },
  {
   "cell_type": "code",
   "execution_count": 2,
   "metadata": {},
   "outputs": [],
   "source": [
    "df = pd.read_csv(\"dataset/titanic.csv\")\n",
    "target = \"Survived\" \n",
    "target_objective = \"binary\",\"maximise\",\"minimise\",\"multiple, maximise / minimise\", \"number_of_rows\" \"etc\" \n",
    "categorical_columns = ['Pclass','Sex','SibSp','Embarked']\n",
    "numerical_col = ['Age','Fare']\n",
    "numerical_values_bining_quantile_nbr = 5"
   ]
  },
  {
   "cell_type": "markdown",
   "metadata": {},
   "source": [
    "## Isolate Categorical and Numerical Features"
   ]
  },
  {
   "cell_type": "code",
   "execution_count": 72,
   "metadata": {},
   "outputs": [],
   "source": [
    "categorical = list(df.select_dtypes(include = ['object']).columns)"
   ]
  },
  {
   "cell_type": "code",
   "execution_count": 73,
   "metadata": {},
   "outputs": [
    {
     "data": {
      "text/plain": [
       "['Name', 'Sex', 'Ticket', 'Cabin', 'Embarked']"
      ]
     },
     "execution_count": 73,
     "metadata": {},
     "output_type": "execute_result"
    }
   ],
   "source": [
    "categorical"
   ]
  },
  {
   "cell_type": "markdown",
   "metadata": {},
   "source": [
    "## Basic KPIs"
   ]
  },
  {
   "cell_type": "code",
   "execution_count": 3,
   "metadata": {},
   "outputs": [
    {
     "data": {
      "text/plain": [
       "(891, 12)"
      ]
     },
     "execution_count": 3,
     "metadata": {},
     "output_type": "execute_result"
    }
   ],
   "source": [
    "df_shape = df.shape\n",
    "df_shape"
   ]
  },
  {
   "cell_type": "code",
   "execution_count": 4,
   "metadata": {},
   "outputs": [
    {
     "data": {
      "text/plain": [
       "['PassengerId',\n",
       " 'Survived',\n",
       " 'Pclass',\n",
       " 'Name',\n",
       " 'Sex',\n",
       " 'Age',\n",
       " 'SibSp',\n",
       " 'Parch',\n",
       " 'Ticket',\n",
       " 'Fare',\n",
       " 'Cabin',\n",
       " 'Embarked']"
      ]
     },
     "execution_count": 4,
     "metadata": {},
     "output_type": "execute_result"
    }
   ],
   "source": [
    "list_columns = df.columns.to_list()\n",
    "list_columns"
   ]
  },
  {
   "cell_type": "code",
   "execution_count": 5,
   "metadata": {},
   "outputs": [
    {
     "data": {
      "text/html": [
       "<div>\n",
       "<style scoped>\n",
       "    .dataframe tbody tr th:only-of-type {\n",
       "        vertical-align: middle;\n",
       "    }\n",
       "\n",
       "    .dataframe tbody tr th {\n",
       "        vertical-align: top;\n",
       "    }\n",
       "\n",
       "    .dataframe thead th {\n",
       "        text-align: right;\n",
       "    }\n",
       "</style>\n",
       "<table border=\"1\" class=\"dataframe\">\n",
       "  <thead>\n",
       "    <tr style=\"text-align: right;\">\n",
       "      <th></th>\n",
       "      <th>PassengerId</th>\n",
       "      <th>Survived</th>\n",
       "      <th>Pclass</th>\n",
       "      <th>Name</th>\n",
       "      <th>Sex</th>\n",
       "      <th>Age</th>\n",
       "      <th>SibSp</th>\n",
       "      <th>Parch</th>\n",
       "      <th>Ticket</th>\n",
       "      <th>Fare</th>\n",
       "      <th>Cabin</th>\n",
       "      <th>Embarked</th>\n",
       "    </tr>\n",
       "  </thead>\n",
       "  <tbody>\n",
       "    <tr>\n",
       "      <th>0</th>\n",
       "      <td>1</td>\n",
       "      <td>0</td>\n",
       "      <td>3</td>\n",
       "      <td>Braund, Mr. Owen Harris</td>\n",
       "      <td>male</td>\n",
       "      <td>22.0</td>\n",
       "      <td>1</td>\n",
       "      <td>0</td>\n",
       "      <td>A/5 21171</td>\n",
       "      <td>7.2500</td>\n",
       "      <td>NaN</td>\n",
       "      <td>S</td>\n",
       "    </tr>\n",
       "    <tr>\n",
       "      <th>1</th>\n",
       "      <td>2</td>\n",
       "      <td>1</td>\n",
       "      <td>1</td>\n",
       "      <td>Cumings, Mrs. John Bradley (Florence Briggs Th...</td>\n",
       "      <td>female</td>\n",
       "      <td>38.0</td>\n",
       "      <td>1</td>\n",
       "      <td>0</td>\n",
       "      <td>PC 17599</td>\n",
       "      <td>71.2833</td>\n",
       "      <td>C85</td>\n",
       "      <td>C</td>\n",
       "    </tr>\n",
       "    <tr>\n",
       "      <th>2</th>\n",
       "      <td>3</td>\n",
       "      <td>1</td>\n",
       "      <td>3</td>\n",
       "      <td>Heikkinen, Miss. Laina</td>\n",
       "      <td>female</td>\n",
       "      <td>26.0</td>\n",
       "      <td>0</td>\n",
       "      <td>0</td>\n",
       "      <td>STON/O2. 3101282</td>\n",
       "      <td>7.9250</td>\n",
       "      <td>NaN</td>\n",
       "      <td>S</td>\n",
       "    </tr>\n",
       "    <tr>\n",
       "      <th>3</th>\n",
       "      <td>4</td>\n",
       "      <td>1</td>\n",
       "      <td>1</td>\n",
       "      <td>Futrelle, Mrs. Jacques Heath (Lily May Peel)</td>\n",
       "      <td>female</td>\n",
       "      <td>35.0</td>\n",
       "      <td>1</td>\n",
       "      <td>0</td>\n",
       "      <td>113803</td>\n",
       "      <td>53.1000</td>\n",
       "      <td>C123</td>\n",
       "      <td>S</td>\n",
       "    </tr>\n",
       "    <tr>\n",
       "      <th>4</th>\n",
       "      <td>5</td>\n",
       "      <td>0</td>\n",
       "      <td>3</td>\n",
       "      <td>Allen, Mr. William Henry</td>\n",
       "      <td>male</td>\n",
       "      <td>35.0</td>\n",
       "      <td>0</td>\n",
       "      <td>0</td>\n",
       "      <td>373450</td>\n",
       "      <td>8.0500</td>\n",
       "      <td>NaN</td>\n",
       "      <td>S</td>\n",
       "    </tr>\n",
       "  </tbody>\n",
       "</table>\n",
       "</div>"
      ],
      "text/plain": [
       "   PassengerId  Survived  Pclass  \\\n",
       "0            1         0       3   \n",
       "1            2         1       1   \n",
       "2            3         1       3   \n",
       "3            4         1       1   \n",
       "4            5         0       3   \n",
       "\n",
       "                                                Name     Sex   Age  SibSp  \\\n",
       "0                            Braund, Mr. Owen Harris    male  22.0      1   \n",
       "1  Cumings, Mrs. John Bradley (Florence Briggs Th...  female  38.0      1   \n",
       "2                             Heikkinen, Miss. Laina  female  26.0      0   \n",
       "3       Futrelle, Mrs. Jacques Heath (Lily May Peel)  female  35.0      1   \n",
       "4                           Allen, Mr. William Henry    male  35.0      0   \n",
       "\n",
       "   Parch            Ticket     Fare Cabin Embarked  \n",
       "0      0         A/5 21171   7.2500   NaN        S  \n",
       "1      0          PC 17599  71.2833   C85        C  \n",
       "2      0  STON/O2. 3101282   7.9250   NaN        S  \n",
       "3      0            113803  53.1000  C123        S  \n",
       "4      0            373450   8.0500   NaN        S  "
      ]
     },
     "execution_count": 5,
     "metadata": {},
     "output_type": "execute_result"
    }
   ],
   "source": [
    "df.head()"
   ]
  },
  {
   "cell_type": "code",
   "execution_count": 6,
   "metadata": {},
   "outputs": [
    {
     "data": {
      "text/html": [
       "<div>\n",
       "<style scoped>\n",
       "    .dataframe tbody tr th:only-of-type {\n",
       "        vertical-align: middle;\n",
       "    }\n",
       "\n",
       "    .dataframe tbody tr th {\n",
       "        vertical-align: top;\n",
       "    }\n",
       "\n",
       "    .dataframe thead th {\n",
       "        text-align: right;\n",
       "    }\n",
       "</style>\n",
       "<table border=\"1\" class=\"dataframe\">\n",
       "  <thead>\n",
       "    <tr style=\"text-align: right;\">\n",
       "      <th></th>\n",
       "      <th>Survived</th>\n",
       "    </tr>\n",
       "  </thead>\n",
       "  <tbody>\n",
       "    <tr>\n",
       "      <th>0</th>\n",
       "      <td>549</td>\n",
       "    </tr>\n",
       "    <tr>\n",
       "      <th>1</th>\n",
       "      <td>342</td>\n",
       "    </tr>\n",
       "  </tbody>\n",
       "</table>\n",
       "</div>"
      ],
      "text/plain": [
       "   Survived\n",
       "0       549\n",
       "1       342"
      ]
     },
     "metadata": {},
     "output_type": "display_data"
    },
    {
     "data": {
      "image/png": "[encoded data removed]",
      "text/plain": [
       "<Figure size 432x288 with 1 Axes>"
      ]
     },
     "metadata": {},
     "output_type": "display_data"
    }
   ],
   "source": [
    "# Case of categorical classification\n",
    "display(pd.DataFrame(df[target].value_counts()))\n",
    "df[target].value_counts().plot.pie(explode=[0,0.1],autopct='%1.1f%%',shadow=True)\n",
    "plt.show()"
   ]
  },
  {
   "cell_type": "code",
   "execution_count": 7,
   "metadata": {},
   "outputs": [
    {
     "data": {
      "text/html": [
       "<div>\n",
       "<style scoped>\n",
       "    .dataframe tbody tr th:only-of-type {\n",
       "        vertical-align: middle;\n",
       "    }\n",
       "\n",
       "    .dataframe tbody tr th {\n",
       "        vertical-align: top;\n",
       "    }\n",
       "\n",
       "    .dataframe thead th {\n",
       "        text-align: right;\n",
       "    }\n",
       "</style>\n",
       "<table border=\"1\" class=\"dataframe\">\n",
       "  <thead>\n",
       "    <tr style=\"text-align: right;\">\n",
       "      <th></th>\n",
       "      <th>Survived</th>\n",
       "    </tr>\n",
       "  </thead>\n",
       "  <tbody>\n",
       "    <tr>\n",
       "      <th>count</th>\n",
       "      <td>891.000000</td>\n",
       "    </tr>\n",
       "    <tr>\n",
       "      <th>mean</th>\n",
       "      <td>0.383838</td>\n",
       "    </tr>\n",
       "    <tr>\n",
       "      <th>std</th>\n",
       "      <td>0.486592</td>\n",
       "    </tr>\n",
       "    <tr>\n",
       "      <th>min</th>\n",
       "      <td>0.000000</td>\n",
       "    </tr>\n",
       "    <tr>\n",
       "      <th>25%</th>\n",
       "      <td>0.000000</td>\n",
       "    </tr>\n",
       "    <tr>\n",
       "      <th>50%</th>\n",
       "      <td>0.000000</td>\n",
       "    </tr>\n",
       "    <tr>\n",
       "      <th>75%</th>\n",
       "      <td>1.000000</td>\n",
       "    </tr>\n",
       "    <tr>\n",
       "      <th>max</th>\n",
       "      <td>1.000000</td>\n",
       "    </tr>\n",
       "  </tbody>\n",
       "</table>\n",
       "</div>"
      ],
      "text/plain": [
       "         Survived\n",
       "count  891.000000\n",
       "mean     0.383838\n",
       "std      0.486592\n",
       "min      0.000000\n",
       "25%      0.000000\n",
       "50%      0.000000\n",
       "75%      1.000000\n",
       "max      1.000000"
      ]
     },
     "execution_count": 7,
     "metadata": {},
     "output_type": "execute_result"
    }
   ],
   "source": [
    "pd.DataFrame(df[target].describe())"
   ]
  },
  {
   "cell_type": "markdown",
   "metadata": {},
   "source": [
    "Type of data:\n",
    "\n",
    "- numerical continuous (floats)\n",
    "- numerical discreet (integer)\n",
    "- categorical (contain letters) \n",
    "    - Of importance if the number of unique values of the categorical is not to small compared \n",
    "    to the numbuer of unique ID (case where almost all ID have the same category) and not to high (case where each ID has a unique category). Need to rank by \n",
    "- categorical ordinal - ordered category (is categorical - and ."
   ]
  },
  {
   "cell_type": "markdown",
   "metadata": {},
   "source": [
    "## Missing Values"
   ]
  },
  {
   "cell_type": "code",
   "execution_count": 8,
   "metadata": {},
   "outputs": [],
   "source": [
    "def missing_values(df, df_shape, list_columns):\n",
    "    '''input : \n",
    "    - dataframe: full pandas dataframe\n",
    "    - tuple: main dataframe shape\n",
    "    - list: dataframe columns \n",
    "    - floats: threshold ratio of missing value acceptable for ID column\n",
    "    - floats: threshold ratio of missing value acceptable for all other column\n",
    "    \n",
    "    output: \n",
    "    - string - Name of the column to use for counts \n",
    "    - Boolean - True if too many missing value, 20% threshold met, False otherwise.\n",
    "    - dictionnary - missing value dict {column name : number of missing values}'''\n",
    "    \n",
    "    # Threshold of missing values that the main col used for groupby count must meet to raise an alert\n",
    "    threshold_main_col = 0.01\n",
    "    # Threshold of missing values that the other colmust meet to raise an alert\n",
    "    threshold_other_col = 0.1\n",
    "    \n",
    "    missing_val_serie = df.isnull().sum().sort_values()\n",
    "    col = missing_val_serie.index[0]\n",
    "    number_of_missing_value_main_col = missing_val_serie[0]\n",
    "    ratio = number_of_missing_value_main_col / df_shape[0]\n",
    "    threhold_met = False\n",
    "    if ratio >= threshold_main_col:\n",
    "        threhold_met = True \n",
    "    \n",
    "    col_with_missing_value = [col for col in list_columns if df[col].isnull().sum()/df_shape[0] > threshold_other_col] \n",
    "    \n",
    "    return col,threhold_met,missing_val_serie.to_dict(),col_with_missing_value"
   ]
  },
  {
   "cell_type": "code",
   "execution_count": 9,
   "metadata": {},
   "outputs": [],
   "source": [
    "id_col,threshold_met,serie,col_with_missing_value = missing_values(df,df_shape,list_columns)"
   ]
  },
  {
   "cell_type": "code",
   "execution_count": 10,
   "metadata": {},
   "outputs": [
    {
     "data": {
      "text/plain": [
       "{'PassengerId': 0,\n",
       " 'Survived': 0,\n",
       " 'Pclass': 0,\n",
       " 'Name': 0,\n",
       " 'Sex': 0,\n",
       " 'SibSp': 0,\n",
       " 'Parch': 0,\n",
       " 'Ticket': 0,\n",
       " 'Fare': 0,\n",
       " 'Embarked': 2,\n",
       " 'Age': 177,\n",
       " 'Cabin': 687}"
      ]
     },
     "execution_count": 10,
     "metadata": {},
     "output_type": "execute_result"
    }
   ],
   "source": [
    "serie"
   ]
  },
  {
   "cell_type": "code",
   "execution_count": 11,
   "metadata": {},
   "outputs": [],
   "source": [
    "# FOR NOW\n",
    "df.dropna(subset = ['Age','Embarked'],axis = 0, inplace = True)"
   ]
  },
  {
   "cell_type": "markdown",
   "metadata": {},
   "source": [
    "****"
   ]
  },
  {
   "cell_type": "markdown",
   "metadata": {},
   "source": [
    "## Entropy Calculation"
   ]
  },
  {
   "cell_type": "markdown",
   "metadata": {},
   "source": [
    " For categorical variables"
   ]
  },
  {
   "cell_type": "code",
   "execution_count": 12,
   "metadata": {},
   "outputs": [
    {
     "data": {
      "text/html": [
       "<div>\n",
       "<style scoped>\n",
       "    .dataframe tbody tr th:only-of-type {\n",
       "        vertical-align: middle;\n",
       "    }\n",
       "\n",
       "    .dataframe tbody tr th {\n",
       "        vertical-align: top;\n",
       "    }\n",
       "\n",
       "    .dataframe thead th {\n",
       "        text-align: right;\n",
       "    }\n",
       "</style>\n",
       "<table border=\"1\" class=\"dataframe\">\n",
       "  <thead>\n",
       "    <tr style=\"text-align: right;\">\n",
       "      <th></th>\n",
       "      <th>Survived</th>\n",
       "      <th>count</th>\n",
       "    </tr>\n",
       "    <tr>\n",
       "      <th>Sex</th>\n",
       "      <th></th>\n",
       "      <th></th>\n",
       "    </tr>\n",
       "  </thead>\n",
       "  <tbody>\n",
       "    <tr>\n",
       "      <th>female</th>\n",
       "      <td>0</td>\n",
       "      <td>64</td>\n",
       "    </tr>\n",
       "    <tr>\n",
       "      <th>female</th>\n",
       "      <td>1</td>\n",
       "      <td>195</td>\n",
       "    </tr>\n",
       "    <tr>\n",
       "      <th>male</th>\n",
       "      <td>0</td>\n",
       "      <td>360</td>\n",
       "    </tr>\n",
       "    <tr>\n",
       "      <th>male</th>\n",
       "      <td>1</td>\n",
       "      <td>93</td>\n",
       "    </tr>\n",
       "  </tbody>\n",
       "</table>\n",
       "</div>"
      ],
      "text/plain": [
       "        Survived  count\n",
       "Sex                    \n",
       "female         0     64\n",
       "female         1    195\n",
       "male           0    360\n",
       "male           1     93"
      ]
     },
     "execution_count": 12,
     "metadata": {},
     "output_type": "execute_result"
    }
   ],
   "source": [
    "df_groupby = pd.DataFrame(df.groupby(by = ['Sex',target])[id_col].count()).rename({id_col:\"count\"},axis =1)\n",
    "df_groupby.reset_index(level = -1,inplace = True)\n",
    "df_groupby"
   ]
  },
  {
   "cell_type": "code",
   "execution_count": 13,
   "metadata": {},
   "outputs": [],
   "source": [
    "def entropy(df_groupby, target_col, base=2):\n",
    "    \"\"\"input: \n",
    "    - dataframe : groupby dataframe \n",
    "    - target_col : string corresponding to the column that we want to classify/study\n",
    "    - list : splitting criteria, usually the name of the columns used to proceed the groupby\n",
    "    - integer : base of the logarithm used for entropy calculation\n",
    "    output:\n",
    "    - entropy value of the splitting criteria belonging to [0-1] Goal is to reach a low entropy, with a low diversity.\n",
    "    \n",
    "    entropy calculation inspired from here https://towardsdatascience.com/entropy-how-decision-trees-make-decisions-2946b9c18c8\n",
    "        \"\"\" \n",
    "    total_entropy = 0\n",
    "    count_total = df_groupby['count'].sum()\n",
    "    \n",
    "    # Case where the splitting criteria is categorical \n",
    "    list_splited_groups = list(df_groupby.index.unique())\n",
    "    #list_splited_groups = list(df_groupby[splitting_criteria].unique()) # Used to be this, splitting criteria was inputed\n",
    "    \n",
    "    # Iterating over the various groups\n",
    "    for splitting_index in list_splited_groups:\n",
    "        df_splitted = df_groupby.loc[[splitting_index]]\n",
    "        #df_splitted = df_groupby[df_groupby[splitting_criteria] == splitting_index] # Used to be this \n",
    "        total = df_splitted['count'].sum()\n",
    "        \n",
    "        # Case where the target variable is categorical\n",
    "        # Iterating over the different target classes within the group\n",
    "        entropy_group = 0\n",
    "        for target_value in df_splitted[target_col].unique():\n",
    "            count = df_splitted[df_splitted[target_col] == target_value]['count'].iloc[0]\n",
    "            \n",
    "            if count == 0:\n",
    "                entropy_group -= 0\n",
    "            else :\n",
    "                entropy_group -= (count/total)*m.log(count/total,base)\n",
    "                \n",
    "        total_entropy += entropy_group*(total/count_total)\n",
    "    \n",
    "    return total_entropy"
   ]
  },
  {
   "cell_type": "code",
   "execution_count": 14,
   "metadata": {},
   "outputs": [
    {
     "data": {
      "text/plain": [
       "0.7594106895489579"
      ]
     },
     "execution_count": 14,
     "metadata": {},
     "output_type": "execute_result"
    }
   ],
   "source": [
    "total_entropy = entropy(df_groupby, target_col = target, base=2)\n",
    "total_entropy"
   ]
  },
  {
   "cell_type": "markdown",
   "metadata": {},
   "source": [
    "## Numerical Features"
   ]
  },
  {
   "cell_type": "markdown",
   "metadata": {},
   "source": [
    "- Bining \n",
    "- Correlation calculatio"
   ]
  },
  {
   "cell_type": "code",
   "execution_count": 15,
   "metadata": {},
   "outputs": [],
   "source": [
    "def bining(df, nbr_quantile, numerical_col):\n",
    "    list_new_categorical_features = []\n",
    "    for col in numerical_col:\n",
    "        df[f'{col}_{nbr_quantile}_quantile'] = pd.qcut(df[col],q=nbr_quantile)\n",
    "        list_new_categorical_features.append(f'{col}_{nbr_quantile}_quantile')\n",
    "    return list_new_categorical_features\n",
    "\n",
    "list_new_cat_features = bining(df,numerical_values_bining_quantile_nbr,numerical_col)"
   ]
  },
  {
   "cell_type": "code",
   "execution_count": 16,
   "metadata": {},
   "outputs": [
    {
     "data": {
      "text/html": [
       "<div>\n",
       "<style scoped>\n",
       "    .dataframe tbody tr th:only-of-type {\n",
       "        vertical-align: middle;\n",
       "    }\n",
       "\n",
       "    .dataframe tbody tr th {\n",
       "        vertical-align: top;\n",
       "    }\n",
       "\n",
       "    .dataframe thead th {\n",
       "        text-align: right;\n",
       "    }\n",
       "</style>\n",
       "<table border=\"1\" class=\"dataframe\">\n",
       "  <thead>\n",
       "    <tr style=\"text-align: right;\">\n",
       "      <th></th>\n",
       "      <th>PassengerId</th>\n",
       "      <th>Survived</th>\n",
       "      <th>Pclass</th>\n",
       "      <th>Name</th>\n",
       "      <th>Sex</th>\n",
       "      <th>Age</th>\n",
       "      <th>SibSp</th>\n",
       "      <th>Parch</th>\n",
       "      <th>Ticket</th>\n",
       "      <th>Fare</th>\n",
       "      <th>Cabin</th>\n",
       "      <th>Embarked</th>\n",
       "      <th>Age_5_quantile</th>\n",
       "      <th>Fare_5_quantile</th>\n",
       "    </tr>\n",
       "  </thead>\n",
       "  <tbody>\n",
       "    <tr>\n",
       "      <th>0</th>\n",
       "      <td>1</td>\n",
       "      <td>0</td>\n",
       "      <td>3</td>\n",
       "      <td>Braund, Mr. Owen Harris</td>\n",
       "      <td>male</td>\n",
       "      <td>22.0</td>\n",
       "      <td>1</td>\n",
       "      <td>0</td>\n",
       "      <td>A/5 21171</td>\n",
       "      <td>7.2500</td>\n",
       "      <td>NaN</td>\n",
       "      <td>S</td>\n",
       "      <td>(19.0, 25.0]</td>\n",
       "      <td>(-0.001, 7.902]</td>\n",
       "    </tr>\n",
       "    <tr>\n",
       "      <th>1</th>\n",
       "      <td>2</td>\n",
       "      <td>1</td>\n",
       "      <td>1</td>\n",
       "      <td>Cumings, Mrs. John Bradley (Florence Briggs Th...</td>\n",
       "      <td>female</td>\n",
       "      <td>38.0</td>\n",
       "      <td>1</td>\n",
       "      <td>0</td>\n",
       "      <td>PC 17599</td>\n",
       "      <td>71.2833</td>\n",
       "      <td>C85</td>\n",
       "      <td>C</td>\n",
       "      <td>(31.0, 41.0]</td>\n",
       "      <td>(46.9, 512.329]</td>\n",
       "    </tr>\n",
       "    <tr>\n",
       "      <th>2</th>\n",
       "      <td>3</td>\n",
       "      <td>1</td>\n",
       "      <td>3</td>\n",
       "      <td>Heikkinen, Miss. Laina</td>\n",
       "      <td>female</td>\n",
       "      <td>26.0</td>\n",
       "      <td>0</td>\n",
       "      <td>0</td>\n",
       "      <td>STON/O2. 3101282</td>\n",
       "      <td>7.9250</td>\n",
       "      <td>NaN</td>\n",
       "      <td>S</td>\n",
       "      <td>(25.0, 31.0]</td>\n",
       "      <td>(7.902, 12.925]</td>\n",
       "    </tr>\n",
       "    <tr>\n",
       "      <th>3</th>\n",
       "      <td>4</td>\n",
       "      <td>1</td>\n",
       "      <td>1</td>\n",
       "      <td>Futrelle, Mrs. Jacques Heath (Lily May Peel)</td>\n",
       "      <td>female</td>\n",
       "      <td>35.0</td>\n",
       "      <td>1</td>\n",
       "      <td>0</td>\n",
       "      <td>113803</td>\n",
       "      <td>53.1000</td>\n",
       "      <td>C123</td>\n",
       "      <td>S</td>\n",
       "      <td>(31.0, 41.0]</td>\n",
       "      <td>(46.9, 512.329]</td>\n",
       "    </tr>\n",
       "    <tr>\n",
       "      <th>4</th>\n",
       "      <td>5</td>\n",
       "      <td>0</td>\n",
       "      <td>3</td>\n",
       "      <td>Allen, Mr. William Henry</td>\n",
       "      <td>male</td>\n",
       "      <td>35.0</td>\n",
       "      <td>0</td>\n",
       "      <td>0</td>\n",
       "      <td>373450</td>\n",
       "      <td>8.0500</td>\n",
       "      <td>NaN</td>\n",
       "      <td>S</td>\n",
       "      <td>(31.0, 41.0]</td>\n",
       "      <td>(7.902, 12.925]</td>\n",
       "    </tr>\n",
       "  </tbody>\n",
       "</table>\n",
       "</div>"
      ],
      "text/plain": [
       "   PassengerId  Survived  Pclass  \\\n",
       "0            1         0       3   \n",
       "1            2         1       1   \n",
       "2            3         1       3   \n",
       "3            4         1       1   \n",
       "4            5         0       3   \n",
       "\n",
       "                                                Name     Sex   Age  SibSp  \\\n",
       "0                            Braund, Mr. Owen Harris    male  22.0      1   \n",
       "1  Cumings, Mrs. John Bradley (Florence Briggs Th...  female  38.0      1   \n",
       "2                             Heikkinen, Miss. Laina  female  26.0      0   \n",
       "3       Futrelle, Mrs. Jacques Heath (Lily May Peel)  female  35.0      1   \n",
       "4                           Allen, Mr. William Henry    male  35.0      0   \n",
       "\n",
       "   Parch            Ticket     Fare Cabin Embarked Age_5_quantile  \\\n",
       "0      0         A/5 21171   7.2500   NaN        S   (19.0, 25.0]   \n",
       "1      0          PC 17599  71.2833   C85        C   (31.0, 41.0]   \n",
       "2      0  STON/O2. 3101282   7.9250   NaN        S   (25.0, 31.0]   \n",
       "3      0            113803  53.1000  C123        S   (31.0, 41.0]   \n",
       "4      0            373450   8.0500   NaN        S   (31.0, 41.0]   \n",
       "\n",
       "   Fare_5_quantile  \n",
       "0  (-0.001, 7.902]  \n",
       "1  (46.9, 512.329]  \n",
       "2  (7.902, 12.925]  \n",
       "3  (46.9, 512.329]  \n",
       "4  (7.902, 12.925]  "
      ]
     },
     "execution_count": 16,
     "metadata": {},
     "output_type": "execute_result"
    }
   ],
   "source": [
    "df.head()"
   ]
  },
  {
   "cell_type": "markdown",
   "metadata": {},
   "source": [
    "## Feature engineering Generator"
   ]
  },
  {
   "cell_type": "markdown",
   "metadata": {},
   "source": [
    "- Text\n",
    "- Email\n",
    "- Title\n",
    "- Date\n",
    "- ..."
   ]
  },
  {
   "cell_type": "markdown",
   "metadata": {},
   "source": [
    "#### Text"
   ]
  },
  {
   "cell_type": "markdown",
   "metadata": {},
   "source": [
    "- Remove stop words\n",
    "- Lemantarization \n",
    "- TF-idf "
   ]
  },
  {
   "cell_type": "markdown",
   "metadata": {},
   "source": [
    "## Feature redundancy "
   ]
  },
  {
   "cell_type": "markdown",
   "metadata": {},
   "source": [
    "- Goal is just to flag them and remove them from the entropy calculation if too much correlated "
   ]
  },
  {
   "cell_type": "code",
   "execution_count": 97,
   "metadata": {},
   "outputs": [
    {
     "data": {
      "image/png": "[encoded data removed]",
      "text/plain": [
       "<Figure size 504x360 with 2 Axes>"
      ]
     },
     "metadata": {},
     "output_type": "display_data"
    }
   ],
   "source": [
    "# Calculating correlation of features\n",
    "df_corr = df.drop([id_col], axis=1).corr()\n",
    "# Creating a mask to get rid of half of the correlation matrix \n",
    "mask = np.triu(np.ones_like(df_corr, dtype=np.bool))\n",
    "# Set size of the figure\n",
    "sns.set(rc={'figure.figsize':(7,5)})\n",
    "# Generate a visualization of the correlation matrix\n",
    "sns.heatmap(df_corr, annot=True, mask = mask,square=True, linewidths=.5)\n",
    "plt.title(\"Feature Correlation\")\n",
    "plt.show()"
   ]
  },
  {
   "cell_type": "code",
   "execution_count": 98,
   "metadata": {},
   "outputs": [
    {
     "data": {
      "text/html": [
       "<style  type=\"text/css\" >\n",
       "    #T_3deb170a_7f1d_11ea_8478_c4b301d0d229row0_col0 {\n",
       "            color:  black;\n",
       "        }    #T_3deb170a_7f1d_11ea_8478_c4b301d0d229row0_col1 {\n",
       "            color:  red;\n",
       "        }    #T_3deb170a_7f1d_11ea_8478_c4b301d0d229row0_col2 {\n",
       "            color:  red;\n",
       "        }    #T_3deb170a_7f1d_11ea_8478_c4b301d0d229row0_col3 {\n",
       "            color:  red;\n",
       "        }    #T_3deb170a_7f1d_11ea_8478_c4b301d0d229row0_col4 {\n",
       "            color:  black;\n",
       "        }    #T_3deb170a_7f1d_11ea_8478_c4b301d0d229row0_col5 {\n",
       "            color:  black;\n",
       "        }    #T_3deb170a_7f1d_11ea_8478_c4b301d0d229row1_col0 {\n",
       "            color:  red;\n",
       "        }    #T_3deb170a_7f1d_11ea_8478_c4b301d0d229row1_col1 {\n",
       "            color:  black;\n",
       "        }    #T_3deb170a_7f1d_11ea_8478_c4b301d0d229row1_col2 {\n",
       "            color:  red;\n",
       "        }    #T_3deb170a_7f1d_11ea_8478_c4b301d0d229row1_col3 {\n",
       "            color:  black;\n",
       "        }    #T_3deb170a_7f1d_11ea_8478_c4b301d0d229row1_col4 {\n",
       "            color:  black;\n",
       "        }    #T_3deb170a_7f1d_11ea_8478_c4b301d0d229row1_col5 {\n",
       "            color:  red;\n",
       "        }    #T_3deb170a_7f1d_11ea_8478_c4b301d0d229row2_col0 {\n",
       "            color:  red;\n",
       "        }    #T_3deb170a_7f1d_11ea_8478_c4b301d0d229row2_col1 {\n",
       "            color:  red;\n",
       "        }    #T_3deb170a_7f1d_11ea_8478_c4b301d0d229row2_col2 {\n",
       "            color:  black;\n",
       "        }    #T_3deb170a_7f1d_11ea_8478_c4b301d0d229row2_col3 {\n",
       "            color:  red;\n",
       "        }    #T_3deb170a_7f1d_11ea_8478_c4b301d0d229row2_col4 {\n",
       "            color:  red;\n",
       "        }    #T_3deb170a_7f1d_11ea_8478_c4b301d0d229row2_col5 {\n",
       "            color:  black;\n",
       "        }    #T_3deb170a_7f1d_11ea_8478_c4b301d0d229row3_col0 {\n",
       "            color:  red;\n",
       "        }    #T_3deb170a_7f1d_11ea_8478_c4b301d0d229row3_col1 {\n",
       "            color:  black;\n",
       "        }    #T_3deb170a_7f1d_11ea_8478_c4b301d0d229row3_col2 {\n",
       "            color:  red;\n",
       "        }    #T_3deb170a_7f1d_11ea_8478_c4b301d0d229row3_col3 {\n",
       "            color:  black;\n",
       "        }    #T_3deb170a_7f1d_11ea_8478_c4b301d0d229row3_col4 {\n",
       "            color:  black;\n",
       "        }    #T_3deb170a_7f1d_11ea_8478_c4b301d0d229row3_col5 {\n",
       "            color:  black;\n",
       "        }    #T_3deb170a_7f1d_11ea_8478_c4b301d0d229row4_col0 {\n",
       "            color:  black;\n",
       "        }    #T_3deb170a_7f1d_11ea_8478_c4b301d0d229row4_col1 {\n",
       "            color:  black;\n",
       "        }    #T_3deb170a_7f1d_11ea_8478_c4b301d0d229row4_col2 {\n",
       "            color:  red;\n",
       "        }    #T_3deb170a_7f1d_11ea_8478_c4b301d0d229row4_col3 {\n",
       "            color:  black;\n",
       "        }    #T_3deb170a_7f1d_11ea_8478_c4b301d0d229row4_col4 {\n",
       "            color:  black;\n",
       "        }    #T_3deb170a_7f1d_11ea_8478_c4b301d0d229row4_col5 {\n",
       "            color:  black;\n",
       "        }    #T_3deb170a_7f1d_11ea_8478_c4b301d0d229row5_col0 {\n",
       "            color:  black;\n",
       "        }    #T_3deb170a_7f1d_11ea_8478_c4b301d0d229row5_col1 {\n",
       "            color:  red;\n",
       "        }    #T_3deb170a_7f1d_11ea_8478_c4b301d0d229row5_col2 {\n",
       "            color:  black;\n",
       "        }    #T_3deb170a_7f1d_11ea_8478_c4b301d0d229row5_col3 {\n",
       "            color:  black;\n",
       "        }    #T_3deb170a_7f1d_11ea_8478_c4b301d0d229row5_col4 {\n",
       "            color:  black;\n",
       "        }    #T_3deb170a_7f1d_11ea_8478_c4b301d0d229row5_col5 {\n",
       "            color:  black;\n",
       "        }</style><table id=\"T_3deb170a_7f1d_11ea_8478_c4b301d0d229\" ><thead>    <tr>        <th class=\"blank level0\" ></th>        <th class=\"col_heading level0 col0\" >Survived</th>        <th class=\"col_heading level0 col1\" >Pclass</th>        <th class=\"col_heading level0 col2\" >Age</th>        <th class=\"col_heading level0 col3\" >SibSp</th>        <th class=\"col_heading level0 col4\" >Parch</th>        <th class=\"col_heading level0 col5\" >Fare</th>    </tr></thead><tbody>\n",
       "                <tr>\n",
       "                        <th id=\"T_3deb170a_7f1d_11ea_8478_c4b301d0d229level0_row0\" class=\"row_heading level0 row0\" >Survived</th>\n",
       "                        <td id=\"T_3deb170a_7f1d_11ea_8478_c4b301d0d229row0_col0\" class=\"data row0 col0\" >0.000000</td>\n",
       "                        <td id=\"T_3deb170a_7f1d_11ea_8478_c4b301d0d229row0_col1\" class=\"data row0 col1\" >-0.356462</td>\n",
       "                        <td id=\"T_3deb170a_7f1d_11ea_8478_c4b301d0d229row0_col2\" class=\"data row0 col2\" >-0.082446</td>\n",
       "                        <td id=\"T_3deb170a_7f1d_11ea_8478_c4b301d0d229row0_col3\" class=\"data row0 col3\" >-0.015523</td>\n",
       "                        <td id=\"T_3deb170a_7f1d_11ea_8478_c4b301d0d229row0_col4\" class=\"data row0 col4\" >0.095265</td>\n",
       "                        <td id=\"T_3deb170a_7f1d_11ea_8478_c4b301d0d229row0_col5\" class=\"data row0 col5\" >0.266100</td>\n",
       "            </tr>\n",
       "            <tr>\n",
       "                        <th id=\"T_3deb170a_7f1d_11ea_8478_c4b301d0d229level0_row1\" class=\"row_heading level0 row1\" >Pclass</th>\n",
       "                        <td id=\"T_3deb170a_7f1d_11ea_8478_c4b301d0d229row1_col0\" class=\"data row1 col0\" >-0.356462</td>\n",
       "                        <td id=\"T_3deb170a_7f1d_11ea_8478_c4b301d0d229row1_col1\" class=\"data row1 col1\" >0.000000</td>\n",
       "                        <td id=\"T_3deb170a_7f1d_11ea_8478_c4b301d0d229row1_col2\" class=\"data row1 col2\" >-0.365902</td>\n",
       "                        <td id=\"T_3deb170a_7f1d_11ea_8478_c4b301d0d229row1_col3\" class=\"data row1 col3\" >0.065187</td>\n",
       "                        <td id=\"T_3deb170a_7f1d_11ea_8478_c4b301d0d229row1_col4\" class=\"data row1 col4\" >0.023666</td>\n",
       "                        <td id=\"T_3deb170a_7f1d_11ea_8478_c4b301d0d229row1_col5\" class=\"data row1 col5\" >-0.552893</td>\n",
       "            </tr>\n",
       "            <tr>\n",
       "                        <th id=\"T_3deb170a_7f1d_11ea_8478_c4b301d0d229level0_row2\" class=\"row_heading level0 row2\" >Age</th>\n",
       "                        <td id=\"T_3deb170a_7f1d_11ea_8478_c4b301d0d229row2_col0\" class=\"data row2 col0\" >-0.082446</td>\n",
       "                        <td id=\"T_3deb170a_7f1d_11ea_8478_c4b301d0d229row2_col1\" class=\"data row2 col1\" >-0.365902</td>\n",
       "                        <td id=\"T_3deb170a_7f1d_11ea_8478_c4b301d0d229row2_col2\" class=\"data row2 col2\" >0.000000</td>\n",
       "                        <td id=\"T_3deb170a_7f1d_11ea_8478_c4b301d0d229row2_col3\" class=\"data row2 col3\" >-0.307351</td>\n",
       "                        <td id=\"T_3deb170a_7f1d_11ea_8478_c4b301d0d229row2_col4\" class=\"data row2 col4\" >-0.187896</td>\n",
       "                        <td id=\"T_3deb170a_7f1d_11ea_8478_c4b301d0d229row2_col5\" class=\"data row2 col5\" >0.093143</td>\n",
       "            </tr>\n",
       "            <tr>\n",
       "                        <th id=\"T_3deb170a_7f1d_11ea_8478_c4b301d0d229level0_row3\" class=\"row_heading level0 row3\" >SibSp</th>\n",
       "                        <td id=\"T_3deb170a_7f1d_11ea_8478_c4b301d0d229row3_col0\" class=\"data row3 col0\" >-0.015523</td>\n",
       "                        <td id=\"T_3deb170a_7f1d_11ea_8478_c4b301d0d229row3_col1\" class=\"data row3 col1\" >0.065187</td>\n",
       "                        <td id=\"T_3deb170a_7f1d_11ea_8478_c4b301d0d229row3_col2\" class=\"data row3 col2\" >-0.307351</td>\n",
       "                        <td id=\"T_3deb170a_7f1d_11ea_8478_c4b301d0d229row3_col3\" class=\"data row3 col3\" >0.000000</td>\n",
       "                        <td id=\"T_3deb170a_7f1d_11ea_8478_c4b301d0d229row3_col4\" class=\"data row3 col4\" >0.383338</td>\n",
       "                        <td id=\"T_3deb170a_7f1d_11ea_8478_c4b301d0d229row3_col5\" class=\"data row3 col5\" >0.139860</td>\n",
       "            </tr>\n",
       "            <tr>\n",
       "                        <th id=\"T_3deb170a_7f1d_11ea_8478_c4b301d0d229level0_row4\" class=\"row_heading level0 row4\" >Parch</th>\n",
       "                        <td id=\"T_3deb170a_7f1d_11ea_8478_c4b301d0d229row4_col0\" class=\"data row4 col0\" >0.095265</td>\n",
       "                        <td id=\"T_3deb170a_7f1d_11ea_8478_c4b301d0d229row4_col1\" class=\"data row4 col1\" >0.023666</td>\n",
       "                        <td id=\"T_3deb170a_7f1d_11ea_8478_c4b301d0d229row4_col2\" class=\"data row4 col2\" >-0.187896</td>\n",
       "                        <td id=\"T_3deb170a_7f1d_11ea_8478_c4b301d0d229row4_col3\" class=\"data row4 col3\" >0.383338</td>\n",
       "                        <td id=\"T_3deb170a_7f1d_11ea_8478_c4b301d0d229row4_col4\" class=\"data row4 col4\" >0.000000</td>\n",
       "                        <td id=\"T_3deb170a_7f1d_11ea_8478_c4b301d0d229row4_col5\" class=\"data row4 col5\" >0.206624</td>\n",
       "            </tr>\n",
       "            <tr>\n",
       "                        <th id=\"T_3deb170a_7f1d_11ea_8478_c4b301d0d229level0_row5\" class=\"row_heading level0 row5\" >Fare</th>\n",
       "                        <td id=\"T_3deb170a_7f1d_11ea_8478_c4b301d0d229row5_col0\" class=\"data row5 col0\" >0.266100</td>\n",
       "                        <td id=\"T_3deb170a_7f1d_11ea_8478_c4b301d0d229row5_col1\" class=\"data row5 col1\" >-0.552893</td>\n",
       "                        <td id=\"T_3deb170a_7f1d_11ea_8478_c4b301d0d229row5_col2\" class=\"data row5 col2\" >0.093143</td>\n",
       "                        <td id=\"T_3deb170a_7f1d_11ea_8478_c4b301d0d229row5_col3\" class=\"data row5 col3\" >0.139860</td>\n",
       "                        <td id=\"T_3deb170a_7f1d_11ea_8478_c4b301d0d229row5_col4\" class=\"data row5 col4\" >0.206624</td>\n",
       "                        <td id=\"T_3deb170a_7f1d_11ea_8478_c4b301d0d229row5_col5\" class=\"data row5 col5\" >0.000000</td>\n",
       "            </tr>\n",
       "    </tbody></table>"
      ],
      "text/plain": [
       "<pandas.io.formats.style.Styler at 0x12091e2b0>"
      ]
     },
     "metadata": {},
     "output_type": "display_data"
    },
    {
     "data": {
      "text/html": [
       "<div>\n",
       "<style scoped>\n",
       "    .dataframe tbody tr th:only-of-type {\n",
       "        vertical-align: middle;\n",
       "    }\n",
       "\n",
       "    .dataframe tbody tr th {\n",
       "        vertical-align: top;\n",
       "    }\n",
       "\n",
       "    .dataframe thead th {\n",
       "        text-align: right;\n",
       "    }\n",
       "</style>\n",
       "<table border=\"1\" class=\"dataframe\">\n",
       "  <thead>\n",
       "    <tr style=\"text-align: right;\">\n",
       "      <th></th>\n",
       "      <th>Survived</th>\n",
       "      <th>Pclass</th>\n",
       "      <th>Age</th>\n",
       "      <th>SibSp</th>\n",
       "      <th>Parch</th>\n",
       "      <th>Fare</th>\n",
       "    </tr>\n",
       "  </thead>\n",
       "  <tbody>\n",
       "    <tr>\n",
       "      <th>Survived</th>\n",
       "      <td>6.0</td>\n",
       "      <td>3.0</td>\n",
       "      <td>5.0</td>\n",
       "      <td>5.0</td>\n",
       "      <td>4.0</td>\n",
       "      <td>2.0</td>\n",
       "    </tr>\n",
       "    <tr>\n",
       "      <th>Pclass</th>\n",
       "      <td>1.0</td>\n",
       "      <td>6.0</td>\n",
       "      <td>1.0</td>\n",
       "      <td>4.0</td>\n",
       "      <td>5.0</td>\n",
       "      <td>1.0</td>\n",
       "    </tr>\n",
       "    <tr>\n",
       "      <th>Age</th>\n",
       "      <td>4.0</td>\n",
       "      <td>2.0</td>\n",
       "      <td>6.0</td>\n",
       "      <td>2.0</td>\n",
       "      <td>3.0</td>\n",
       "      <td>5.0</td>\n",
       "    </tr>\n",
       "    <tr>\n",
       "      <th>SibSp</th>\n",
       "      <td>5.0</td>\n",
       "      <td>4.0</td>\n",
       "      <td>2.0</td>\n",
       "      <td>6.0</td>\n",
       "      <td>1.0</td>\n",
       "      <td>4.0</td>\n",
       "    </tr>\n",
       "    <tr>\n",
       "      <th>Parch</th>\n",
       "      <td>3.0</td>\n",
       "      <td>5.0</td>\n",
       "      <td>3.0</td>\n",
       "      <td>1.0</td>\n",
       "      <td>6.0</td>\n",
       "      <td>3.0</td>\n",
       "    </tr>\n",
       "    <tr>\n",
       "      <th>Fare</th>\n",
       "      <td>2.0</td>\n",
       "      <td>1.0</td>\n",
       "      <td>4.0</td>\n",
       "      <td>3.0</td>\n",
       "      <td>2.0</td>\n",
       "      <td>6.0</td>\n",
       "    </tr>\n",
       "  </tbody>\n",
       "</table>\n",
       "</div>"
      ],
      "text/plain": [
       "          Survived  Pclass  Age  SibSp  Parch  Fare\n",
       "Survived       6.0     3.0  5.0    5.0    4.0   2.0\n",
       "Pclass         1.0     6.0  1.0    4.0    5.0   1.0\n",
       "Age            4.0     2.0  6.0    2.0    3.0   5.0\n",
       "SibSp          5.0     4.0  2.0    6.0    1.0   4.0\n",
       "Parch          3.0     5.0  3.0    1.0    6.0   3.0\n",
       "Fare           2.0     1.0  4.0    3.0    2.0   6.0"
      ]
     },
     "execution_count": 98,
     "metadata": {},
     "output_type": "execute_result"
    }
   ],
   "source": [
    "def color_negative_red(val):\n",
    "    \"\"\"\n",
    "    Takes a scalar and returns a string with\n",
    "    the css property `'color: red'` for negative\n",
    "    strings, black otherwise.\n",
    "    \"\"\"\n",
    "    threshold = 0\n",
    "    color = 'red' if val < threshold else 'black'\n",
    "    return 'color: %s' % color\n",
    "\n",
    "#display(corr.style.bar(align='mid', color=['#d65f5f', '#5fba7d']))\n",
    "\n",
    "display(corr.style.applymap(color_negative_red))\n",
    "corr.abs().rank(ascending=False)"
   ]
  },
  {
   "cell_type": "markdown",
   "metadata": {},
   "source": [
    "## Feature combination"
   ]
  },
  {
   "cell_type": "markdown",
   "metadata": {},
   "source": [
    "- need to find a way to find the type of columns (i.e. categorical, numerical etc)\n",
    "- need to find a way to calculate correlation with numerical colums with respect to the target value, whether it's categorical like in our case or sales / visits (in the future)."
   ]
  },
  {
   "cell_type": "code",
   "execution_count": 99,
   "metadata": {},
   "outputs": [
    {
     "data": {
      "text/plain": [
       "['Pclass',\n",
       " 'Sex',\n",
       " 'SibSp',\n",
       " 'Embarked',\n",
       " 'Age_5_quantile',\n",
       " 'Fare_5_quantile',\n",
       " 'Age_5_quantile',\n",
       " 'Fare_5_quantile']"
      ]
     },
     "execution_count": 99,
     "metadata": {},
     "output_type": "execute_result"
    }
   ],
   "source": [
    "categorical_columns = categorical_columns + list_new_cat_features\n",
    "categorical_columns"
   ]
  },
  {
   "cell_type": "code",
   "execution_count": 100,
   "metadata": {},
   "outputs": [
    {
     "data": {
      "text/html": [
       "<div>\n",
       "<style scoped>\n",
       "    .dataframe tbody tr th:only-of-type {\n",
       "        vertical-align: middle;\n",
       "    }\n",
       "\n",
       "    .dataframe tbody tr th {\n",
       "        vertical-align: top;\n",
       "    }\n",
       "\n",
       "    .dataframe thead th {\n",
       "        text-align: right;\n",
       "    }\n",
       "</style>\n",
       "<table border=\"1\" class=\"dataframe\">\n",
       "  <thead>\n",
       "    <tr style=\"text-align: right;\">\n",
       "      <th></th>\n",
       "      <th>PassengerId</th>\n",
       "      <th>Survived</th>\n",
       "      <th>Pclass</th>\n",
       "      <th>Name</th>\n",
       "      <th>Sex</th>\n",
       "      <th>Age</th>\n",
       "      <th>SibSp</th>\n",
       "      <th>Parch</th>\n",
       "      <th>Ticket</th>\n",
       "      <th>Fare</th>\n",
       "      <th>Cabin</th>\n",
       "      <th>Embarked</th>\n",
       "      <th>Age_5_quantile</th>\n",
       "      <th>Fare_5_quantile</th>\n",
       "    </tr>\n",
       "  </thead>\n",
       "  <tbody>\n",
       "    <tr>\n",
       "      <th>0</th>\n",
       "      <td>1</td>\n",
       "      <td>0</td>\n",
       "      <td>3</td>\n",
       "      <td>Braund, Mr. Owen Harris</td>\n",
       "      <td>male</td>\n",
       "      <td>22.0</td>\n",
       "      <td>1</td>\n",
       "      <td>0</td>\n",
       "      <td>A/5 21171</td>\n",
       "      <td>7.2500</td>\n",
       "      <td>NaN</td>\n",
       "      <td>S</td>\n",
       "      <td>(19.0, 25.0]</td>\n",
       "      <td>(-0.001, 7.902]</td>\n",
       "    </tr>\n",
       "    <tr>\n",
       "      <th>1</th>\n",
       "      <td>2</td>\n",
       "      <td>1</td>\n",
       "      <td>1</td>\n",
       "      <td>Cumings, Mrs. John Bradley (Florence Briggs Th...</td>\n",
       "      <td>female</td>\n",
       "      <td>38.0</td>\n",
       "      <td>1</td>\n",
       "      <td>0</td>\n",
       "      <td>PC 17599</td>\n",
       "      <td>71.2833</td>\n",
       "      <td>C85</td>\n",
       "      <td>C</td>\n",
       "      <td>(31.0, 41.0]</td>\n",
       "      <td>(46.9, 512.329]</td>\n",
       "    </tr>\n",
       "    <tr>\n",
       "      <th>2</th>\n",
       "      <td>3</td>\n",
       "      <td>1</td>\n",
       "      <td>3</td>\n",
       "      <td>Heikkinen, Miss. Laina</td>\n",
       "      <td>female</td>\n",
       "      <td>26.0</td>\n",
       "      <td>0</td>\n",
       "      <td>0</td>\n",
       "      <td>STON/O2. 3101282</td>\n",
       "      <td>7.9250</td>\n",
       "      <td>NaN</td>\n",
       "      <td>S</td>\n",
       "      <td>(25.0, 31.0]</td>\n",
       "      <td>(7.902, 12.925]</td>\n",
       "    </tr>\n",
       "    <tr>\n",
       "      <th>3</th>\n",
       "      <td>4</td>\n",
       "      <td>1</td>\n",
       "      <td>1</td>\n",
       "      <td>Futrelle, Mrs. Jacques Heath (Lily May Peel)</td>\n",
       "      <td>female</td>\n",
       "      <td>35.0</td>\n",
       "      <td>1</td>\n",
       "      <td>0</td>\n",
       "      <td>113803</td>\n",
       "      <td>53.1000</td>\n",
       "      <td>C123</td>\n",
       "      <td>S</td>\n",
       "      <td>(31.0, 41.0]</td>\n",
       "      <td>(46.9, 512.329]</td>\n",
       "    </tr>\n",
       "    <tr>\n",
       "      <th>4</th>\n",
       "      <td>5</td>\n",
       "      <td>0</td>\n",
       "      <td>3</td>\n",
       "      <td>Allen, Mr. William Henry</td>\n",
       "      <td>male</td>\n",
       "      <td>35.0</td>\n",
       "      <td>0</td>\n",
       "      <td>0</td>\n",
       "      <td>373450</td>\n",
       "      <td>8.0500</td>\n",
       "      <td>NaN</td>\n",
       "      <td>S</td>\n",
       "      <td>(31.0, 41.0]</td>\n",
       "      <td>(7.902, 12.925]</td>\n",
       "    </tr>\n",
       "  </tbody>\n",
       "</table>\n",
       "</div>"
      ],
      "text/plain": [
       "   PassengerId  Survived  Pclass  \\\n",
       "0            1         0       3   \n",
       "1            2         1       1   \n",
       "2            3         1       3   \n",
       "3            4         1       1   \n",
       "4            5         0       3   \n",
       "\n",
       "                                                Name     Sex   Age  SibSp  \\\n",
       "0                            Braund, Mr. Owen Harris    male  22.0      1   \n",
       "1  Cumings, Mrs. John Bradley (Florence Briggs Th...  female  38.0      1   \n",
       "2                             Heikkinen, Miss. Laina  female  26.0      0   \n",
       "3       Futrelle, Mrs. Jacques Heath (Lily May Peel)  female  35.0      1   \n",
       "4                           Allen, Mr. William Henry    male  35.0      0   \n",
       "\n",
       "   Parch            Ticket     Fare Cabin Embarked Age_5_quantile  \\\n",
       "0      0         A/5 21171   7.2500   NaN        S   (19.0, 25.0]   \n",
       "1      0          PC 17599  71.2833   C85        C   (31.0, 41.0]   \n",
       "2      0  STON/O2. 3101282   7.9250   NaN        S   (25.0, 31.0]   \n",
       "3      0            113803  53.1000  C123        S   (31.0, 41.0]   \n",
       "4      0            373450   8.0500   NaN        S   (31.0, 41.0]   \n",
       "\n",
       "   Fare_5_quantile  \n",
       "0  (-0.001, 7.902]  \n",
       "1  (46.9, 512.329]  \n",
       "2  (7.902, 12.925]  \n",
       "3  (46.9, 512.329]  \n",
       "4  (7.902, 12.925]  "
      ]
     },
     "execution_count": 100,
     "metadata": {},
     "output_type": "execute_result"
    }
   ],
   "source": [
    "df.head()"
   ]
  },
  {
   "cell_type": "code",
   "execution_count": 101,
   "metadata": {},
   "outputs": [],
   "source": [
    "def categorical_feature_combinations(main_df, id_col, categorical_col):\n",
    "\n",
    "    dic_features_entropy = {}\n",
    "    \n",
    "    # Iterating over all base categorical features\n",
    "    for feature in categorical_col:\n",
    "        df_groupby = pd.DataFrame(main_df.groupby(by = [feature,target])[id_col].count())\n",
    "        df_groupby.rename({id_col:\"count\"},axis =1,inplace = True)\n",
    "        df_groupby.reset_index(level = -1,inplace = True)\n",
    "        dic_features_entropy[feature] = entropy(df_groupby, target_col = target, base=2)\n",
    "    \n",
    "    # Iterating over all combination of categorical features\n",
    "    for combination_of_feature in itertools.combinations(categorical_columns, 2):\n",
    "        df_groupby = pd.DataFrame(main_df.groupby(by = [i for i in combination_of_feature + (target,)])[id_col].count()).rename({id_col:\"count\"},axis =1)\n",
    "        df_groupby.rename({id_col:\"count\"},axis =1,inplace = True)\n",
    "        df_groupby.reset_index(level = -1,inplace = True)\n",
    "        dic_features_entropy[\"_:_\".join([i for i in combination_of_feature])] = entropy(df_groupby, target_col = target, base=2)\n",
    "        \n",
    "    return dic_features_entropy"
   ]
  },
  {
   "cell_type": "code",
   "execution_count": 102,
   "metadata": {},
   "outputs": [
    {
     "data": {
      "text/plain": [
       "{'Pclass': 0.8795090178158749,\n",
       " 'Sex': 0.7594106895489579,\n",
       " 'SibSp': 0.9486500092706639,\n",
       " 'Embarked': 0.9456607954586889,\n",
       " 'Age_5_quantile': 0.9647270897774656,\n",
       " 'Fare_5_quantile': 0.881538935713471,\n",
       " 'Pclass_:_Sex': 0.6505597903100149,\n",
       " 'Pclass_:_SibSp': 0.8662469790281385,\n",
       " 'Pclass_:_Embarked': 0.8675676068434272,\n",
       " 'Pclass_:_Age_5_quantile': 0.838214779835418,\n",
       " 'Pclass_:_Fare_5_quantile': 0.8382744115802001,\n",
       " 'Sex_:_SibSp': 0.7345342125493306,\n",
       " 'Sex_:_Embarked': 0.7362220407052935,\n",
       " 'Sex_:_Age_5_quantile': 0.7469979536388132,\n",
       " 'Sex_:_Fare_5_quantile': 0.6928310630885964,\n",
       " 'SibSp_:_Embarked': 0.9179561693053552,\n",
       " 'SibSp_:_Age_5_quantile': 0.8992343231723525,\n",
       " 'SibSp_:_Fare_5_quantile': 0.851817210763988,\n",
       " 'Embarked_:_Age_5_quantile': 0.9279240320295299,\n",
       " 'Embarked_:_Fare_5_quantile': 0.8591439352084315,\n",
       " 'Age_5_quantile_:_Fare_5_quantile': 0.8225894587625504,\n",
       " 'Age_5_quantile_:_Age_5_quantile': 0.9647270897774656,\n",
       " 'Fare_5_quantile_:_Age_5_quantile': 0.8225894587625504,\n",
       " 'Fare_5_quantile_:_Fare_5_quantile': 0.881538935713471}"
      ]
     },
     "execution_count": 102,
     "metadata": {},
     "output_type": "execute_result"
    }
   ],
   "source": [
    "dic_features_entropy = categorical_feature_combinations(df,id_col,categorical_columns)\n",
    "dic_features_entropy"
   ]
  },
  {
   "cell_type": "code",
   "execution_count": 103,
   "metadata": {},
   "outputs": [
    {
     "data": {
      "text/html": [
       "<div>\n",
       "<style scoped>\n",
       "    .dataframe tbody tr th:only-of-type {\n",
       "        vertical-align: middle;\n",
       "    }\n",
       "\n",
       "    .dataframe tbody tr th {\n",
       "        vertical-align: top;\n",
       "    }\n",
       "\n",
       "    .dataframe thead th {\n",
       "        text-align: right;\n",
       "    }\n",
       "</style>\n",
       "<table border=\"1\" class=\"dataframe\">\n",
       "  <thead>\n",
       "    <tr style=\"text-align: right;\">\n",
       "      <th></th>\n",
       "      <th>entropy</th>\n",
       "    </tr>\n",
       "  </thead>\n",
       "  <tbody>\n",
       "    <tr>\n",
       "      <th>Pclass_:_Sex</th>\n",
       "      <td>0.650560</td>\n",
       "    </tr>\n",
       "    <tr>\n",
       "      <th>Sex_:_Fare_5_quantile</th>\n",
       "      <td>0.692831</td>\n",
       "    </tr>\n",
       "    <tr>\n",
       "      <th>Sex_:_SibSp</th>\n",
       "      <td>0.734534</td>\n",
       "    </tr>\n",
       "    <tr>\n",
       "      <th>Sex_:_Embarked</th>\n",
       "      <td>0.736222</td>\n",
       "    </tr>\n",
       "    <tr>\n",
       "      <th>Sex_:_Age_5_quantile</th>\n",
       "      <td>0.746998</td>\n",
       "    </tr>\n",
       "    <tr>\n",
       "      <th>Sex</th>\n",
       "      <td>0.759411</td>\n",
       "    </tr>\n",
       "    <tr>\n",
       "      <th>Age_5_quantile_:_Fare_5_quantile</th>\n",
       "      <td>0.822589</td>\n",
       "    </tr>\n",
       "    <tr>\n",
       "      <th>Fare_5_quantile_:_Age_5_quantile</th>\n",
       "      <td>0.822589</td>\n",
       "    </tr>\n",
       "    <tr>\n",
       "      <th>Pclass_:_Age_5_quantile</th>\n",
       "      <td>0.838215</td>\n",
       "    </tr>\n",
       "    <tr>\n",
       "      <th>Pclass_:_Fare_5_quantile</th>\n",
       "      <td>0.838274</td>\n",
       "    </tr>\n",
       "    <tr>\n",
       "      <th>SibSp_:_Fare_5_quantile</th>\n",
       "      <td>0.851817</td>\n",
       "    </tr>\n",
       "    <tr>\n",
       "      <th>Embarked_:_Fare_5_quantile</th>\n",
       "      <td>0.859144</td>\n",
       "    </tr>\n",
       "    <tr>\n",
       "      <th>Pclass_:_SibSp</th>\n",
       "      <td>0.866247</td>\n",
       "    </tr>\n",
       "    <tr>\n",
       "      <th>Pclass_:_Embarked</th>\n",
       "      <td>0.867568</td>\n",
       "    </tr>\n",
       "    <tr>\n",
       "      <th>Pclass</th>\n",
       "      <td>0.879509</td>\n",
       "    </tr>\n",
       "    <tr>\n",
       "      <th>Fare_5_quantile</th>\n",
       "      <td>0.881539</td>\n",
       "    </tr>\n",
       "    <tr>\n",
       "      <th>Fare_5_quantile_:_Fare_5_quantile</th>\n",
       "      <td>0.881539</td>\n",
       "    </tr>\n",
       "    <tr>\n",
       "      <th>SibSp_:_Age_5_quantile</th>\n",
       "      <td>0.899234</td>\n",
       "    </tr>\n",
       "    <tr>\n",
       "      <th>SibSp_:_Embarked</th>\n",
       "      <td>0.917956</td>\n",
       "    </tr>\n",
       "    <tr>\n",
       "      <th>Embarked_:_Age_5_quantile</th>\n",
       "      <td>0.927924</td>\n",
       "    </tr>\n",
       "    <tr>\n",
       "      <th>Embarked</th>\n",
       "      <td>0.945661</td>\n",
       "    </tr>\n",
       "    <tr>\n",
       "      <th>SibSp</th>\n",
       "      <td>0.948650</td>\n",
       "    </tr>\n",
       "    <tr>\n",
       "      <th>Age_5_quantile</th>\n",
       "      <td>0.964727</td>\n",
       "    </tr>\n",
       "    <tr>\n",
       "      <th>Age_5_quantile_:_Age_5_quantile</th>\n",
       "      <td>0.964727</td>\n",
       "    </tr>\n",
       "  </tbody>\n",
       "</table>\n",
       "</div>"
      ],
      "text/plain": [
       "                                    entropy\n",
       "Pclass_:_Sex                       0.650560\n",
       "Sex_:_Fare_5_quantile              0.692831\n",
       "Sex_:_SibSp                        0.734534\n",
       "Sex_:_Embarked                     0.736222\n",
       "Sex_:_Age_5_quantile               0.746998\n",
       "Sex                                0.759411\n",
       "Age_5_quantile_:_Fare_5_quantile   0.822589\n",
       "Fare_5_quantile_:_Age_5_quantile   0.822589\n",
       "Pclass_:_Age_5_quantile            0.838215\n",
       "Pclass_:_Fare_5_quantile           0.838274\n",
       "SibSp_:_Fare_5_quantile            0.851817\n",
       "Embarked_:_Fare_5_quantile         0.859144\n",
       "Pclass_:_SibSp                     0.866247\n",
       "Pclass_:_Embarked                  0.867568\n",
       "Pclass                             0.879509\n",
       "Fare_5_quantile                    0.881539\n",
       "Fare_5_quantile_:_Fare_5_quantile  0.881539\n",
       "SibSp_:_Age_5_quantile             0.899234\n",
       "SibSp_:_Embarked                   0.917956\n",
       "Embarked_:_Age_5_quantile          0.927924\n",
       "Embarked                           0.945661\n",
       "SibSp                              0.948650\n",
       "Age_5_quantile                     0.964727\n",
       "Age_5_quantile_:_Age_5_quantile    0.964727"
      ]
     },
     "execution_count": 103,
     "metadata": {},
     "output_type": "execute_result"
    }
   ],
   "source": [
    "df_features_entropy = pd.DataFrame(data = dic_features_entropy.values(),index = dic_features_entropy.keys(),columns = ['entropy']).sort_values(by = 'entropy')\n",
    "df_features_entropy"
   ]
  },
  {
   "cell_type": "markdown",
   "metadata": {},
   "source": [
    "- Concretely showing the features that distinguish the most groups with respect to the target variable \n",
    "- Need to account for proportions"
   ]
  },
  {
   "cell_type": "markdown",
   "metadata": {},
   "source": [
    "## Visualisation "
   ]
  },
  {
   "cell_type": "markdown",
   "metadata": {},
   "source": [
    "- Need to include the proportion as well - otherwise example of combination of class and sibling ?? Third class many sibblings all die, not because of proba but simply because we don't have any obervable data that says otherwise !"
   ]
  },
  {
   "cell_type": "code",
   "execution_count": 104,
   "metadata": {},
   "outputs": [],
   "source": [
    "def visualise(feature_entropy_ranking):\n",
    "    # Create dataframe to plot\n",
    "    df_visu = pd.DataFrame(df.groupby(by = list(df_features_entropy.index[feature_entropy_ranking].split(\"_:_\"))+ [target])[id_col].count())\n",
    "    # reset indexes\n",
    "    df_visu = df_visu.sort_values(by = id_col).reset_index()\n",
    "    # create a column\n",
    "    df_visu['visu_axis'] = df_visu.drop([id_col,target], axis=1).astype(str).apply('_'.join, axis=1)\n",
    "    \n",
    "    for target_value in df_visu[target].unique():\n",
    "        # color\n",
    "        r,g,b = random.random(),random.random(),random.random()\n",
    "        # df to plot\n",
    "        df_to_plot = df_visu[df_visu[target]==target_value]\n",
    "        objects = tuple(df_to_plot['visu_axis'])\n",
    "        y_pos = np.arange(len(objects))\n",
    "        performance = list(df_to_plot[id_col])\n",
    "        # plotting\n",
    "        plt.bar(y_pos, performance, align='center', color = (r,g,b), alpha=0.5)\n",
    "        plt.xticks(y_pos, objects, rotation='vertical')\n",
    "        plt.ylabel('Count')\n",
    "        plt.legend(str(target_value))\n",
    "        plt.title(\" \".join([str(target_value), df_features_entropy.index[feature_entropy_ranking]]))\n",
    "        print(i,\" \".join([str(target_value), df_features_entropy.index[feature_entropy_ranking]]))\n",
    "        plt.legend(str(target_value))\n",
    "        plt.show()\n",
    "    \n",
    "    print('------------------------------------------------------------------------------------------------')\n",
    "    return df_visu"
   ]
  },
  {
   "cell_type": "code",
   "execution_count": 105,
   "metadata": {
    "scrolled": true
   },
   "outputs": [
    {
     "name": "stdout",
     "output_type": "stream",
     "text": [
      "0 0 Pclass_:_Sex\n"
     ]
    },
    {
     "data": {
      "image/png": "[encoded data removed]",
      "text/plain": [
       "<Figure size 504x360 with 1 Axes>"
      ]
     },
     "metadata": {},
     "output_type": "display_data"
    },
    {
     "name": "stdout",
     "output_type": "stream",
     "text": [
      "0 1 Pclass_:_Sex\n"
     ]
    },
    {
     "data": {
      "image/png": "[encoded data removed]",
      "text/plain": [
       "<Figure size 504x360 with 1 Axes>"
      ]
     },
     "metadata": {},
     "output_type": "display_data"
    },
    {
     "name": "stdout",
     "output_type": "stream",
     "text": [
      "------------------------------------------------------------------------------------------------\n",
      "1 0 Sex_:_Fare_5_quantile\n"
     ]
    },
    {
     "data": {
      "image/png": "[encoded data removed]",
      "text/plain": [
       "<Figure size 504x360 with 1 Axes>"
      ]
     },
     "metadata": {},
     "output_type": "display_data"
    },
    {
     "name": "stdout",
     "output_type": "stream",
     "text": [
      "1 1 Sex_:_Fare_5_quantile\n"
     ]
    },
    {
     "data": {
      "image/png": "[encoded data removed]",
      "text/plain": [
       "<Figure size 504x360 with 1 Axes>"
      ]
     },
     "metadata": {},
     "output_type": "display_data"
    },
    {
     "name": "stdout",
     "output_type": "stream",
     "text": [
      "------------------------------------------------------------------------------------------------\n",
      "2 0 Sex_:_SibSp\n"
     ]
    },
    {
     "data": {
      "image/png": "[encoded data removed]",
      "text/plain": [
       "<Figure size 504x360 with 1 Axes>"
      ]
     },
     "metadata": {},
     "output_type": "display_data"
    },
    {
     "name": "stdout",
     "output_type": "stream",
     "text": [
      "2 1 Sex_:_SibSp\n"
     ]
    },
    {
     "data": {
      "image/png": "[encoded data removed]",
      "text/plain": [
       "<Figure size 504x360 with 1 Axes>"
      ]
     },
     "metadata": {},
     "output_type": "display_data"
    },
    {
     "name": "stdout",
     "output_type": "stream",
     "text": [
      "------------------------------------------------------------------------------------------------\n",
      "3 1 Sex_:_Embarked\n"
     ]
    },
    {
     "data": {
      "image/png": "[encoded data removed]",
      "text/plain": [
       "<Figure size 504x360 with 1 Axes>"
      ]
     },
     "metadata": {},
     "output_type": "display_data"
    },
    {
     "name": "stdout",
     "output_type": "stream",
     "text": [
      "3 0 Sex_:_Embarked\n"
     ]
    },
    {
     "data": {
      "image/png": "[encoded data removed]",
      "text/plain": [
       "<Figure size 504x360 with 1 Axes>"
      ]
     },
     "metadata": {},
     "output_type": "display_data"
    },
    {
     "name": "stdout",
     "output_type": "stream",
     "text": [
      "------------------------------------------------------------------------------------------------\n",
      "4 0 Sex_:_Age_5_quantile\n"
     ]
    },
    {
     "data": {
      "image/png": "[encoded data removed]",
      "text/plain": [
       "<Figure size 504x360 with 1 Axes>"
      ]
     },
     "metadata": {},
     "output_type": "display_data"
    },
    {
     "name": "stdout",
     "output_type": "stream",
     "text": [
      "4 1 Sex_:_Age_5_quantile\n"
     ]
    },
    {
     "data": {
      "image/png": "[encoded data removed]",
      "text/plain": [
       "<Figure size 504x360 with 1 Axes>"
      ]
     },
     "metadata": {},
     "output_type": "display_data"
    },
    {
     "name": "stdout",
     "output_type": "stream",
     "text": [
      "------------------------------------------------------------------------------------------------\n"
     ]
    }
   ],
   "source": [
    "for i in range(0,5):\n",
    "    visualise(i)"
   ]
  },
  {
   "cell_type": "markdown",
   "metadata": {},
   "source": [
    "### Main call"
   ]
  },
  {
   "cell_type": "markdown",
   "metadata": {},
   "source": [
    "- Need to call the missing value\n",
    "- Then the bining of numerical columns\n",
    "- Then the Entropy\n",
    "- Then the feature combination\n",
    "- Then visualisation"
   ]
  },
  {
   "cell_type": "code",
   "execution_count": null,
   "metadata": {},
   "outputs": [],
   "source": [
    "# TODO: Replace missing values strat? \n",
    "\n",
    "# To Do: Numerical target value \n",
    "    # TODO: Handle entropy calculation when the target is not categorical\n",
    "    # To Do: Numerical Value correlation / growth\n",
    "\n",
    "# To Do: Server visualisation (Dask)\n",
    "# To Do: Large Data Frame handling / Paralization\n",
    "# To Do: Library deployment\n",
    "\n",
    "# TODO: Target is not a column that we try to maximise, minimise or find correlation to, but rather a number of rows\n",
    "    # To Do: Visit Maximisation target value\n",
    "\n",
    "# TODO: Feature Engineering Generator\n",
    "    # To Do: Feature extractor (text)"
   ]
  },
  {
   "cell_type": "code",
   "execution_count": 106,
   "metadata": {},
   "outputs": [
    {
     "name": "stdout",
     "output_type": "stream",
     "text": [
      "this is new\n"
     ]
    }
   ],
   "source": [
    "print(\"this is new\")"
   ]
  },
  {
   "cell_type": "code",
   "execution_count": null,
   "metadata": {},
   "outputs": [],
   "source": []
  }
 ],
 "metadata": {
  "kernelspec": {
   "display_name": "auto_bi",
   "language": "python",
   "name": "auto_bi"
  },
  "language_info": {
   "codemirror_mode": {
    "name": "ipython",
    "version": 3
   },
   "file_extension": ".py",
   "mimetype": "text/x-python",
   "name": "python",
   "nbconvert_exporter": "python",
   "pygments_lexer": "ipython3",
   "version": "3.8.1"
  }
 },
 "nbformat": 4,
 "nbformat_minor": 4
}
