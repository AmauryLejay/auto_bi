{
 "cells": [
  {
   "cell_type": "code",
   "execution_count": 1,
   "metadata": {},
   "outputs": [],
   "source": [
    "import pandas as pd\n",
    "import matplotlib.pyplot as plt\n",
    "import numpy as np\n",
    "import math as m\n",
    "import itertools\n",
    "import seaborn as sns\n",
    "import random "
   ]
  },
  {
   "cell_type": "markdown",
   "metadata": {},
   "source": [
    "## Input"
   ]
  },
  {
   "cell_type": "code",
   "execution_count": 2,
   "metadata": {},
   "outputs": [],
   "source": [
    "df = pd.read_csv(\"dataset/titanic.csv\")\n",
    "target = \"Survived\" \n",
    "target_objective = \"binary\",\"maximise\",\"minimise\",\"multiple, maximise / minimise\", \"number_of_rows\" \"etc\" \n",
    "categorical_columns = ['Pclass','Sex','SibSp','Embarked']\n",
    "numerical_col = ['Age','Fare']\n",
    "numerical_values_bining_quantile_nbr = 5"
   ]
  },
  {
   "cell_type": "markdown",
   "metadata": {},
   "source": [
    "## Isolate Categorical and Numerical Features"
   ]
  },
  {
   "cell_type": "code",
   "execution_count": 3,
   "metadata": {},
   "outputs": [],
   "source": [
    "categorical = list(df.select_dtypes(include = ['object']).columns)"
   ]
  },
  {
   "cell_type": "code",
   "execution_count": 4,
   "metadata": {},
   "outputs": [
    {
     "data": {
      "text/plain": [
       "['Name', 'Sex', 'Ticket', 'Cabin', 'Embarked']"
      ]
     },
     "execution_count": 4,
     "metadata": {},
     "output_type": "execute_result"
    }
   ],
   "source": [
    "categorical"
   ]
  },
  {
   "cell_type": "markdown",
   "metadata": {},
   "source": [
    "## Basic KPIs"
   ]
  },
  {
   "cell_type": "code",
   "execution_count": 5,
   "metadata": {},
   "outputs": [
    {
     "data": {
      "text/plain": [
       "(891, 12)"
      ]
     },
     "execution_count": 5,
     "metadata": {},
     "output_type": "execute_result"
    }
   ],
   "source": [
    "df_shape = df.shape\n",
    "df_shape"
   ]
  },
  {
   "cell_type": "code",
   "execution_count": 6,
   "metadata": {},
   "outputs": [
    {
     "data": {
      "text/plain": [
       "['PassengerId',\n",
       " 'Survived',\n",
       " 'Pclass',\n",
       " 'Name',\n",
       " 'Sex',\n",
       " 'Age',\n",
       " 'SibSp',\n",
       " 'Parch',\n",
       " 'Ticket',\n",
       " 'Fare',\n",
       " 'Cabin',\n",
       " 'Embarked']"
      ]
     },
     "execution_count": 6,
     "metadata": {},
     "output_type": "execute_result"
    }
   ],
   "source": [
    "list_columns = df.columns.to_list()\n",
    "list_columns"
   ]
  },
  {
   "cell_type": "code",
   "execution_count": 7,
   "metadata": {},
   "outputs": [
    {
     "data": {
      "text/html": [
       "<div>\n",
       "<style scoped>\n",
       "    .dataframe tbody tr th:only-of-type {\n",
       "        vertical-align: middle;\n",
       "    }\n",
       "\n",
       "    .dataframe tbody tr th {\n",
       "        vertical-align: top;\n",
       "    }\n",
       "\n",
       "    .dataframe thead th {\n",
       "        text-align: right;\n",
       "    }\n",
       "</style>\n",
       "<table border=\"1\" class=\"dataframe\">\n",
       "  <thead>\n",
       "    <tr style=\"text-align: right;\">\n",
       "      <th></th>\n",
       "      <th>PassengerId</th>\n",
       "      <th>Survived</th>\n",
       "      <th>Pclass</th>\n",
       "      <th>Name</th>\n",
       "      <th>Sex</th>\n",
       "      <th>Age</th>\n",
       "      <th>SibSp</th>\n",
       "      <th>Parch</th>\n",
       "      <th>Ticket</th>\n",
       "      <th>Fare</th>\n",
       "      <th>Cabin</th>\n",
       "      <th>Embarked</th>\n",
       "    </tr>\n",
       "  </thead>\n",
       "  <tbody>\n",
       "    <tr>\n",
       "      <th>0</th>\n",
       "      <td>1</td>\n",
       "      <td>0</td>\n",
       "      <td>3</td>\n",
       "      <td>Braund, Mr. Owen Harris</td>\n",
       "      <td>male</td>\n",
       "      <td>22.0</td>\n",
       "      <td>1</td>\n",
       "      <td>0</td>\n",
       "      <td>A/5 21171</td>\n",
       "      <td>7.2500</td>\n",
       "      <td>NaN</td>\n",
       "      <td>S</td>\n",
       "    </tr>\n",
       "    <tr>\n",
       "      <th>1</th>\n",
       "      <td>2</td>\n",
       "      <td>1</td>\n",
       "      <td>1</td>\n",
       "      <td>Cumings, Mrs. John Bradley (Florence Briggs Th...</td>\n",
       "      <td>female</td>\n",
       "      <td>38.0</td>\n",
       "      <td>1</td>\n",
       "      <td>0</td>\n",
       "      <td>PC 17599</td>\n",
       "      <td>71.2833</td>\n",
       "      <td>C85</td>\n",
       "      <td>C</td>\n",
       "    </tr>\n",
       "    <tr>\n",
       "      <th>2</th>\n",
       "      <td>3</td>\n",
       "      <td>1</td>\n",
       "      <td>3</td>\n",
       "      <td>Heikkinen, Miss. Laina</td>\n",
       "      <td>female</td>\n",
       "      <td>26.0</td>\n",
       "      <td>0</td>\n",
       "      <td>0</td>\n",
       "      <td>STON/O2. 3101282</td>\n",
       "      <td>7.9250</td>\n",
       "      <td>NaN</td>\n",
       "      <td>S</td>\n",
       "    </tr>\n",
       "    <tr>\n",
       "      <th>3</th>\n",
       "      <td>4</td>\n",
       "      <td>1</td>\n",
       "      <td>1</td>\n",
       "      <td>Futrelle, Mrs. Jacques Heath (Lily May Peel)</td>\n",
       "      <td>female</td>\n",
       "      <td>35.0</td>\n",
       "      <td>1</td>\n",
       "      <td>0</td>\n",
       "      <td>113803</td>\n",
       "      <td>53.1000</td>\n",
       "      <td>C123</td>\n",
       "      <td>S</td>\n",
       "    </tr>\n",
       "    <tr>\n",
       "      <th>4</th>\n",
       "      <td>5</td>\n",
       "      <td>0</td>\n",
       "      <td>3</td>\n",
       "      <td>Allen, Mr. William Henry</td>\n",
       "      <td>male</td>\n",
       "      <td>35.0</td>\n",
       "      <td>0</td>\n",
       "      <td>0</td>\n",
       "      <td>373450</td>\n",
       "      <td>8.0500</td>\n",
       "      <td>NaN</td>\n",
       "      <td>S</td>\n",
       "    </tr>\n",
       "  </tbody>\n",
       "</table>\n",
       "</div>"
      ],
      "text/plain": [
       "   PassengerId  Survived  Pclass  \\\n",
       "0            1         0       3   \n",
       "1            2         1       1   \n",
       "2            3         1       3   \n",
       "3            4         1       1   \n",
       "4            5         0       3   \n",
       "\n",
       "                                                Name     Sex   Age  SibSp  \\\n",
       "0                            Braund, Mr. Owen Harris    male  22.0      1   \n",
       "1  Cumings, Mrs. John Bradley (Florence Briggs Th...  female  38.0      1   \n",
       "2                             Heikkinen, Miss. Laina  female  26.0      0   \n",
       "3       Futrelle, Mrs. Jacques Heath (Lily May Peel)  female  35.0      1   \n",
       "4                           Allen, Mr. William Henry    male  35.0      0   \n",
       "\n",
       "   Parch            Ticket     Fare Cabin Embarked  \n",
       "0      0         A/5 21171   7.2500   NaN        S  \n",
       "1      0          PC 17599  71.2833   C85        C  \n",
       "2      0  STON/O2. 3101282   7.9250   NaN        S  \n",
       "3      0            113803  53.1000  C123        S  \n",
       "4      0            373450   8.0500   NaN        S  "
      ]
     },
     "execution_count": 7,
     "metadata": {},
     "output_type": "execute_result"
    }
   ],
   "source": [
    "df.head()"
   ]
  },
  {
   "cell_type": "code",
   "execution_count": 8,
   "metadata": {},
   "outputs": [
    {
     "data": {
      "text/html": [
       "<div>\n",
       "<style scoped>\n",
       "    .dataframe tbody tr th:only-of-type {\n",
       "        vertical-align: middle;\n",
       "    }\n",
       "\n",
       "    .dataframe tbody tr th {\n",
       "        vertical-align: top;\n",
       "    }\n",
       "\n",
       "    .dataframe thead th {\n",
       "        text-align: right;\n",
       "    }\n",
       "</style>\n",
       "<table border=\"1\" class=\"dataframe\">\n",
       "  <thead>\n",
       "    <tr style=\"text-align: right;\">\n",
       "      <th></th>\n",
       "      <th>Survived</th>\n",
       "    </tr>\n",
       "  </thead>\n",
       "  <tbody>\n",
       "    <tr>\n",
       "      <th>0</th>\n",
       "      <td>549</td>\n",
       "    </tr>\n",
       "    <tr>\n",
       "      <th>1</th>\n",
       "      <td>342</td>\n",
       "    </tr>\n",
       "  </tbody>\n",
       "</table>\n",
       "</div>"
      ],
      "text/plain": [
       "   Survived\n",
       "0       549\n",
       "1       342"
      ]
     },
     "metadata": {},
     "output_type": "display_data"
    },
    {
     "data": {
      "image/png": "[encoded data removed]",
      "text/plain": [
       "<Figure size 432x288 with 1 Axes>"
      ]
     },
     "metadata": {},
     "output_type": "display_data"
    }
   ],
   "source": [
    "# Case of categorical classification\n",
    "display(pd.DataFrame(df[target].value_counts()))\n",
    "df[target].value_counts().plot.pie(explode=[0,0.1],autopct='%1.1f%%',shadow=True)\n",
    "plt.show()"
   ]
  },
  {
   "cell_type": "code",
   "execution_count": 9,
   "metadata": {},
   "outputs": [
    {
     "data": {
      "text/html": [
       "<div>\n",
       "<style scoped>\n",
       "    .dataframe tbody tr th:only-of-type {\n",
       "        vertical-align: middle;\n",
       "    }\n",
       "\n",
       "    .dataframe tbody tr th {\n",
       "        vertical-align: top;\n",
       "    }\n",
       "\n",
       "    .dataframe thead th {\n",
       "        text-align: right;\n",
       "    }\n",
       "</style>\n",
       "<table border=\"1\" class=\"dataframe\">\n",
       "  <thead>\n",
       "    <tr style=\"text-align: right;\">\n",
       "      <th></th>\n",
       "      <th>Survived</th>\n",
       "    </tr>\n",
       "  </thead>\n",
       "  <tbody>\n",
       "    <tr>\n",
       "      <th>count</th>\n",
       "      <td>891.000000</td>\n",
       "    </tr>\n",
       "    <tr>\n",
       "      <th>mean</th>\n",
       "      <td>0.383838</td>\n",
       "    </tr>\n",
       "    <tr>\n",
       "      <th>std</th>\n",
       "      <td>0.486592</td>\n",
       "    </tr>\n",
       "    <tr>\n",
       "      <th>min</th>\n",
       "      <td>0.000000</td>\n",
       "    </tr>\n",
       "    <tr>\n",
       "      <th>25%</th>\n",
       "      <td>0.000000</td>\n",
       "    </tr>\n",
       "    <tr>\n",
       "      <th>50%</th>\n",
       "      <td>0.000000</td>\n",
       "    </tr>\n",
       "    <tr>\n",
       "      <th>75%</th>\n",
       "      <td>1.000000</td>\n",
       "    </tr>\n",
       "    <tr>\n",
       "      <th>max</th>\n",
       "      <td>1.000000</td>\n",
       "    </tr>\n",
       "  </tbody>\n",
       "</table>\n",
       "</div>"
      ],
      "text/plain": [
       "         Survived\n",
       "count  891.000000\n",
       "mean     0.383838\n",
       "std      0.486592\n",
       "min      0.000000\n",
       "25%      0.000000\n",
       "50%      0.000000\n",
       "75%      1.000000\n",
       "max      1.000000"
      ]
     },
     "execution_count": 9,
     "metadata": {},
     "output_type": "execute_result"
    }
   ],
   "source": [
    "pd.DataFrame(df[target].describe())"
   ]
  },
  {
   "cell_type": "markdown",
   "metadata": {},
   "source": [
    "Type of data:\n",
    "\n",
    "- numerical continuous (floats)\n",
    "- numerical discreet (integer)\n",
    "- categorical (contain letters) \n",
    "    - Of importance if the number of unique values of the categorical is not to small compared \n",
    "    to the numbuer of unique ID (case where almost all ID have the same category) and not to high (case where each ID has a unique category). Need to rank by \n",
    "- categorical ordinal - ordered category (is categorical - and ."
   ]
  },
  {
   "cell_type": "markdown",
   "metadata": {},
   "source": [
    "## Missing Values"
   ]
  },
  {
   "cell_type": "code",
   "execution_count": 10,
   "metadata": {},
   "outputs": [],
   "source": [
    "def missing_values(df, df_shape, list_columns):\n",
    "    '''input : \n",
    "    - dataframe: full pandas dataframe\n",
    "    - tuple: main dataframe shape\n",
    "    - list: dataframe columns \n",
    "    - floats: threshold ratio of missing value acceptable for ID column\n",
    "    - floats: threshold ratio of missing value acceptable for all other column\n",
    "    \n",
    "    output: \n",
    "    - string - Name of the column to use for counts \n",
    "    - Boolean - True if too many missing value, 20% threshold met, False otherwise.\n",
    "    - dictionnary - missing value dict {column name : number of missing values}'''\n",
    "    \n",
    "    # Threshold of missing values that the main col used for groupby count must meet to raise an alert\n",
    "    threshold_main_col = 0.01\n",
    "    # Threshold of missing values that the other colmust meet to raise an alert\n",
    "    threshold_other_col = 0.1\n",
    "    \n",
    "    missing_val_serie = df.isnull().sum().sort_values()\n",
    "    col = missing_val_serie.index[0]\n",
    "    number_of_missing_value_main_col = missing_val_serie[0]\n",
    "    ratio = number_of_missing_value_main_col / df_shape[0]\n",
    "    threhold_met = False\n",
    "    if ratio >= threshold_main_col:\n",
    "        threhold_met = True \n",
    "    \n",
    "    col_with_missing_value = [col for col in list_columns if df[col].isnull().sum()/df_shape[0] > threshold_other_col] \n",
    "    \n",
    "    return col,threhold_met,missing_val_serie.to_dict(),col_with_missing_value"
   ]
  },
  {
   "cell_type": "code",
   "execution_count": 11,
   "metadata": {},
   "outputs": [],
   "source": [
    "id_col,threshold_met,serie,col_with_missing_value = missing_values(df,df_shape,list_columns)"
   ]
  },
  {
   "cell_type": "code",
   "execution_count": 12,
   "metadata": {},
   "outputs": [
    {
     "data": {
      "text/plain": [
       "{'PassengerId': 0,\n",
       " 'Survived': 0,\n",
       " 'Pclass': 0,\n",
       " 'Name': 0,\n",
       " 'Sex': 0,\n",
       " 'SibSp': 0,\n",
       " 'Parch': 0,\n",
       " 'Ticket': 0,\n",
       " 'Fare': 0,\n",
       " 'Embarked': 2,\n",
       " 'Age': 177,\n",
       " 'Cabin': 687}"
      ]
     },
     "execution_count": 12,
     "metadata": {},
     "output_type": "execute_result"
    }
   ],
   "source": [
    "serie"
   ]
  },
  {
   "cell_type": "code",
   "execution_count": 13,
   "metadata": {},
   "outputs": [],
   "source": [
    "# FOR NOW\n",
    "df.dropna(subset = ['Age','Embarked'],axis = 0, inplace = True)"
   ]
  },
  {
   "cell_type": "markdown",
   "metadata": {},
   "source": [
    "****"
   ]
  },
  {
   "cell_type": "markdown",
   "metadata": {},
   "source": [
    "## Entropy Calculation"
   ]
  },
  {
   "cell_type": "markdown",
   "metadata": {},
   "source": [
    " For categorical variables"
   ]
  },
  {
   "cell_type": "code",
   "execution_count": 14,
   "metadata": {},
   "outputs": [
    {
     "data": {
      "text/html": [
       "<div>\n",
       "<style scoped>\n",
       "    .dataframe tbody tr th:only-of-type {\n",
       "        vertical-align: middle;\n",
       "    }\n",
       "\n",
       "    .dataframe tbody tr th {\n",
       "        vertical-align: top;\n",
       "    }\n",
       "\n",
       "    .dataframe thead th {\n",
       "        text-align: right;\n",
       "    }\n",
       "</style>\n",
       "<table border=\"1\" class=\"dataframe\">\n",
       "  <thead>\n",
       "    <tr style=\"text-align: right;\">\n",
       "      <th></th>\n",
       "      <th>Survived</th>\n",
       "      <th>count</th>\n",
       "    </tr>\n",
       "    <tr>\n",
       "      <th>Sex</th>\n",
       "      <th></th>\n",
       "      <th></th>\n",
       "    </tr>\n",
       "  </thead>\n",
       "  <tbody>\n",
       "    <tr>\n",
       "      <th>female</th>\n",
       "      <td>0</td>\n",
       "      <td>64</td>\n",
       "    </tr>\n",
       "    <tr>\n",
       "      <th>female</th>\n",
       "      <td>1</td>\n",
       "      <td>195</td>\n",
       "    </tr>\n",
       "    <tr>\n",
       "      <th>male</th>\n",
       "      <td>0</td>\n",
       "      <td>360</td>\n",
       "    </tr>\n",
       "    <tr>\n",
       "      <th>male</th>\n",
       "      <td>1</td>\n",
       "      <td>93</td>\n",
       "    </tr>\n",
       "  </tbody>\n",
       "</table>\n",
       "</div>"
      ],
      "text/plain": [
       "        Survived  count\n",
       "Sex                    \n",
       "female         0     64\n",
       "female         1    195\n",
       "male           0    360\n",
       "male           1     93"
      ]
     },
     "execution_count": 14,
     "metadata": {},
     "output_type": "execute_result"
    }
   ],
   "source": [
    "df_groupby = pd.DataFrame(df.groupby(by = ['Sex',target])[id_col].count()).rename({id_col:\"count\"},axis =1)\n",
    "df_groupby.reset_index(level = -1,inplace = True)\n",
    "df_groupby"
   ]
  },
  {
   "cell_type": "code",
   "execution_count": 15,
   "metadata": {},
   "outputs": [],
   "source": [
    "def entropy(df_groupby, target_col, base=2):\n",
    "    \"\"\"input: \n",
    "    - dataframe : groupby dataframe \n",
    "    - target_col : string corresponding to the column that we want to classify/study\n",
    "    - list : splitting criteria, usually the name of the columns used to proceed the groupby\n",
    "    - integer : base of the logarithm used for entropy calculation\n",
    "    output:\n",
    "    - entropy value of the splitting criteria belonging to [0-1] Goal is to reach a low entropy, with a low diversity.\n",
    "    \n",
    "    entropy calculation inspired from here https://towardsdatascience.com/entropy-how-decision-trees-make-decisions-2946b9c18c8\n",
    "        \"\"\" \n",
    "    total_entropy = 0\n",
    "    count_total = df_groupby['count'].sum()\n",
    "    \n",
    "    # Case where the splitting criteria is categorical \n",
    "    list_splited_groups = list(df_groupby.index.unique())\n",
    "    #list_splited_groups = list(df_groupby[splitting_criteria].unique()) # Used to be this, splitting criteria was inputed\n",
    "    \n",
    "    # Iterating over the various groups\n",
    "    for splitting_index in list_splited_groups:\n",
    "        df_splitted = df_groupby.loc[[splitting_index]]\n",
    "        #df_splitted = df_groupby[df_groupby[splitting_criteria] == splitting_index] # Used to be this \n",
    "        total = df_splitted['count'].sum()\n",
    "        \n",
    "        # Case where the target variable is categorical\n",
    "        # Iterating over the different target classes within the group\n",
    "        entropy_group = 0\n",
    "        for target_value in df_splitted[target_col].unique():\n",
    "            count = df_splitted[df_splitted[target_col] == target_value]['count'].iloc[0]\n",
    "            \n",
    "            if count == 0:\n",
    "                entropy_group -= 0\n",
    "            else :\n",
    "                entropy_group -= (count/total)*m.log(count/total,base)\n",
    "                \n",
    "        total_entropy += entropy_group*(total/count_total)\n",
    "    \n",
    "    return total_entropy"
   ]
  },
  {
   "cell_type": "code",
   "execution_count": 16,
   "metadata": {},
   "outputs": [
    {
     "data": {
      "text/plain": [
       "0.7594106895489579"
      ]
     },
     "execution_count": 16,
     "metadata": {},
     "output_type": "execute_result"
    }
   ],
   "source": [
    "total_entropy = entropy(df_groupby, target_col = target, base=2)\n",
    "total_entropy"
   ]
  },
  {
   "cell_type": "markdown",
   "metadata": {},
   "source": [
    "## Numerical Features"
   ]
  },
  {
   "cell_type": "markdown",
   "metadata": {},
   "source": [
    "- Bining \n",
    "- Correlation calculatio"
   ]
  },
  {
   "cell_type": "code",
   "execution_count": 17,
   "metadata": {},
   "outputs": [],
   "source": [
    "def bining(df, nbr_quantile, numerical_col):\n",
    "    list_new_categorical_features = []\n",
    "    for col in numerical_col:\n",
    "        df[f'{col}_{nbr_quantile}_quantile'] = pd.qcut(df[col],q=nbr_quantile)\n",
    "        list_new_categorical_features.append(f'{col}_{nbr_quantile}_quantile')\n",
    "    return list_new_categorical_features\n",
    "\n",
    "list_new_cat_features = bining(df,numerical_values_bining_quantile_nbr,numerical_col)"
   ]
  },
  {
   "cell_type": "code",
   "execution_count": 18,
   "metadata": {},
   "outputs": [
    {
     "data": {
      "text/html": [
       "<div>\n",
       "<style scoped>\n",
       "    .dataframe tbody tr th:only-of-type {\n",
       "        vertical-align: middle;\n",
       "    }\n",
       "\n",
       "    .dataframe tbody tr th {\n",
       "        vertical-align: top;\n",
       "    }\n",
       "\n",
       "    .dataframe thead th {\n",
       "        text-align: right;\n",
       "    }\n",
       "</style>\n",
       "<table border=\"1\" class=\"dataframe\">\n",
       "  <thead>\n",
       "    <tr style=\"text-align: right;\">\n",
       "      <th></th>\n",
       "      <th>PassengerId</th>\n",
       "      <th>Survived</th>\n",
       "      <th>Pclass</th>\n",
       "      <th>Name</th>\n",
       "      <th>Sex</th>\n",
       "      <th>Age</th>\n",
       "      <th>SibSp</th>\n",
       "      <th>Parch</th>\n",
       "      <th>Ticket</th>\n",
       "      <th>Fare</th>\n",
       "      <th>Cabin</th>\n",
       "      <th>Embarked</th>\n",
       "      <th>Age_5_quantile</th>\n",
       "      <th>Fare_5_quantile</th>\n",
       "    </tr>\n",
       "  </thead>\n",
       "  <tbody>\n",
       "    <tr>\n",
       "      <th>0</th>\n",
       "      <td>1</td>\n",
       "      <td>0</td>\n",
       "      <td>3</td>\n",
       "      <td>Braund, Mr. Owen Harris</td>\n",
       "      <td>male</td>\n",
       "      <td>22.0</td>\n",
       "      <td>1</td>\n",
       "      <td>0</td>\n",
       "      <td>A/5 21171</td>\n",
       "      <td>7.2500</td>\n",
       "      <td>NaN</td>\n",
       "      <td>S</td>\n",
       "      <td>(19.0, 25.0]</td>\n",
       "      <td>(-0.001, 7.902]</td>\n",
       "    </tr>\n",
       "    <tr>\n",
       "      <th>1</th>\n",
       "      <td>2</td>\n",
       "      <td>1</td>\n",
       "      <td>1</td>\n",
       "      <td>Cumings, Mrs. John Bradley (Florence Briggs Th...</td>\n",
       "      <td>female</td>\n",
       "      <td>38.0</td>\n",
       "      <td>1</td>\n",
       "      <td>0</td>\n",
       "      <td>PC 17599</td>\n",
       "      <td>71.2833</td>\n",
       "      <td>C85</td>\n",
       "      <td>C</td>\n",
       "      <td>(31.0, 41.0]</td>\n",
       "      <td>(46.9, 512.329]</td>\n",
       "    </tr>\n",
       "    <tr>\n",
       "      <th>2</th>\n",
       "      <td>3</td>\n",
       "      <td>1</td>\n",
       "      <td>3</td>\n",
       "      <td>Heikkinen, Miss. Laina</td>\n",
       "      <td>female</td>\n",
       "      <td>26.0</td>\n",
       "      <td>0</td>\n",
       "      <td>0</td>\n",
       "      <td>STON/O2. 3101282</td>\n",
       "      <td>7.9250</td>\n",
       "      <td>NaN</td>\n",
       "      <td>S</td>\n",
       "      <td>(25.0, 31.0]</td>\n",
       "      <td>(7.902, 12.925]</td>\n",
       "    </tr>\n",
       "    <tr>\n",
       "      <th>3</th>\n",
       "      <td>4</td>\n",
       "      <td>1</td>\n",
       "      <td>1</td>\n",
       "      <td>Futrelle, Mrs. Jacques Heath (Lily May Peel)</td>\n",
       "      <td>female</td>\n",
       "      <td>35.0</td>\n",
       "      <td>1</td>\n",
       "      <td>0</td>\n",
       "      <td>113803</td>\n",
       "      <td>53.1000</td>\n",
       "      <td>C123</td>\n",
       "      <td>S</td>\n",
       "      <td>(31.0, 41.0]</td>\n",
       "      <td>(46.9, 512.329]</td>\n",
       "    </tr>\n",
       "    <tr>\n",
       "      <th>4</th>\n",
       "      <td>5</td>\n",
       "      <td>0</td>\n",
       "      <td>3</td>\n",
       "      <td>Allen, Mr. William Henry</td>\n",
       "      <td>male</td>\n",
       "      <td>35.0</td>\n",
       "      <td>0</td>\n",
       "      <td>0</td>\n",
       "      <td>373450</td>\n",
       "      <td>8.0500</td>\n",
       "      <td>NaN</td>\n",
       "      <td>S</td>\n",
       "      <td>(31.0, 41.0]</td>\n",
       "      <td>(7.902, 12.925]</td>\n",
       "    </tr>\n",
       "  </tbody>\n",
       "</table>\n",
       "</div>"
      ],
      "text/plain": [
       "   PassengerId  Survived  Pclass  \\\n",
       "0            1         0       3   \n",
       "1            2         1       1   \n",
       "2            3         1       3   \n",
       "3            4         1       1   \n",
       "4            5         0       3   \n",
       "\n",
       "                                                Name     Sex   Age  SibSp  \\\n",
       "0                            Braund, Mr. Owen Harris    male  22.0      1   \n",
       "1  Cumings, Mrs. John Bradley (Florence Briggs Th...  female  38.0      1   \n",
       "2                             Heikkinen, Miss. Laina  female  26.0      0   \n",
       "3       Futrelle, Mrs. Jacques Heath (Lily May Peel)  female  35.0      1   \n",
       "4                           Allen, Mr. William Henry    male  35.0      0   \n",
       "\n",
       "   Parch            Ticket     Fare Cabin Embarked Age_5_quantile  \\\n",
       "0      0         A/5 21171   7.2500   NaN        S   (19.0, 25.0]   \n",
       "1      0          PC 17599  71.2833   C85        C   (31.0, 41.0]   \n",
       "2      0  STON/O2. 3101282   7.9250   NaN        S   (25.0, 31.0]   \n",
       "3      0            113803  53.1000  C123        S   (31.0, 41.0]   \n",
       "4      0            373450   8.0500   NaN        S   (31.0, 41.0]   \n",
       "\n",
       "   Fare_5_quantile  \n",
       "0  (-0.001, 7.902]  \n",
       "1  (46.9, 512.329]  \n",
       "2  (7.902, 12.925]  \n",
       "3  (46.9, 512.329]  \n",
       "4  (7.902, 12.925]  "
      ]
     },
     "execution_count": 18,
     "metadata": {},
     "output_type": "execute_result"
    }
   ],
   "source": [
    "df.head()"
   ]
  },
  {
   "cell_type": "markdown",
   "metadata": {},
   "source": [
    "## Feature engineering Generator"
   ]
  },
  {
   "cell_type": "markdown",
   "metadata": {},
   "source": [
    "- Text\n",
    "- Email\n",
    "- Title\n",
    "- Date\n",
    "- ..."
   ]
  },
  {
   "cell_type": "code",
   "execution_count": 19,
   "metadata": {},
   "outputs": [
    {
     "name": "stderr",
     "output_type": "stream",
     "text": [
      "[nltk_data] Downloading package stopwords to\n",
      "[nltk_data]     /Users/amaurylejay/nltk_data...\n",
      "[nltk_data]   Package stopwords is already up-to-date!\n"
     ]
    }
   ],
   "source": [
    "from sklearn.feature_extraction.text import TfidfVectorizer\n",
    "import nltk\n",
    "from nltk.corpus import stopwords\n",
    "nltk.download('stopwords')\n",
    "from stop_words import get_stop_words"
   ]
  },
  {
   "cell_type": "code",
   "execution_count": 20,
   "metadata": {},
   "outputs": [],
   "source": [
    "def get_tfidf_vectorizer(df, field, vectorizer):\n",
    "    tfidf = vectorizer.fit_transform(df[field])\n",
    "    tfidf_cols = vectorizer.get_feature_names()\n",
    "    print(tfidf_cols)\n",
    "    temp = pd.DataFrame(data=tfidf.todense(), columns=['tfidf_' + field + '_' + i for i in tfidf_cols])\n",
    "    df = pd.concat([df, temp], axis=1)\n",
    "    return df\n",
    "\n",
    "#custom tokenizer for tfifd\n",
    "def custom_tokenizer(s):\n",
    "    return s.split(',')"
   ]
  },
  {
   "cell_type": "code",
   "execution_count": 21,
   "metadata": {
    "scrolled": true
   },
   "outputs": [
    {
     "name": "stdout",
     "output_type": "stream",
     "text": [
      "[' miss. anna sofia', ' miss. bertha', ' miss. kate', ' miss. mary', ' mr. charles henry', ' mr. george', ' mr. ivan', ' mr. james', ' mr. samuel', ' mr. william', ' mr. william henry', ' mr. william john', 'allison', 'andersson', 'asplund', 'baclini', 'beane', 'brown', 'carter', 'collyer', 'davies', 'ford', 'fortune', 'goldsmith', 'goodwin', 'graham', 'gustafsson', 'hansen', 'harper', 'harris', 'hart', 'hickman', 'jensen', 'johansson', 'johnson', 'jussila', 'laroche', 'mellinger', 'navratil', 'newell', 'palsson', 'panula', 'rice', 'richards', 'skoog', 'taussig', 'thayer', 'van impe', 'vander planke', 'west']\n"
     ]
    }
   ],
   "source": [
    "df = get_tfidf_vectorizer(df,'Name', TfidfVectorizer(analyzer='word',ngram_range=(1,3),stop_words = stopwords.words('english'),lowercase=True,max_features=50,binary=True,norm=None,use_idf=False, tokenizer=custom_tokenizer))"
   ]
  },
  {
   "cell_type": "code",
   "execution_count": null,
   "metadata": {},
   "outputs": [],
   "source": [
    "import spacy\n",
    "from spacy import displacy\n",
    "nlp = spacy.load(\"en_core_web_sm\")"
   ]
  },
  {
   "cell_type": "code",
   "execution_count": null,
   "metadata": {},
   "outputs": [],
   "source": [
    "doc = nlp(df['Name'].iloc[0])\n",
    "df['Name'].iloc[0]"
   ]
  },
  {
   "cell_type": "code",
   "execution_count": null,
   "metadata": {},
   "outputs": [],
   "source": [
    "for token in doc:\n",
    "    print(token.is_stop) # GREAT\n",
    "    print(token.lemma_)"
   ]
  },
  {
   "cell_type": "code",
   "execution_count": null,
   "metadata": {},
   "outputs": [],
   "source": [
    "spacy.explain(\"npadvmod\")"
   ]
  },
  {
   "cell_type": "code",
   "execution_count": null,
   "metadata": {},
   "outputs": [],
   "source": [
    "colors = {\"ORG\": \"linear-gradient(90deg, #aa9cfc, #fc9ce7)\"}\n",
    "options = {\"ents\": [\"ORG\"], \"colors\": colors}\n",
    "displacy.render(doc, style=\"ent\")"
   ]
  },
  {
   "cell_type": "code",
   "execution_count": null,
   "metadata": {},
   "outputs": [],
   "source": [
    "for ent in doc.ents:\n",
    "    print(ent.label_) # GREAT"
   ]
  },
  {
   "cell_type": "markdown",
   "metadata": {},
   "source": [
    "- other label \"org\", \"Group\", \"money\""
   ]
  },
  {
   "cell_type": "markdown",
   "metadata": {},
   "source": [
    "## Feature redundancy "
   ]
  },
  {
   "cell_type": "markdown",
   "metadata": {},
   "source": [
    "- Goal is just to flag them and remove them from the entropy calculation if too much correlated "
   ]
  },
  {
   "cell_type": "code",
   "execution_count": null,
   "metadata": {},
   "outputs": [],
   "source": [
    "# Calculating correlation of features\n",
    "df_corr = df.drop([id_col], axis=1).corr()\n",
    "# Creating a mask to get rid of half of the correlation matrix \n",
    "mask = np.triu(np.ones_like(df_corr, dtype=np.bool))\n",
    "# Set size of the figure\n",
    "sns.set(rc={'figure.figsize':(7,5)})\n",
    "# Generate a visualization of the correlation matrix\n",
    "sns.heatmap(df_corr, annot=True, mask = mask,square=True, linewidths=.5)\n",
    "plt.title(\"Feature Correlation\")\n",
    "plt.show()"
   ]
  },
  {
   "cell_type": "code",
   "execution_count": null,
   "metadata": {},
   "outputs": [],
   "source": [
    "def color_negative_red(val):\n",
    "    \"\"\"\n",
    "    Takes a scalar and returns a string with\n",
    "    the css property `'color: red'` for negative\n",
    "    strings, black otherwise.\n",
    "    \"\"\"\n",
    "    threshold = 0\n",
    "    color = 'red' if val < threshold else 'black'\n",
    "    return 'color: %s' % color\n",
    "\n",
    "#display(corr.style.bar(align='mid', color=['#d65f5f', '#5fba7d']))\n",
    "\n",
    "display(df.corr().style.applymap(color_negative_red))\n",
    "df.corr().abs().rank(ascending=False)"
   ]
  },
  {
   "cell_type": "markdown",
   "metadata": {},
   "source": [
    "## Feature combination"
   ]
  },
  {
   "cell_type": "markdown",
   "metadata": {},
   "source": [
    "- need to find a way to find the type of columns (i.e. categorical, numerical etc)\n",
    "- need to find a way to calculate correlation with numerical colums with respect to the target value, whether it's categorical like in our case or sales / visits (in the future)."
   ]
  },
  {
   "cell_type": "code",
   "execution_count": null,
   "metadata": {},
   "outputs": [],
   "source": [
    "categorical_columns = categorical_columns + list_new_cat_features\n",
    "categorical_columns"
   ]
  },
  {
   "cell_type": "code",
   "execution_count": null,
   "metadata": {},
   "outputs": [],
   "source": [
    "df.head()"
   ]
  },
  {
   "cell_type": "code",
   "execution_count": null,
   "metadata": {},
   "outputs": [],
   "source": [
    "def categorical_feature_combinations(main_df, id_col, categorical_col):\n",
    "\n",
    "    dic_features_entropy = {}\n",
    "    \n",
    "    # Iterating over all base categorical features\n",
    "    for feature in categorical_col:\n",
    "        df_groupby = pd.DataFrame(main_df.groupby(by = [feature,target])[id_col].count())\n",
    "        df_groupby.rename({id_col:\"count\"},axis =1,inplace = True)\n",
    "        df_groupby.reset_index(level = -1,inplace = True)\n",
    "        dic_features_entropy[feature] = entropy(df_groupby, target_col = target, base=2)\n",
    "    \n",
    "    # Iterating over all combination of categorical features\n",
    "    for combination_of_feature in itertools.combinations(categorical_columns, 2):\n",
    "        df_groupby = pd.DataFrame(main_df.groupby(by = [i for i in combination_of_feature + (target,)])[id_col].count()).rename({id_col:\"count\"},axis =1)\n",
    "        df_groupby.rename({id_col:\"count\"},axis =1,inplace = True)\n",
    "        df_groupby.reset_index(level = -1,inplace = True)\n",
    "        dic_features_entropy[\"_:_\".join([i for i in combination_of_feature])] = entropy(df_groupby, target_col = target, base=2)\n",
    "        \n",
    "    return dic_features_entropy"
   ]
  },
  {
   "cell_type": "code",
   "execution_count": null,
   "metadata": {},
   "outputs": [],
   "source": [
    "dic_features_entropy = categorical_feature_combinations(df,id_col,categorical_columns)\n",
    "dic_features_entropy"
   ]
  },
  {
   "cell_type": "code",
   "execution_count": null,
   "metadata": {},
   "outputs": [],
   "source": [
    "df_features_entropy = pd.DataFrame(data = dic_features_entropy.values(),index = dic_features_entropy.keys(),columns = ['entropy']).sort_values(by = 'entropy')\n",
    "df_features_entropy"
   ]
  },
  {
   "cell_type": "markdown",
   "metadata": {},
   "source": [
    "- Concretely showing the features that distinguish the most groups with respect to the target variable \n",
    "- Need to account for proportions"
   ]
  },
  {
   "cell_type": "markdown",
   "metadata": {},
   "source": [
    "## Visualisation "
   ]
  },
  {
   "cell_type": "markdown",
   "metadata": {},
   "source": [
    "- Need to include the proportion as well - otherwise example of combination of class and sibling ?? Third class many sibblings all die, not because of proba but simply because we don't have any obervable data that says otherwise !"
   ]
  },
  {
   "cell_type": "code",
   "execution_count": null,
   "metadata": {},
   "outputs": [],
   "source": [
    "def visualise(feature_entropy_ranking):\n",
    "    # Create dataframe to plot\n",
    "    df_visu = pd.DataFrame(df.groupby(by = list(df_features_entropy.index[feature_entropy_ranking].split(\"_:_\"))+ [target])[id_col].count())\n",
    "    # reset indexes\n",
    "    df_visu = df_visu.sort_values(by = id_col).reset_index()\n",
    "    # create a column\n",
    "    df_visu['visu_axis'] = df_visu.drop([id_col,target], axis=1).astype(str).apply('_'.join, axis=1)\n",
    "    \n",
    "    for target_value in df_visu[target].unique():\n",
    "        # color\n",
    "        r,g,b = random.random(),random.random(),random.random()\n",
    "        # df to plot\n",
    "        df_to_plot = df_visu[df_visu[target]==target_value]\n",
    "        objects = tuple(df_to_plot['visu_axis'])\n",
    "        y_pos = np.arange(len(objects))\n",
    "        performance = list(df_to_plot[id_col])\n",
    "        # plotting\n",
    "        plt.bar(y_pos, performance, align='center', color = (r,g,b), alpha=0.5)\n",
    "        plt.xticks(y_pos, objects, rotation='vertical')\n",
    "        plt.ylabel('Count')\n",
    "        plt.legend(str(target_value))\n",
    "        plt.title(\" \".join([str(target_value), df_features_entropy.index[feature_entropy_ranking]]))\n",
    "        print(i,\" \".join([str(target_value), df_features_entropy.index[feature_entropy_ranking]]))\n",
    "        plt.legend(str(target_value))\n",
    "        plt.show()\n",
    "    \n",
    "    print('------------------------------------------------------------------------------------------------')\n",
    "    return df_visu"
   ]
  },
  {
   "cell_type": "code",
   "execution_count": null,
   "metadata": {
    "scrolled": true
   },
   "outputs": [],
   "source": [
    "for i in range(0,5):\n",
    "    visualise(i)"
   ]
  },
  {
   "cell_type": "markdown",
   "metadata": {},
   "source": [
    "### Main call"
   ]
  },
  {
   "cell_type": "markdown",
   "metadata": {},
   "source": [
    "- Need to call the missing value\n",
    "- Then the bining of numerical columns\n",
    "- Then the Entropy\n",
    "- Then the feature combination\n",
    "- Then visualisation"
   ]
  },
  {
   "cell_type": "code",
   "execution_count": null,
   "metadata": {},
   "outputs": [],
   "source": [
    "# TODO: Replace missing values strat? \n",
    "\n",
    "# To Do: Numerical target value \n",
    "    # TODO: Handle entropy calculation when the target is not categorical DONE\n",
    "    # To Do: Numerical Value correlation / growth \n",
    "\n",
    "# To Do: Server visualisation (Dask)\n",
    "# To Do: Large Data Frame handling / Paralization\n",
    "# To Do: Library deployment\n",
    "\n",
    "# TODO: Target is not a column that we try to maximise, minimise or find correlation to, but rather a number of rows\n",
    "    # To Do: Visit Maximisation target value\n",
    "\n",
    "# TODO: Feature Engineering Generator\n",
    "    # Decide how many features we choose for text\n",
    "    # To Do: Feature extractor (text) DONE"
   ]
  },
  {
   "cell_type": "code",
   "execution_count": null,
   "metadata": {},
   "outputs": [],
   "source": [
    "print(\"this is new\")"
   ]
  },
  {
   "cell_type": "code",
   "execution_count": null,
   "metadata": {},
   "outputs": [],
   "source": []
  }
 ],
 "metadata": {
  "kernelspec": {
   "display_name": "auto_bi",
   "language": "python",
   "name": "auto_bi"
  },
  "language_info": {
   "codemirror_mode": {
    "name": "ipython",
    "version": 3
   },
   "file_extension": ".py",
   "mimetype": "text/x-python",
   "name": "python",
   "nbconvert_exporter": "python",
   "pygments_lexer": "ipython3",
   "version": "3.8.1"
  }
 },
 "nbformat": 4,
 "nbformat_minor": 4
}
