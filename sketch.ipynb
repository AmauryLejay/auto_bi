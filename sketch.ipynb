{
 "cells": [
  {
   "cell_type": "code",
   "execution_count": 52,
   "metadata": {},
   "outputs": [],
   "source": [
    "import pandas as pd\n",
    "import matplotlib.pyplot as plt\n",
    "import numpy as np\n",
    "import math as m\n",
    "import itertools\n",
    "import seaborn as sns\n",
    "import random \n",
    "\n",
    "\n",
    "import plotly.express as px\n",
    "import dash\n",
    "import dash_core_components as dcc\n",
    "import dash_html_components as html"
   ]
  },
  {
   "cell_type": "markdown",
   "metadata": {},
   "source": [
    "## Input"
   ]
  },
  {
   "cell_type": "code",
   "execution_count": 2,
   "metadata": {},
   "outputs": [],
   "source": [
    "df = pd.read_csv(\"dataset/titanic.csv\")\n",
    "target = \"Survived\" \n",
    "target_objective = \"binary\",\"maximise\",\"minimise\",\"multiple, maximise / minimise\", \"number_of_rows\" \"etc\" \n",
    "categorical_columns = ['Pclass','Sex','SibSp','Embarked']\n",
    "numerical_col = ['Age','Fare']\n",
    "numerical_values_bining_quantile_nbr = 5"
   ]
  },
  {
   "cell_type": "markdown",
   "metadata": {},
   "source": [
    "## Isolate Categorical and Numerical Features"
   ]
  },
  {
   "cell_type": "code",
   "execution_count": 3,
   "metadata": {},
   "outputs": [],
   "source": [
    "categorical = list(df.select_dtypes(include = ['object']).columns)"
   ]
  },
  {
   "cell_type": "code",
   "execution_count": 4,
   "metadata": {},
   "outputs": [
    {
     "data": {
      "text/plain": [
       "['Name', 'Sex', 'Ticket', 'Cabin', 'Embarked']"
      ]
     },
     "execution_count": 4,
     "metadata": {},
     "output_type": "execute_result"
    }
   ],
   "source": [
    "categorical"
   ]
  },
  {
   "cell_type": "markdown",
   "metadata": {},
   "source": [
    "## Basic KPIs"
   ]
  },
  {
   "cell_type": "code",
   "execution_count": 5,
   "metadata": {},
   "outputs": [
    {
     "data": {
      "text/plain": [
       "(891, 12)"
      ]
     },
     "execution_count": 5,
     "metadata": {},
     "output_type": "execute_result"
    }
   ],
   "source": [
    "df_shape = df.shape\n",
    "df_shape"
   ]
  },
  {
   "cell_type": "code",
   "execution_count": 6,
   "metadata": {},
   "outputs": [
    {
     "data": {
      "text/plain": [
       "['PassengerId',\n",
       " 'Survived',\n",
       " 'Pclass',\n",
       " 'Name',\n",
       " 'Sex',\n",
       " 'Age',\n",
       " 'SibSp',\n",
       " 'Parch',\n",
       " 'Ticket',\n",
       " 'Fare',\n",
       " 'Cabin',\n",
       " 'Embarked']"
      ]
     },
     "execution_count": 6,
     "metadata": {},
     "output_type": "execute_result"
    }
   ],
   "source": [
    "list_columns = df.columns.to_list()\n",
    "list_columns"
   ]
  },
  {
   "cell_type": "code",
   "execution_count": 7,
   "metadata": {},
   "outputs": [
    {
     "data": {
      "text/html": [
       "<div>\n",
       "<style scoped>\n",
       "    .dataframe tbody tr th:only-of-type {\n",
       "        vertical-align: middle;\n",
       "    }\n",
       "\n",
       "    .dataframe tbody tr th {\n",
       "        vertical-align: top;\n",
       "    }\n",
       "\n",
       "    .dataframe thead th {\n",
       "        text-align: right;\n",
       "    }\n",
       "</style>\n",
       "<table border=\"1\" class=\"dataframe\">\n",
       "  <thead>\n",
       "    <tr style=\"text-align: right;\">\n",
       "      <th></th>\n",
       "      <th>PassengerId</th>\n",
       "      <th>Survived</th>\n",
       "      <th>Pclass</th>\n",
       "      <th>Name</th>\n",
       "      <th>Sex</th>\n",
       "      <th>Age</th>\n",
       "      <th>SibSp</th>\n",
       "      <th>Parch</th>\n",
       "      <th>Ticket</th>\n",
       "      <th>Fare</th>\n",
       "      <th>Cabin</th>\n",
       "      <th>Embarked</th>\n",
       "    </tr>\n",
       "  </thead>\n",
       "  <tbody>\n",
       "    <tr>\n",
       "      <th>0</th>\n",
       "      <td>1</td>\n",
       "      <td>0</td>\n",
       "      <td>3</td>\n",
       "      <td>Braund, Mr. Owen Harris</td>\n",
       "      <td>male</td>\n",
       "      <td>22.0</td>\n",
       "      <td>1</td>\n",
       "      <td>0</td>\n",
       "      <td>A/5 21171</td>\n",
       "      <td>7.2500</td>\n",
       "      <td>NaN</td>\n",
       "      <td>S</td>\n",
       "    </tr>\n",
       "    <tr>\n",
       "      <th>1</th>\n",
       "      <td>2</td>\n",
       "      <td>1</td>\n",
       "      <td>1</td>\n",
       "      <td>Cumings, Mrs. John Bradley (Florence Briggs Th...</td>\n",
       "      <td>female</td>\n",
       "      <td>38.0</td>\n",
       "      <td>1</td>\n",
       "      <td>0</td>\n",
       "      <td>PC 17599</td>\n",
       "      <td>71.2833</td>\n",
       "      <td>C85</td>\n",
       "      <td>C</td>\n",
       "    </tr>\n",
       "    <tr>\n",
       "      <th>2</th>\n",
       "      <td>3</td>\n",
       "      <td>1</td>\n",
       "      <td>3</td>\n",
       "      <td>Heikkinen, Miss. Laina</td>\n",
       "      <td>female</td>\n",
       "      <td>26.0</td>\n",
       "      <td>0</td>\n",
       "      <td>0</td>\n",
       "      <td>STON/O2. 3101282</td>\n",
       "      <td>7.9250</td>\n",
       "      <td>NaN</td>\n",
       "      <td>S</td>\n",
       "    </tr>\n",
       "    <tr>\n",
       "      <th>3</th>\n",
       "      <td>4</td>\n",
       "      <td>1</td>\n",
       "      <td>1</td>\n",
       "      <td>Futrelle, Mrs. Jacques Heath (Lily May Peel)</td>\n",
       "      <td>female</td>\n",
       "      <td>35.0</td>\n",
       "      <td>1</td>\n",
       "      <td>0</td>\n",
       "      <td>113803</td>\n",
       "      <td>53.1000</td>\n",
       "      <td>C123</td>\n",
       "      <td>S</td>\n",
       "    </tr>\n",
       "    <tr>\n",
       "      <th>4</th>\n",
       "      <td>5</td>\n",
       "      <td>0</td>\n",
       "      <td>3</td>\n",
       "      <td>Allen, Mr. William Henry</td>\n",
       "      <td>male</td>\n",
       "      <td>35.0</td>\n",
       "      <td>0</td>\n",
       "      <td>0</td>\n",
       "      <td>373450</td>\n",
       "      <td>8.0500</td>\n",
       "      <td>NaN</td>\n",
       "      <td>S</td>\n",
       "    </tr>\n",
       "  </tbody>\n",
       "</table>\n",
       "</div>"
      ],
      "text/plain": [
       "   PassengerId  Survived  Pclass  \\\n",
       "0            1         0       3   \n",
       "1            2         1       1   \n",
       "2            3         1       3   \n",
       "3            4         1       1   \n",
       "4            5         0       3   \n",
       "\n",
       "                                                Name     Sex   Age  SibSp  \\\n",
       "0                            Braund, Mr. Owen Harris    male  22.0      1   \n",
       "1  Cumings, Mrs. John Bradley (Florence Briggs Th...  female  38.0      1   \n",
       "2                             Heikkinen, Miss. Laina  female  26.0      0   \n",
       "3       Futrelle, Mrs. Jacques Heath (Lily May Peel)  female  35.0      1   \n",
       "4                           Allen, Mr. William Henry    male  35.0      0   \n",
       "\n",
       "   Parch            Ticket     Fare Cabin Embarked  \n",
       "0      0         A/5 21171   7.2500   NaN        S  \n",
       "1      0          PC 17599  71.2833   C85        C  \n",
       "2      0  STON/O2. 3101282   7.9250   NaN        S  \n",
       "3      0            113803  53.1000  C123        S  \n",
       "4      0            373450   8.0500   NaN        S  "
      ]
     },
     "execution_count": 7,
     "metadata": {},
     "output_type": "execute_result"
    }
   ],
   "source": [
    "df.head()"
   ]
  },
  {
   "cell_type": "code",
   "execution_count": 8,
   "metadata": {},
   "outputs": [
    {
     "data": {
      "text/html": [
       "<div>\n",
       "<style scoped>\n",
       "    .dataframe tbody tr th:only-of-type {\n",
       "        vertical-align: middle;\n",
       "    }\n",
       "\n",
       "    .dataframe tbody tr th {\n",
       "        vertical-align: top;\n",
       "    }\n",
       "\n",
       "    .dataframe thead th {\n",
       "        text-align: right;\n",
       "    }\n",
       "</style>\n",
       "<table border=\"1\" class=\"dataframe\">\n",
       "  <thead>\n",
       "    <tr style=\"text-align: right;\">\n",
       "      <th></th>\n",
       "      <th>Survived</th>\n",
       "    </tr>\n",
       "  </thead>\n",
       "  <tbody>\n",
       "    <tr>\n",
       "      <th>0</th>\n",
       "      <td>549</td>\n",
       "    </tr>\n",
       "    <tr>\n",
       "      <th>1</th>\n",
       "      <td>342</td>\n",
       "    </tr>\n",
       "  </tbody>\n",
       "</table>\n",
       "</div>"
      ],
      "text/plain": [
       "   Survived\n",
       "0       549\n",
       "1       342"
      ]
     },
     "metadata": {},
     "output_type": "display_data"
    },
    {
     "data": {
      "image/png": "[encoded data removed]",
      "text/plain": [
       "<Figure size 432x288 with 1 Axes>"
      ]
     },
     "metadata": {},
     "output_type": "display_data"
    }
   ],
   "source": [
    "# Case of categorical classification\n",
    "display(pd.DataFrame(df[target].value_counts()))\n",
    "df[target].value_counts().plot.pie(explode=[0,0.1],autopct='%1.1f%%',shadow=True)\n",
    "plt.show()"
   ]
  },
  {
   "cell_type": "code",
   "execution_count": 9,
   "metadata": {},
   "outputs": [
    {
     "data": {
      "text/html": [
       "<div>\n",
       "<style scoped>\n",
       "    .dataframe tbody tr th:only-of-type {\n",
       "        vertical-align: middle;\n",
       "    }\n",
       "\n",
       "    .dataframe tbody tr th {\n",
       "        vertical-align: top;\n",
       "    }\n",
       "\n",
       "    .dataframe thead th {\n",
       "        text-align: right;\n",
       "    }\n",
       "</style>\n",
       "<table border=\"1\" class=\"dataframe\">\n",
       "  <thead>\n",
       "    <tr style=\"text-align: right;\">\n",
       "      <th></th>\n",
       "      <th>Survived</th>\n",
       "    </tr>\n",
       "  </thead>\n",
       "  <tbody>\n",
       "    <tr>\n",
       "      <th>count</th>\n",
       "      <td>891.000000</td>\n",
       "    </tr>\n",
       "    <tr>\n",
       "      <th>mean</th>\n",
       "      <td>0.383838</td>\n",
       "    </tr>\n",
       "    <tr>\n",
       "      <th>std</th>\n",
       "      <td>0.486592</td>\n",
       "    </tr>\n",
       "    <tr>\n",
       "      <th>min</th>\n",
       "      <td>0.000000</td>\n",
       "    </tr>\n",
       "    <tr>\n",
       "      <th>25%</th>\n",
       "      <td>0.000000</td>\n",
       "    </tr>\n",
       "    <tr>\n",
       "      <th>50%</th>\n",
       "      <td>0.000000</td>\n",
       "    </tr>\n",
       "    <tr>\n",
       "      <th>75%</th>\n",
       "      <td>1.000000</td>\n",
       "    </tr>\n",
       "    <tr>\n",
       "      <th>max</th>\n",
       "      <td>1.000000</td>\n",
       "    </tr>\n",
       "  </tbody>\n",
       "</table>\n",
       "</div>"
      ],
      "text/plain": [
       "         Survived\n",
       "count  891.000000\n",
       "mean     0.383838\n",
       "std      0.486592\n",
       "min      0.000000\n",
       "25%      0.000000\n",
       "50%      0.000000\n",
       "75%      1.000000\n",
       "max      1.000000"
      ]
     },
     "execution_count": 9,
     "metadata": {},
     "output_type": "execute_result"
    }
   ],
   "source": [
    "pd.DataFrame(df[target].describe())"
   ]
  },
  {
   "cell_type": "markdown",
   "metadata": {},
   "source": [
    "Type of data:\n",
    "\n",
    "- numerical continuous (floats)\n",
    "- numerical discreet (integer)\n",
    "- categorical (contain letters) \n",
    "    - Of importance if the number of unique values of the categorical is not to small compared \n",
    "    to the numbuer of unique ID (case where almost all ID have the same category) and not to high (case where each ID has a unique category). Need to rank by \n",
    "- categorical ordinal - ordered category (is categorical - and ."
   ]
  },
  {
   "cell_type": "markdown",
   "metadata": {},
   "source": [
    "## Missing Values"
   ]
  },
  {
   "cell_type": "code",
   "execution_count": 10,
   "metadata": {},
   "outputs": [],
   "source": [
    "def missing_values(df, df_shape, list_columns):\n",
    "    '''input : \n",
    "    - dataframe: full pandas dataframe\n",
    "    - tuple: main dataframe shape\n",
    "    - list: dataframe columns \n",
    "    - floats: threshold ratio of missing value acceptable for ID column\n",
    "    - floats: threshold ratio of missing value acceptable for all other column\n",
    "    \n",
    "    output: \n",
    "    - string - Name of the column to use for counts \n",
    "    - Boolean - True if too many missing value, 20% threshold met, False otherwise.\n",
    "    - dictionnary - missing value dict {column name : number of missing values}'''\n",
    "    \n",
    "    # Threshold of missing values that the main col used for groupby count must meet to raise an alert\n",
    "    threshold_main_col = 0.01\n",
    "    # Threshold of missing values that the other colmust meet to raise an alert\n",
    "    threshold_other_col = 0.1\n",
    "    \n",
    "    missing_val_serie = df.isnull().sum().sort_values()\n",
    "    col = missing_val_serie.index[0]\n",
    "    number_of_missing_value_main_col = missing_val_serie[0]\n",
    "    ratio = number_of_missing_value_main_col / df_shape[0]\n",
    "    threhold_met = False\n",
    "    if ratio >= threshold_main_col:\n",
    "        threhold_met = True \n",
    "    \n",
    "    col_with_missing_value = [col for col in list_columns if df[col].isnull().sum()/df_shape[0] > threshold_other_col] \n",
    "    \n",
    "    return col,threhold_met,missing_val_serie.to_dict(),col_with_missing_value"
   ]
  },
  {
   "cell_type": "code",
   "execution_count": 11,
   "metadata": {},
   "outputs": [],
   "source": [
    "id_col,threshold_met,serie,col_with_missing_value = missing_values(df,df_shape,list_columns)"
   ]
  },
  {
   "cell_type": "code",
   "execution_count": 12,
   "metadata": {},
   "outputs": [
    {
     "data": {
      "text/plain": [
       "{'PassengerId': 0,\n",
       " 'Survived': 0,\n",
       " 'Pclass': 0,\n",
       " 'Name': 0,\n",
       " 'Sex': 0,\n",
       " 'SibSp': 0,\n",
       " 'Parch': 0,\n",
       " 'Ticket': 0,\n",
       " 'Fare': 0,\n",
       " 'Embarked': 2,\n",
       " 'Age': 177,\n",
       " 'Cabin': 687}"
      ]
     },
     "execution_count": 12,
     "metadata": {},
     "output_type": "execute_result"
    }
   ],
   "source": [
    "serie"
   ]
  },
  {
   "cell_type": "code",
   "execution_count": 13,
   "metadata": {},
   "outputs": [],
   "source": [
    "# FOR NOW\n",
    "df.dropna(subset = ['Age','Embarked'],axis = 0, inplace = True)"
   ]
  },
  {
   "cell_type": "markdown",
   "metadata": {},
   "source": [
    "****"
   ]
  },
  {
   "cell_type": "markdown",
   "metadata": {},
   "source": [
    "## Entropy Calculation"
   ]
  },
  {
   "cell_type": "markdown",
   "metadata": {},
   "source": [
    " For categorical variables"
   ]
  },
  {
   "cell_type": "code",
   "execution_count": 14,
   "metadata": {},
   "outputs": [
    {
     "data": {
      "text/html": [
       "<div>\n",
       "<style scoped>\n",
       "    .dataframe tbody tr th:only-of-type {\n",
       "        vertical-align: middle;\n",
       "    }\n",
       "\n",
       "    .dataframe tbody tr th {\n",
       "        vertical-align: top;\n",
       "    }\n",
       "\n",
       "    .dataframe thead th {\n",
       "        text-align: right;\n",
       "    }\n",
       "</style>\n",
       "<table border=\"1\" class=\"dataframe\">\n",
       "  <thead>\n",
       "    <tr style=\"text-align: right;\">\n",
       "      <th></th>\n",
       "      <th>Survived</th>\n",
       "      <th>count</th>\n",
       "    </tr>\n",
       "    <tr>\n",
       "      <th>Sex</th>\n",
       "      <th></th>\n",
       "      <th></th>\n",
       "    </tr>\n",
       "  </thead>\n",
       "  <tbody>\n",
       "    <tr>\n",
       "      <th>female</th>\n",
       "      <td>0</td>\n",
       "      <td>64</td>\n",
       "    </tr>\n",
       "    <tr>\n",
       "      <th>female</th>\n",
       "      <td>1</td>\n",
       "      <td>195</td>\n",
       "    </tr>\n",
       "    <tr>\n",
       "      <th>male</th>\n",
       "      <td>0</td>\n",
       "      <td>360</td>\n",
       "    </tr>\n",
       "    <tr>\n",
       "      <th>male</th>\n",
       "      <td>1</td>\n",
       "      <td>93</td>\n",
       "    </tr>\n",
       "  </tbody>\n",
       "</table>\n",
       "</div>"
      ],
      "text/plain": [
       "        Survived  count\n",
       "Sex                    \n",
       "female         0     64\n",
       "female         1    195\n",
       "male           0    360\n",
       "male           1     93"
      ]
     },
     "execution_count": 14,
     "metadata": {},
     "output_type": "execute_result"
    }
   ],
   "source": [
    "df_groupby = pd.DataFrame(df.groupby(by = ['Sex',target])[id_col].count()).rename({id_col:\"count\"},axis =1)\n",
    "df_groupby.reset_index(level = -1,inplace = True)\n",
    "df_groupby"
   ]
  },
  {
   "cell_type": "code",
   "execution_count": 15,
   "metadata": {},
   "outputs": [],
   "source": [
    "def entropy(df_groupby, target_col, base=2):\n",
    "    \"\"\"input: \n",
    "    - dataframe : groupby dataframe \n",
    "    - target_col : string corresponding to the column that we want to classify/study\n",
    "    - list : splitting criteria, usually the name of the columns used to proceed the groupby\n",
    "    - integer : base of the logarithm used for entropy calculation\n",
    "    output:\n",
    "    - entropy value of the splitting criteria belonging to [0-1] Goal is to reach a low entropy, with a low diversity.\n",
    "    \n",
    "    entropy calculation inspired from here https://towardsdatascience.com/entropy-how-decision-trees-make-decisions-2946b9c18c8\n",
    "        \"\"\" \n",
    "    total_entropy = 0\n",
    "    count_total = df_groupby['count'].sum()\n",
    "    \n",
    "    # Case where the splitting criteria is categorical \n",
    "    list_splited_groups = list(df_groupby.index.unique())\n",
    "    #list_splited_groups = list(df_groupby[splitting_criteria].unique()) # Used to be this, splitting criteria was inputed\n",
    "    \n",
    "    # Iterating over the various groups\n",
    "    for splitting_index in list_splited_groups:\n",
    "        df_splitted = df_groupby.loc[[splitting_index]]\n",
    "        #df_splitted = df_groupby[df_groupby[splitting_criteria] == splitting_index] # Used to be this \n",
    "        total = df_splitted['count'].sum()\n",
    "        \n",
    "        # Case where the target variable is categorical\n",
    "        # Iterating over the different target classes within the group\n",
    "        entropy_group = 0\n",
    "        for target_value in df_splitted[target_col].unique():\n",
    "            count = df_splitted[df_splitted[target_col] == target_value]['count'].iloc[0]\n",
    "            \n",
    "            if count == 0:\n",
    "                entropy_group -= 0\n",
    "            else :\n",
    "                entropy_group -= (count/total)*m.log(count/total,base)\n",
    "                \n",
    "        total_entropy += entropy_group*(total/count_total)\n",
    "    \n",
    "    return total_entropy"
   ]
  },
  {
   "cell_type": "code",
   "execution_count": 16,
   "metadata": {},
   "outputs": [
    {
     "data": {
      "text/plain": [
       "0.7594106895489579"
      ]
     },
     "execution_count": 16,
     "metadata": {},
     "output_type": "execute_result"
    }
   ],
   "source": [
    "total_entropy = entropy(df_groupby, target_col = target, base=2)\n",
    "total_entropy"
   ]
  },
  {
   "cell_type": "markdown",
   "metadata": {},
   "source": [
    "## Numerical Features"
   ]
  },
  {
   "cell_type": "markdown",
   "metadata": {},
   "source": [
    "- Bining \n",
    "- Correlation calculatio"
   ]
  },
  {
   "cell_type": "code",
   "execution_count": 17,
   "metadata": {},
   "outputs": [],
   "source": [
    "def bining(df, nbr_quantile, numerical_col):\n",
    "    list_new_categorical_features = []\n",
    "    for col in numerical_col:\n",
    "        df[f'{col}_{nbr_quantile}_quantile'] = pd.qcut(df[col],q=nbr_quantile)\n",
    "        list_new_categorical_features.append(f'{col}_{nbr_quantile}_quantile')\n",
    "    return list_new_categorical_features\n",
    "\n",
    "list_new_cat_features = bining(df,numerical_values_bining_quantile_nbr,numerical_col)"
   ]
  },
  {
   "cell_type": "code",
   "execution_count": 18,
   "metadata": {},
   "outputs": [
    {
     "data": {
      "text/html": [
       "<div>\n",
       "<style scoped>\n",
       "    .dataframe tbody tr th:only-of-type {\n",
       "        vertical-align: middle;\n",
       "    }\n",
       "\n",
       "    .dataframe tbody tr th {\n",
       "        vertical-align: top;\n",
       "    }\n",
       "\n",
       "    .dataframe thead th {\n",
       "        text-align: right;\n",
       "    }\n",
       "</style>\n",
       "<table border=\"1\" class=\"dataframe\">\n",
       "  <thead>\n",
       "    <tr style=\"text-align: right;\">\n",
       "      <th></th>\n",
       "      <th>PassengerId</th>\n",
       "      <th>Survived</th>\n",
       "      <th>Pclass</th>\n",
       "      <th>Name</th>\n",
       "      <th>Sex</th>\n",
       "      <th>Age</th>\n",
       "      <th>SibSp</th>\n",
       "      <th>Parch</th>\n",
       "      <th>Ticket</th>\n",
       "      <th>Fare</th>\n",
       "      <th>Cabin</th>\n",
       "      <th>Embarked</th>\n",
       "      <th>Age_5_quantile</th>\n",
       "      <th>Fare_5_quantile</th>\n",
       "    </tr>\n",
       "  </thead>\n",
       "  <tbody>\n",
       "    <tr>\n",
       "      <th>0</th>\n",
       "      <td>1</td>\n",
       "      <td>0</td>\n",
       "      <td>3</td>\n",
       "      <td>Braund, Mr. Owen Harris</td>\n",
       "      <td>male</td>\n",
       "      <td>22.0</td>\n",
       "      <td>1</td>\n",
       "      <td>0</td>\n",
       "      <td>A/5 21171</td>\n",
       "      <td>7.2500</td>\n",
       "      <td>NaN</td>\n",
       "      <td>S</td>\n",
       "      <td>(19.0, 25.0]</td>\n",
       "      <td>(-0.001, 7.902]</td>\n",
       "    </tr>\n",
       "    <tr>\n",
       "      <th>1</th>\n",
       "      <td>2</td>\n",
       "      <td>1</td>\n",
       "      <td>1</td>\n",
       "      <td>Cumings, Mrs. John Bradley (Florence Briggs Th...</td>\n",
       "      <td>female</td>\n",
       "      <td>38.0</td>\n",
       "      <td>1</td>\n",
       "      <td>0</td>\n",
       "      <td>PC 17599</td>\n",
       "      <td>71.2833</td>\n",
       "      <td>C85</td>\n",
       "      <td>C</td>\n",
       "      <td>(31.0, 41.0]</td>\n",
       "      <td>(46.9, 512.329]</td>\n",
       "    </tr>\n",
       "    <tr>\n",
       "      <th>2</th>\n",
       "      <td>3</td>\n",
       "      <td>1</td>\n",
       "      <td>3</td>\n",
       "      <td>Heikkinen, Miss. Laina</td>\n",
       "      <td>female</td>\n",
       "      <td>26.0</td>\n",
       "      <td>0</td>\n",
       "      <td>0</td>\n",
       "      <td>STON/O2. 3101282</td>\n",
       "      <td>7.9250</td>\n",
       "      <td>NaN</td>\n",
       "      <td>S</td>\n",
       "      <td>(25.0, 31.0]</td>\n",
       "      <td>(7.902, 12.925]</td>\n",
       "    </tr>\n",
       "    <tr>\n",
       "      <th>3</th>\n",
       "      <td>4</td>\n",
       "      <td>1</td>\n",
       "      <td>1</td>\n",
       "      <td>Futrelle, Mrs. Jacques Heath (Lily May Peel)</td>\n",
       "      <td>female</td>\n",
       "      <td>35.0</td>\n",
       "      <td>1</td>\n",
       "      <td>0</td>\n",
       "      <td>113803</td>\n",
       "      <td>53.1000</td>\n",
       "      <td>C123</td>\n",
       "      <td>S</td>\n",
       "      <td>(31.0, 41.0]</td>\n",
       "      <td>(46.9, 512.329]</td>\n",
       "    </tr>\n",
       "    <tr>\n",
       "      <th>4</th>\n",
       "      <td>5</td>\n",
       "      <td>0</td>\n",
       "      <td>3</td>\n",
       "      <td>Allen, Mr. William Henry</td>\n",
       "      <td>male</td>\n",
       "      <td>35.0</td>\n",
       "      <td>0</td>\n",
       "      <td>0</td>\n",
       "      <td>373450</td>\n",
       "      <td>8.0500</td>\n",
       "      <td>NaN</td>\n",
       "      <td>S</td>\n",
       "      <td>(31.0, 41.0]</td>\n",
       "      <td>(7.902, 12.925]</td>\n",
       "    </tr>\n",
       "  </tbody>\n",
       "</table>\n",
       "</div>"
      ],
      "text/plain": [
       "   PassengerId  Survived  Pclass  \\\n",
       "0            1         0       3   \n",
       "1            2         1       1   \n",
       "2            3         1       3   \n",
       "3            4         1       1   \n",
       "4            5         0       3   \n",
       "\n",
       "                                                Name     Sex   Age  SibSp  \\\n",
       "0                            Braund, Mr. Owen Harris    male  22.0      1   \n",
       "1  Cumings, Mrs. John Bradley (Florence Briggs Th...  female  38.0      1   \n",
       "2                             Heikkinen, Miss. Laina  female  26.0      0   \n",
       "3       Futrelle, Mrs. Jacques Heath (Lily May Peel)  female  35.0      1   \n",
       "4                           Allen, Mr. William Henry    male  35.0      0   \n",
       "\n",
       "   Parch            Ticket     Fare Cabin Embarked Age_5_quantile  \\\n",
       "0      0         A/5 21171   7.2500   NaN        S   (19.0, 25.0]   \n",
       "1      0          PC 17599  71.2833   C85        C   (31.0, 41.0]   \n",
       "2      0  STON/O2. 3101282   7.9250   NaN        S   (25.0, 31.0]   \n",
       "3      0            113803  53.1000  C123        S   (31.0, 41.0]   \n",
       "4      0            373450   8.0500   NaN        S   (31.0, 41.0]   \n",
       "\n",
       "   Fare_5_quantile  \n",
       "0  (-0.001, 7.902]  \n",
       "1  (46.9, 512.329]  \n",
       "2  (7.902, 12.925]  \n",
       "3  (46.9, 512.329]  \n",
       "4  (7.902, 12.925]  "
      ]
     },
     "execution_count": 18,
     "metadata": {},
     "output_type": "execute_result"
    }
   ],
   "source": [
    "df.head()"
   ]
  },
  {
   "cell_type": "markdown",
   "metadata": {},
   "source": [
    "## Feature engineering Generator"
   ]
  },
  {
   "cell_type": "markdown",
   "metadata": {},
   "source": [
    "- Text\n",
    "- Email\n",
    "- Title\n",
    "- Date\n",
    "- ..."
   ]
  },
  {
   "cell_type": "code",
   "execution_count": null,
   "metadata": {},
   "outputs": [],
   "source": [
    "from sklearn.feature_extraction.text import TfidfVectorizer\n",
    "import nltk\n",
    "from nltk.corpus import stopwords\n",
    "nltk.download('stopwords')\n",
    "from stop_words import get_stop_words"
   ]
  },
  {
   "cell_type": "code",
   "execution_count": null,
   "metadata": {},
   "outputs": [],
   "source": [
    "def get_tfidf_vectorizer(df, field, vectorizer):\n",
    "    tfidf = vectorizer.fit_transform(df[field])\n",
    "    tfidf_cols = vectorizer.get_feature_names()\n",
    "    print(tfidf_cols)\n",
    "    temp = pd.DataFrame(data=tfidf.todense(), columns=['tfidf_' + field + '_' + i for i in tfidf_cols])\n",
    "    df = pd.concat([df, temp], axis=1)\n",
    "    return df\n",
    "\n",
    "#custom tokenizer for tfifd\n",
    "def custom_tokenizer(s):\n",
    "    return s.split(',')"
   ]
  },
  {
   "cell_type": "code",
   "execution_count": null,
   "metadata": {
    "scrolled": true
   },
   "outputs": [],
   "source": [
    "df = get_tfidf_vectorizer(df,'Name', TfidfVectorizer(analyzer='word',ngram_range=(1,3),stop_words = stopwords.words('english'),lowercase=True,max_features=50,binary=True,norm=None,use_idf=False, tokenizer=custom_tokenizer))"
   ]
  },
  {
   "cell_type": "code",
   "execution_count": null,
   "metadata": {},
   "outputs": [],
   "source": [
    "import spacy\n",
    "from spacy import displacy\n",
    "nlp = spacy.load(\"en_core_web_sm\")"
   ]
  },
  {
   "cell_type": "code",
   "execution_count": null,
   "metadata": {},
   "outputs": [],
   "source": [
    "doc = nlp(df['Name'].iloc[0])\n",
    "df['Name'].iloc[0]"
   ]
  },
  {
   "cell_type": "code",
   "execution_count": null,
   "metadata": {},
   "outputs": [],
   "source": [
    "for token in doc:\n",
    "    print(token.is_stop) # GREAT\n",
    "    print(token.lemma_)"
   ]
  },
  {
   "cell_type": "code",
   "execution_count": null,
   "metadata": {},
   "outputs": [],
   "source": [
    "spacy.explain(\"npadvmod\")"
   ]
  },
  {
   "cell_type": "code",
   "execution_count": null,
   "metadata": {},
   "outputs": [],
   "source": [
    "colors = {\"ORG\": \"linear-gradient(90deg, #aa9cfc, #fc9ce7)\"}\n",
    "options = {\"ents\": [\"ORG\"], \"colors\": colors}\n",
    "displacy.render(doc, style=\"ent\")"
   ]
  },
  {
   "cell_type": "code",
   "execution_count": null,
   "metadata": {},
   "outputs": [],
   "source": [
    "for ent in doc.ents:\n",
    "    print(ent.label_) # GREAT"
   ]
  },
  {
   "cell_type": "markdown",
   "metadata": {},
   "source": [
    "- other label \"org\", \"Group\", \"money\""
   ]
  },
  {
   "cell_type": "markdown",
   "metadata": {},
   "source": [
    "## Feature redundancy "
   ]
  },
  {
   "cell_type": "markdown",
   "metadata": {},
   "source": [
    "- Goal is just to flag them and remove them from the entropy calculation if too much correlated "
   ]
  },
  {
   "cell_type": "code",
   "execution_count": 19,
   "metadata": {},
   "outputs": [
    {
     "data": {
      "image/png": "[encoded data removed]",
      "text/plain": [
       "<Figure size 504x360 with 2 Axes>"
      ]
     },
     "metadata": {},
     "output_type": "display_data"
    }
   ],
   "source": [
    "# Calculating correlation of features\n",
    "df_corr = df.drop([id_col], axis=1).corr()\n",
    "# Creating a mask to get rid of half of the correlation matrix \n",
    "mask = np.triu(np.ones_like(df_corr, dtype=np.bool))\n",
    "# Set size of the figure\n",
    "sns.set(rc={'figure.figsize':(7,5)})\n",
    "# Generate a visualization of the correlation matrix\n",
    "sns.heatmap(df_corr, annot=True, mask = mask,square=True, linewidths=.5)\n",
    "plt.title(\"Feature Correlation\")\n",
    "plt.show()"
   ]
  },
  {
   "cell_type": "code",
   "execution_count": 20,
   "metadata": {},
   "outputs": [
    {
     "data": {
      "text/html": [
       "<style  type=\"text/css\" >\n",
       "    #T_f6fcd7b8_80a5_11ea_b630_c4b301d0d229row0_col0 {\n",
       "            color:  black;\n",
       "        }    #T_f6fcd7b8_80a5_11ea_b630_c4b301d0d229row0_col1 {\n",
       "            color:  black;\n",
       "        }    #T_f6fcd7b8_80a5_11ea_b630_c4b301d0d229row0_col2 {\n",
       "            color:  red;\n",
       "        }    #T_f6fcd7b8_80a5_11ea_b630_c4b301d0d229row0_col3 {\n",
       "            color:  black;\n",
       "        }    #T_f6fcd7b8_80a5_11ea_b630_c4b301d0d229row0_col4 {\n",
       "            color:  red;\n",
       "        }    #T_f6fcd7b8_80a5_11ea_b630_c4b301d0d229row0_col5 {\n",
       "            color:  red;\n",
       "        }    #T_f6fcd7b8_80a5_11ea_b630_c4b301d0d229row0_col6 {\n",
       "            color:  black;\n",
       "        }    #T_f6fcd7b8_80a5_11ea_b630_c4b301d0d229row1_col0 {\n",
       "            color:  black;\n",
       "        }    #T_f6fcd7b8_80a5_11ea_b630_c4b301d0d229row1_col1 {\n",
       "            color:  black;\n",
       "        }    #T_f6fcd7b8_80a5_11ea_b630_c4b301d0d229row1_col2 {\n",
       "            color:  red;\n",
       "        }    #T_f6fcd7b8_80a5_11ea_b630_c4b301d0d229row1_col3 {\n",
       "            color:  red;\n",
       "        }    #T_f6fcd7b8_80a5_11ea_b630_c4b301d0d229row1_col4 {\n",
       "            color:  red;\n",
       "        }    #T_f6fcd7b8_80a5_11ea_b630_c4b301d0d229row1_col5 {\n",
       "            color:  black;\n",
       "        }    #T_f6fcd7b8_80a5_11ea_b630_c4b301d0d229row1_col6 {\n",
       "            color:  black;\n",
       "        }    #T_f6fcd7b8_80a5_11ea_b630_c4b301d0d229row2_col0 {\n",
       "            color:  red;\n",
       "        }    #T_f6fcd7b8_80a5_11ea_b630_c4b301d0d229row2_col1 {\n",
       "            color:  red;\n",
       "        }    #T_f6fcd7b8_80a5_11ea_b630_c4b301d0d229row2_col2 {\n",
       "            color:  black;\n",
       "        }    #T_f6fcd7b8_80a5_11ea_b630_c4b301d0d229row2_col3 {\n",
       "            color:  red;\n",
       "        }    #T_f6fcd7b8_80a5_11ea_b630_c4b301d0d229row2_col4 {\n",
       "            color:  black;\n",
       "        }    #T_f6fcd7b8_80a5_11ea_b630_c4b301d0d229row2_col5 {\n",
       "            color:  black;\n",
       "        }    #T_f6fcd7b8_80a5_11ea_b630_c4b301d0d229row2_col6 {\n",
       "            color:  red;\n",
       "        }    #T_f6fcd7b8_80a5_11ea_b630_c4b301d0d229row3_col0 {\n",
       "            color:  black;\n",
       "        }    #T_f6fcd7b8_80a5_11ea_b630_c4b301d0d229row3_col1 {\n",
       "            color:  red;\n",
       "        }    #T_f6fcd7b8_80a5_11ea_b630_c4b301d0d229row3_col2 {\n",
       "            color:  red;\n",
       "        }    #T_f6fcd7b8_80a5_11ea_b630_c4b301d0d229row3_col3 {\n",
       "            color:  black;\n",
       "        }    #T_f6fcd7b8_80a5_11ea_b630_c4b301d0d229row3_col4 {\n",
       "            color:  red;\n",
       "        }    #T_f6fcd7b8_80a5_11ea_b630_c4b301d0d229row3_col5 {\n",
       "            color:  red;\n",
       "        }    #T_f6fcd7b8_80a5_11ea_b630_c4b301d0d229row3_col6 {\n",
       "            color:  black;\n",
       "        }    #T_f6fcd7b8_80a5_11ea_b630_c4b301d0d229row4_col0 {\n",
       "            color:  red;\n",
       "        }    #T_f6fcd7b8_80a5_11ea_b630_c4b301d0d229row4_col1 {\n",
       "            color:  red;\n",
       "        }    #T_f6fcd7b8_80a5_11ea_b630_c4b301d0d229row4_col2 {\n",
       "            color:  black;\n",
       "        }    #T_f6fcd7b8_80a5_11ea_b630_c4b301d0d229row4_col3 {\n",
       "            color:  red;\n",
       "        }    #T_f6fcd7b8_80a5_11ea_b630_c4b301d0d229row4_col4 {\n",
       "            color:  black;\n",
       "        }    #T_f6fcd7b8_80a5_11ea_b630_c4b301d0d229row4_col5 {\n",
       "            color:  black;\n",
       "        }    #T_f6fcd7b8_80a5_11ea_b630_c4b301d0d229row4_col6 {\n",
       "            color:  black;\n",
       "        }    #T_f6fcd7b8_80a5_11ea_b630_c4b301d0d229row5_col0 {\n",
       "            color:  red;\n",
       "        }    #T_f6fcd7b8_80a5_11ea_b630_c4b301d0d229row5_col1 {\n",
       "            color:  black;\n",
       "        }    #T_f6fcd7b8_80a5_11ea_b630_c4b301d0d229row5_col2 {\n",
       "            color:  black;\n",
       "        }    #T_f6fcd7b8_80a5_11ea_b630_c4b301d0d229row5_col3 {\n",
       "            color:  red;\n",
       "        }    #T_f6fcd7b8_80a5_11ea_b630_c4b301d0d229row5_col4 {\n",
       "            color:  black;\n",
       "        }    #T_f6fcd7b8_80a5_11ea_b630_c4b301d0d229row5_col5 {\n",
       "            color:  black;\n",
       "        }    #T_f6fcd7b8_80a5_11ea_b630_c4b301d0d229row5_col6 {\n",
       "            color:  black;\n",
       "        }    #T_f6fcd7b8_80a5_11ea_b630_c4b301d0d229row6_col0 {\n",
       "            color:  black;\n",
       "        }    #T_f6fcd7b8_80a5_11ea_b630_c4b301d0d229row6_col1 {\n",
       "            color:  black;\n",
       "        }    #T_f6fcd7b8_80a5_11ea_b630_c4b301d0d229row6_col2 {\n",
       "            color:  red;\n",
       "        }    #T_f6fcd7b8_80a5_11ea_b630_c4b301d0d229row6_col3 {\n",
       "            color:  black;\n",
       "        }    #T_f6fcd7b8_80a5_11ea_b630_c4b301d0d229row6_col4 {\n",
       "            color:  black;\n",
       "        }    #T_f6fcd7b8_80a5_11ea_b630_c4b301d0d229row6_col5 {\n",
       "            color:  black;\n",
       "        }    #T_f6fcd7b8_80a5_11ea_b630_c4b301d0d229row6_col6 {\n",
       "            color:  black;\n",
       "        }</style><table id=\"T_f6fcd7b8_80a5_11ea_b630_c4b301d0d229\" ><thead>    <tr>        <th class=\"blank level0\" ></th>        <th class=\"col_heading level0 col0\" >PassengerId</th>        <th class=\"col_heading level0 col1\" >Survived</th>        <th class=\"col_heading level0 col2\" >Pclass</th>        <th class=\"col_heading level0 col3\" >Age</th>        <th class=\"col_heading level0 col4\" >SibSp</th>        <th class=\"col_heading level0 col5\" >Parch</th>        <th class=\"col_heading level0 col6\" >Fare</th>    </tr></thead><tbody>\n",
       "                <tr>\n",
       "                        <th id=\"T_f6fcd7b8_80a5_11ea_b630_c4b301d0d229level0_row0\" class=\"row_heading level0 row0\" >PassengerId</th>\n",
       "                        <td id=\"T_f6fcd7b8_80a5_11ea_b630_c4b301d0d229row0_col0\" class=\"data row0 col0\" >1.000000</td>\n",
       "                        <td id=\"T_f6fcd7b8_80a5_11ea_b630_c4b301d0d229row0_col1\" class=\"data row0 col1\" >0.029526</td>\n",
       "                        <td id=\"T_f6fcd7b8_80a5_11ea_b630_c4b301d0d229row0_col2\" class=\"data row0 col2\" >-0.035609</td>\n",
       "                        <td id=\"T_f6fcd7b8_80a5_11ea_b630_c4b301d0d229row0_col3\" class=\"data row0 col3\" >0.033681</td>\n",
       "                        <td id=\"T_f6fcd7b8_80a5_11ea_b630_c4b301d0d229row0_col4\" class=\"data row0 col4\" >-0.082704</td>\n",
       "                        <td id=\"T_f6fcd7b8_80a5_11ea_b630_c4b301d0d229row0_col5\" class=\"data row0 col5\" >-0.011672</td>\n",
       "                        <td id=\"T_f6fcd7b8_80a5_11ea_b630_c4b301d0d229row0_col6\" class=\"data row0 col6\" >0.009655</td>\n",
       "            </tr>\n",
       "            <tr>\n",
       "                        <th id=\"T_f6fcd7b8_80a5_11ea_b630_c4b301d0d229level0_row1\" class=\"row_heading level0 row1\" >Survived</th>\n",
       "                        <td id=\"T_f6fcd7b8_80a5_11ea_b630_c4b301d0d229row1_col0\" class=\"data row1 col0\" >0.029526</td>\n",
       "                        <td id=\"T_f6fcd7b8_80a5_11ea_b630_c4b301d0d229row1_col1\" class=\"data row1 col1\" >1.000000</td>\n",
       "                        <td id=\"T_f6fcd7b8_80a5_11ea_b630_c4b301d0d229row1_col2\" class=\"data row1 col2\" >-0.356462</td>\n",
       "                        <td id=\"T_f6fcd7b8_80a5_11ea_b630_c4b301d0d229row1_col3\" class=\"data row1 col3\" >-0.082446</td>\n",
       "                        <td id=\"T_f6fcd7b8_80a5_11ea_b630_c4b301d0d229row1_col4\" class=\"data row1 col4\" >-0.015523</td>\n",
       "                        <td id=\"T_f6fcd7b8_80a5_11ea_b630_c4b301d0d229row1_col5\" class=\"data row1 col5\" >0.095265</td>\n",
       "                        <td id=\"T_f6fcd7b8_80a5_11ea_b630_c4b301d0d229row1_col6\" class=\"data row1 col6\" >0.266100</td>\n",
       "            </tr>\n",
       "            <tr>\n",
       "                        <th id=\"T_f6fcd7b8_80a5_11ea_b630_c4b301d0d229level0_row2\" class=\"row_heading level0 row2\" >Pclass</th>\n",
       "                        <td id=\"T_f6fcd7b8_80a5_11ea_b630_c4b301d0d229row2_col0\" class=\"data row2 col0\" >-0.035609</td>\n",
       "                        <td id=\"T_f6fcd7b8_80a5_11ea_b630_c4b301d0d229row2_col1\" class=\"data row2 col1\" >-0.356462</td>\n",
       "                        <td id=\"T_f6fcd7b8_80a5_11ea_b630_c4b301d0d229row2_col2\" class=\"data row2 col2\" >1.000000</td>\n",
       "                        <td id=\"T_f6fcd7b8_80a5_11ea_b630_c4b301d0d229row2_col3\" class=\"data row2 col3\" >-0.365902</td>\n",
       "                        <td id=\"T_f6fcd7b8_80a5_11ea_b630_c4b301d0d229row2_col4\" class=\"data row2 col4\" >0.065187</td>\n",
       "                        <td id=\"T_f6fcd7b8_80a5_11ea_b630_c4b301d0d229row2_col5\" class=\"data row2 col5\" >0.023666</td>\n",
       "                        <td id=\"T_f6fcd7b8_80a5_11ea_b630_c4b301d0d229row2_col6\" class=\"data row2 col6\" >-0.552893</td>\n",
       "            </tr>\n",
       "            <tr>\n",
       "                        <th id=\"T_f6fcd7b8_80a5_11ea_b630_c4b301d0d229level0_row3\" class=\"row_heading level0 row3\" >Age</th>\n",
       "                        <td id=\"T_f6fcd7b8_80a5_11ea_b630_c4b301d0d229row3_col0\" class=\"data row3 col0\" >0.033681</td>\n",
       "                        <td id=\"T_f6fcd7b8_80a5_11ea_b630_c4b301d0d229row3_col1\" class=\"data row3 col1\" >-0.082446</td>\n",
       "                        <td id=\"T_f6fcd7b8_80a5_11ea_b630_c4b301d0d229row3_col2\" class=\"data row3 col2\" >-0.365902</td>\n",
       "                        <td id=\"T_f6fcd7b8_80a5_11ea_b630_c4b301d0d229row3_col3\" class=\"data row3 col3\" >1.000000</td>\n",
       "                        <td id=\"T_f6fcd7b8_80a5_11ea_b630_c4b301d0d229row3_col4\" class=\"data row3 col4\" >-0.307351</td>\n",
       "                        <td id=\"T_f6fcd7b8_80a5_11ea_b630_c4b301d0d229row3_col5\" class=\"data row3 col5\" >-0.187896</td>\n",
       "                        <td id=\"T_f6fcd7b8_80a5_11ea_b630_c4b301d0d229row3_col6\" class=\"data row3 col6\" >0.093143</td>\n",
       "            </tr>\n",
       "            <tr>\n",
       "                        <th id=\"T_f6fcd7b8_80a5_11ea_b630_c4b301d0d229level0_row4\" class=\"row_heading level0 row4\" >SibSp</th>\n",
       "                        <td id=\"T_f6fcd7b8_80a5_11ea_b630_c4b301d0d229row4_col0\" class=\"data row4 col0\" >-0.082704</td>\n",
       "                        <td id=\"T_f6fcd7b8_80a5_11ea_b630_c4b301d0d229row4_col1\" class=\"data row4 col1\" >-0.015523</td>\n",
       "                        <td id=\"T_f6fcd7b8_80a5_11ea_b630_c4b301d0d229row4_col2\" class=\"data row4 col2\" >0.065187</td>\n",
       "                        <td id=\"T_f6fcd7b8_80a5_11ea_b630_c4b301d0d229row4_col3\" class=\"data row4 col3\" >-0.307351</td>\n",
       "                        <td id=\"T_f6fcd7b8_80a5_11ea_b630_c4b301d0d229row4_col4\" class=\"data row4 col4\" >1.000000</td>\n",
       "                        <td id=\"T_f6fcd7b8_80a5_11ea_b630_c4b301d0d229row4_col5\" class=\"data row4 col5\" >0.383338</td>\n",
       "                        <td id=\"T_f6fcd7b8_80a5_11ea_b630_c4b301d0d229row4_col6\" class=\"data row4 col6\" >0.139860</td>\n",
       "            </tr>\n",
       "            <tr>\n",
       "                        <th id=\"T_f6fcd7b8_80a5_11ea_b630_c4b301d0d229level0_row5\" class=\"row_heading level0 row5\" >Parch</th>\n",
       "                        <td id=\"T_f6fcd7b8_80a5_11ea_b630_c4b301d0d229row5_col0\" class=\"data row5 col0\" >-0.011672</td>\n",
       "                        <td id=\"T_f6fcd7b8_80a5_11ea_b630_c4b301d0d229row5_col1\" class=\"data row5 col1\" >0.095265</td>\n",
       "                        <td id=\"T_f6fcd7b8_80a5_11ea_b630_c4b301d0d229row5_col2\" class=\"data row5 col2\" >0.023666</td>\n",
       "                        <td id=\"T_f6fcd7b8_80a5_11ea_b630_c4b301d0d229row5_col3\" class=\"data row5 col3\" >-0.187896</td>\n",
       "                        <td id=\"T_f6fcd7b8_80a5_11ea_b630_c4b301d0d229row5_col4\" class=\"data row5 col4\" >0.383338</td>\n",
       "                        <td id=\"T_f6fcd7b8_80a5_11ea_b630_c4b301d0d229row5_col5\" class=\"data row5 col5\" >1.000000</td>\n",
       "                        <td id=\"T_f6fcd7b8_80a5_11ea_b630_c4b301d0d229row5_col6\" class=\"data row5 col6\" >0.206624</td>\n",
       "            </tr>\n",
       "            <tr>\n",
       "                        <th id=\"T_f6fcd7b8_80a5_11ea_b630_c4b301d0d229level0_row6\" class=\"row_heading level0 row6\" >Fare</th>\n",
       "                        <td id=\"T_f6fcd7b8_80a5_11ea_b630_c4b301d0d229row6_col0\" class=\"data row6 col0\" >0.009655</td>\n",
       "                        <td id=\"T_f6fcd7b8_80a5_11ea_b630_c4b301d0d229row6_col1\" class=\"data row6 col1\" >0.266100</td>\n",
       "                        <td id=\"T_f6fcd7b8_80a5_11ea_b630_c4b301d0d229row6_col2\" class=\"data row6 col2\" >-0.552893</td>\n",
       "                        <td id=\"T_f6fcd7b8_80a5_11ea_b630_c4b301d0d229row6_col3\" class=\"data row6 col3\" >0.093143</td>\n",
       "                        <td id=\"T_f6fcd7b8_80a5_11ea_b630_c4b301d0d229row6_col4\" class=\"data row6 col4\" >0.139860</td>\n",
       "                        <td id=\"T_f6fcd7b8_80a5_11ea_b630_c4b301d0d229row6_col5\" class=\"data row6 col5\" >0.206624</td>\n",
       "                        <td id=\"T_f6fcd7b8_80a5_11ea_b630_c4b301d0d229row6_col6\" class=\"data row6 col6\" >1.000000</td>\n",
       "            </tr>\n",
       "    </tbody></table>"
      ],
      "text/plain": [
       "<pandas.io.formats.style.Styler at 0x11a0e4790>"
      ]
     },
     "metadata": {},
     "output_type": "display_data"
    },
    {
     "data": {
      "text/html": [
       "<div>\n",
       "<style scoped>\n",
       "    .dataframe tbody tr th:only-of-type {\n",
       "        vertical-align: middle;\n",
       "    }\n",
       "\n",
       "    .dataframe tbody tr th {\n",
       "        vertical-align: top;\n",
       "    }\n",
       "\n",
       "    .dataframe thead th {\n",
       "        text-align: right;\n",
       "    }\n",
       "</style>\n",
       "<table border=\"1\" class=\"dataframe\">\n",
       "  <thead>\n",
       "    <tr style=\"text-align: right;\">\n",
       "      <th></th>\n",
       "      <th>PassengerId</th>\n",
       "      <th>Survived</th>\n",
       "      <th>Pclass</th>\n",
       "      <th>Age</th>\n",
       "      <th>SibSp</th>\n",
       "      <th>Parch</th>\n",
       "      <th>Fare</th>\n",
       "    </tr>\n",
       "  </thead>\n",
       "  <tbody>\n",
       "    <tr>\n",
       "      <th>PassengerId</th>\n",
       "      <td>1.0</td>\n",
       "      <td>6.0</td>\n",
       "      <td>6.0</td>\n",
       "      <td>7.0</td>\n",
       "      <td>5.0</td>\n",
       "      <td>7.0</td>\n",
       "      <td>7.0</td>\n",
       "    </tr>\n",
       "    <tr>\n",
       "      <th>Survived</th>\n",
       "      <td>5.0</td>\n",
       "      <td>1.0</td>\n",
       "      <td>4.0</td>\n",
       "      <td>6.0</td>\n",
       "      <td>7.0</td>\n",
       "      <td>5.0</td>\n",
       "      <td>3.0</td>\n",
       "    </tr>\n",
       "    <tr>\n",
       "      <th>Pclass</th>\n",
       "      <td>3.0</td>\n",
       "      <td>2.0</td>\n",
       "      <td>1.0</td>\n",
       "      <td>2.0</td>\n",
       "      <td>6.0</td>\n",
       "      <td>6.0</td>\n",
       "      <td>2.0</td>\n",
       "    </tr>\n",
       "    <tr>\n",
       "      <th>Age</th>\n",
       "      <td>4.0</td>\n",
       "      <td>5.0</td>\n",
       "      <td>3.0</td>\n",
       "      <td>1.0</td>\n",
       "      <td>3.0</td>\n",
       "      <td>4.0</td>\n",
       "      <td>6.0</td>\n",
       "    </tr>\n",
       "    <tr>\n",
       "      <th>SibSp</th>\n",
       "      <td>2.0</td>\n",
       "      <td>7.0</td>\n",
       "      <td>5.0</td>\n",
       "      <td>3.0</td>\n",
       "      <td>1.0</td>\n",
       "      <td>2.0</td>\n",
       "      <td>5.0</td>\n",
       "    </tr>\n",
       "    <tr>\n",
       "      <th>Parch</th>\n",
       "      <td>6.0</td>\n",
       "      <td>4.0</td>\n",
       "      <td>7.0</td>\n",
       "      <td>4.0</td>\n",
       "      <td>2.0</td>\n",
       "      <td>1.0</td>\n",
       "      <td>4.0</td>\n",
       "    </tr>\n",
       "    <tr>\n",
       "      <th>Fare</th>\n",
       "      <td>7.0</td>\n",
       "      <td>3.0</td>\n",
       "      <td>2.0</td>\n",
       "      <td>5.0</td>\n",
       "      <td>4.0</td>\n",
       "      <td>3.0</td>\n",
       "      <td>1.0</td>\n",
       "    </tr>\n",
       "  </tbody>\n",
       "</table>\n",
       "</div>"
      ],
      "text/plain": [
       "             PassengerId  Survived  Pclass  Age  SibSp  Parch  Fare\n",
       "PassengerId          1.0       6.0     6.0  7.0    5.0    7.0   7.0\n",
       "Survived             5.0       1.0     4.0  6.0    7.0    5.0   3.0\n",
       "Pclass               3.0       2.0     1.0  2.0    6.0    6.0   2.0\n",
       "Age                  4.0       5.0     3.0  1.0    3.0    4.0   6.0\n",
       "SibSp                2.0       7.0     5.0  3.0    1.0    2.0   5.0\n",
       "Parch                6.0       4.0     7.0  4.0    2.0    1.0   4.0\n",
       "Fare                 7.0       3.0     2.0  5.0    4.0    3.0   1.0"
      ]
     },
     "execution_count": 20,
     "metadata": {},
     "output_type": "execute_result"
    }
   ],
   "source": [
    "def color_negative_red(val):\n",
    "    \"\"\"\n",
    "    Takes a scalar and returns a string with\n",
    "    the css property `'color: red'` for negative\n",
    "    strings, black otherwise.\n",
    "    \"\"\"\n",
    "    threshold = 0\n",
    "    color = 'red' if val < threshold else 'black'\n",
    "    return 'color: %s' % color\n",
    "\n",
    "#display(corr.style.bar(align='mid', color=['#d65f5f', '#5fba7d']))\n",
    "\n",
    "display(df.corr().style.applymap(color_negative_red))\n",
    "df.corr().abs().rank(ascending=False)"
   ]
  },
  {
   "cell_type": "markdown",
   "metadata": {},
   "source": [
    "## Feature combination"
   ]
  },
  {
   "cell_type": "markdown",
   "metadata": {},
   "source": [
    "- need to find a way to find the type of columns (i.e. categorical, numerical etc)\n",
    "- need to find a way to calculate correlation with numerical colums with respect to the target value, whether it's categorical like in our case or sales / visits (in the future)."
   ]
  },
  {
   "cell_type": "code",
   "execution_count": 21,
   "metadata": {},
   "outputs": [
    {
     "data": {
      "text/plain": [
       "['Pclass', 'Sex', 'SibSp', 'Embarked', 'Age_5_quantile', 'Fare_5_quantile']"
      ]
     },
     "execution_count": 21,
     "metadata": {},
     "output_type": "execute_result"
    }
   ],
   "source": [
    "categorical_columns = categorical_columns + list_new_cat_features\n",
    "categorical_columns"
   ]
  },
  {
   "cell_type": "code",
   "execution_count": 22,
   "metadata": {},
   "outputs": [
    {
     "data": {
      "text/html": [
       "<div>\n",
       "<style scoped>\n",
       "    .dataframe tbody tr th:only-of-type {\n",
       "        vertical-align: middle;\n",
       "    }\n",
       "\n",
       "    .dataframe tbody tr th {\n",
       "        vertical-align: top;\n",
       "    }\n",
       "\n",
       "    .dataframe thead th {\n",
       "        text-align: right;\n",
       "    }\n",
       "</style>\n",
       "<table border=\"1\" class=\"dataframe\">\n",
       "  <thead>\n",
       "    <tr style=\"text-align: right;\">\n",
       "      <th></th>\n",
       "      <th>PassengerId</th>\n",
       "      <th>Survived</th>\n",
       "      <th>Pclass</th>\n",
       "      <th>Name</th>\n",
       "      <th>Sex</th>\n",
       "      <th>Age</th>\n",
       "      <th>SibSp</th>\n",
       "      <th>Parch</th>\n",
       "      <th>Ticket</th>\n",
       "      <th>Fare</th>\n",
       "      <th>Cabin</th>\n",
       "      <th>Embarked</th>\n",
       "      <th>Age_5_quantile</th>\n",
       "      <th>Fare_5_quantile</th>\n",
       "    </tr>\n",
       "  </thead>\n",
       "  <tbody>\n",
       "    <tr>\n",
       "      <th>0</th>\n",
       "      <td>1</td>\n",
       "      <td>0</td>\n",
       "      <td>3</td>\n",
       "      <td>Braund, Mr. Owen Harris</td>\n",
       "      <td>male</td>\n",
       "      <td>22.0</td>\n",
       "      <td>1</td>\n",
       "      <td>0</td>\n",
       "      <td>A/5 21171</td>\n",
       "      <td>7.2500</td>\n",
       "      <td>NaN</td>\n",
       "      <td>S</td>\n",
       "      <td>(19.0, 25.0]</td>\n",
       "      <td>(-0.001, 7.902]</td>\n",
       "    </tr>\n",
       "    <tr>\n",
       "      <th>1</th>\n",
       "      <td>2</td>\n",
       "      <td>1</td>\n",
       "      <td>1</td>\n",
       "      <td>Cumings, Mrs. John Bradley (Florence Briggs Th...</td>\n",
       "      <td>female</td>\n",
       "      <td>38.0</td>\n",
       "      <td>1</td>\n",
       "      <td>0</td>\n",
       "      <td>PC 17599</td>\n",
       "      <td>71.2833</td>\n",
       "      <td>C85</td>\n",
       "      <td>C</td>\n",
       "      <td>(31.0, 41.0]</td>\n",
       "      <td>(46.9, 512.329]</td>\n",
       "    </tr>\n",
       "    <tr>\n",
       "      <th>2</th>\n",
       "      <td>3</td>\n",
       "      <td>1</td>\n",
       "      <td>3</td>\n",
       "      <td>Heikkinen, Miss. Laina</td>\n",
       "      <td>female</td>\n",
       "      <td>26.0</td>\n",
       "      <td>0</td>\n",
       "      <td>0</td>\n",
       "      <td>STON/O2. 3101282</td>\n",
       "      <td>7.9250</td>\n",
       "      <td>NaN</td>\n",
       "      <td>S</td>\n",
       "      <td>(25.0, 31.0]</td>\n",
       "      <td>(7.902, 12.925]</td>\n",
       "    </tr>\n",
       "    <tr>\n",
       "      <th>3</th>\n",
       "      <td>4</td>\n",
       "      <td>1</td>\n",
       "      <td>1</td>\n",
       "      <td>Futrelle, Mrs. Jacques Heath (Lily May Peel)</td>\n",
       "      <td>female</td>\n",
       "      <td>35.0</td>\n",
       "      <td>1</td>\n",
       "      <td>0</td>\n",
       "      <td>113803</td>\n",
       "      <td>53.1000</td>\n",
       "      <td>C123</td>\n",
       "      <td>S</td>\n",
       "      <td>(31.0, 41.0]</td>\n",
       "      <td>(46.9, 512.329]</td>\n",
       "    </tr>\n",
       "    <tr>\n",
       "      <th>4</th>\n",
       "      <td>5</td>\n",
       "      <td>0</td>\n",
       "      <td>3</td>\n",
       "      <td>Allen, Mr. William Henry</td>\n",
       "      <td>male</td>\n",
       "      <td>35.0</td>\n",
       "      <td>0</td>\n",
       "      <td>0</td>\n",
       "      <td>373450</td>\n",
       "      <td>8.0500</td>\n",
       "      <td>NaN</td>\n",
       "      <td>S</td>\n",
       "      <td>(31.0, 41.0]</td>\n",
       "      <td>(7.902, 12.925]</td>\n",
       "    </tr>\n",
       "  </tbody>\n",
       "</table>\n",
       "</div>"
      ],
      "text/plain": [
       "   PassengerId  Survived  Pclass  \\\n",
       "0            1         0       3   \n",
       "1            2         1       1   \n",
       "2            3         1       3   \n",
       "3            4         1       1   \n",
       "4            5         0       3   \n",
       "\n",
       "                                                Name     Sex   Age  SibSp  \\\n",
       "0                            Braund, Mr. Owen Harris    male  22.0      1   \n",
       "1  Cumings, Mrs. John Bradley (Florence Briggs Th...  female  38.0      1   \n",
       "2                             Heikkinen, Miss. Laina  female  26.0      0   \n",
       "3       Futrelle, Mrs. Jacques Heath (Lily May Peel)  female  35.0      1   \n",
       "4                           Allen, Mr. William Henry    male  35.0      0   \n",
       "\n",
       "   Parch            Ticket     Fare Cabin Embarked Age_5_quantile  \\\n",
       "0      0         A/5 21171   7.2500   NaN        S   (19.0, 25.0]   \n",
       "1      0          PC 17599  71.2833   C85        C   (31.0, 41.0]   \n",
       "2      0  STON/O2. 3101282   7.9250   NaN        S   (25.0, 31.0]   \n",
       "3      0            113803  53.1000  C123        S   (31.0, 41.0]   \n",
       "4      0            373450   8.0500   NaN        S   (31.0, 41.0]   \n",
       "\n",
       "   Fare_5_quantile  \n",
       "0  (-0.001, 7.902]  \n",
       "1  (46.9, 512.329]  \n",
       "2  (7.902, 12.925]  \n",
       "3  (46.9, 512.329]  \n",
       "4  (7.902, 12.925]  "
      ]
     },
     "execution_count": 22,
     "metadata": {},
     "output_type": "execute_result"
    }
   ],
   "source": [
    "df.head()"
   ]
  },
  {
   "cell_type": "code",
   "execution_count": 23,
   "metadata": {},
   "outputs": [],
   "source": [
    "def categorical_feature_combinations(main_df, id_col, categorical_col):\n",
    "\n",
    "    dic_features_entropy = {}\n",
    "    \n",
    "    # Iterating over all base categorical features\n",
    "    for feature in categorical_col:\n",
    "        df_groupby = pd.DataFrame(main_df.groupby(by = [feature,target])[id_col].count())\n",
    "        df_groupby.rename({id_col:\"count\"},axis =1,inplace = True)\n",
    "        df_groupby.reset_index(level = -1,inplace = True)\n",
    "        dic_features_entropy[feature] = entropy(df_groupby, target_col = target, base=2)\n",
    "    \n",
    "    # Iterating over all combination of categorical features\n",
    "    for combination_of_feature in itertools.combinations(categorical_columns, 2):\n",
    "        df_groupby = pd.DataFrame(main_df.groupby(by = [i for i in combination_of_feature + (target,)])[id_col].count()).rename({id_col:\"count\"},axis =1)\n",
    "        df_groupby.rename({id_col:\"count\"},axis =1,inplace = True)\n",
    "        df_groupby.reset_index(level = -1,inplace = True)\n",
    "        dic_features_entropy[\"_:_\".join([i for i in combination_of_feature])] = entropy(df_groupby, target_col = target, base=2)\n",
    "        \n",
    "    return dic_features_entropy"
   ]
  },
  {
   "cell_type": "code",
   "execution_count": 24,
   "metadata": {},
   "outputs": [
    {
     "data": {
      "text/plain": [
       "{'Pclass': 0.8795090178158749,\n",
       " 'Sex': 0.7594106895489579,\n",
       " 'SibSp': 0.9486500092706639,\n",
       " 'Embarked': 0.9456607954586889,\n",
       " 'Age_5_quantile': 0.9647270897774656,\n",
       " 'Fare_5_quantile': 0.881538935713471,\n",
       " 'Pclass_:_Sex': 0.6505597903100149,\n",
       " 'Pclass_:_SibSp': 0.8662469790281385,\n",
       " 'Pclass_:_Embarked': 0.8675676068434272,\n",
       " 'Pclass_:_Age_5_quantile': 0.838214779835418,\n",
       " 'Pclass_:_Fare_5_quantile': 0.8382744115802001,\n",
       " 'Sex_:_SibSp': 0.7345342125493306,\n",
       " 'Sex_:_Embarked': 0.7362220407052935,\n",
       " 'Sex_:_Age_5_quantile': 0.7469979536388132,\n",
       " 'Sex_:_Fare_5_quantile': 0.6928310630885964,\n",
       " 'SibSp_:_Embarked': 0.9179561693053552,\n",
       " 'SibSp_:_Age_5_quantile': 0.8992343231723525,\n",
       " 'SibSp_:_Fare_5_quantile': 0.851817210763988,\n",
       " 'Embarked_:_Age_5_quantile': 0.9279240320295299,\n",
       " 'Embarked_:_Fare_5_quantile': 0.8591439352084315,\n",
       " 'Age_5_quantile_:_Fare_5_quantile': 0.8225894587625504}"
      ]
     },
     "execution_count": 24,
     "metadata": {},
     "output_type": "execute_result"
    }
   ],
   "source": [
    "dic_features_entropy = categorical_feature_combinations(df,id_col,categorical_columns)\n",
    "dic_features_entropy"
   ]
  },
  {
   "cell_type": "code",
   "execution_count": 25,
   "metadata": {},
   "outputs": [
    {
     "data": {
      "text/html": [
       "<div>\n",
       "<style scoped>\n",
       "    .dataframe tbody tr th:only-of-type {\n",
       "        vertical-align: middle;\n",
       "    }\n",
       "\n",
       "    .dataframe tbody tr th {\n",
       "        vertical-align: top;\n",
       "    }\n",
       "\n",
       "    .dataframe thead th {\n",
       "        text-align: right;\n",
       "    }\n",
       "</style>\n",
       "<table border=\"1\" class=\"dataframe\">\n",
       "  <thead>\n",
       "    <tr style=\"text-align: right;\">\n",
       "      <th></th>\n",
       "      <th>entropy</th>\n",
       "    </tr>\n",
       "  </thead>\n",
       "  <tbody>\n",
       "    <tr>\n",
       "      <th>Pclass_:_Sex</th>\n",
       "      <td>0.650560</td>\n",
       "    </tr>\n",
       "    <tr>\n",
       "      <th>Sex_:_Fare_5_quantile</th>\n",
       "      <td>0.692831</td>\n",
       "    </tr>\n",
       "    <tr>\n",
       "      <th>Sex_:_SibSp</th>\n",
       "      <td>0.734534</td>\n",
       "    </tr>\n",
       "    <tr>\n",
       "      <th>Sex_:_Embarked</th>\n",
       "      <td>0.736222</td>\n",
       "    </tr>\n",
       "    <tr>\n",
       "      <th>Sex_:_Age_5_quantile</th>\n",
       "      <td>0.746998</td>\n",
       "    </tr>\n",
       "    <tr>\n",
       "      <th>Sex</th>\n",
       "      <td>0.759411</td>\n",
       "    </tr>\n",
       "    <tr>\n",
       "      <th>Age_5_quantile_:_Fare_5_quantile</th>\n",
       "      <td>0.822589</td>\n",
       "    </tr>\n",
       "    <tr>\n",
       "      <th>Pclass_:_Age_5_quantile</th>\n",
       "      <td>0.838215</td>\n",
       "    </tr>\n",
       "    <tr>\n",
       "      <th>Pclass_:_Fare_5_quantile</th>\n",
       "      <td>0.838274</td>\n",
       "    </tr>\n",
       "    <tr>\n",
       "      <th>SibSp_:_Fare_5_quantile</th>\n",
       "      <td>0.851817</td>\n",
       "    </tr>\n",
       "    <tr>\n",
       "      <th>Embarked_:_Fare_5_quantile</th>\n",
       "      <td>0.859144</td>\n",
       "    </tr>\n",
       "    <tr>\n",
       "      <th>Pclass_:_SibSp</th>\n",
       "      <td>0.866247</td>\n",
       "    </tr>\n",
       "    <tr>\n",
       "      <th>Pclass_:_Embarked</th>\n",
       "      <td>0.867568</td>\n",
       "    </tr>\n",
       "    <tr>\n",
       "      <th>Pclass</th>\n",
       "      <td>0.879509</td>\n",
       "    </tr>\n",
       "    <tr>\n",
       "      <th>Fare_5_quantile</th>\n",
       "      <td>0.881539</td>\n",
       "    </tr>\n",
       "    <tr>\n",
       "      <th>SibSp_:_Age_5_quantile</th>\n",
       "      <td>0.899234</td>\n",
       "    </tr>\n",
       "    <tr>\n",
       "      <th>SibSp_:_Embarked</th>\n",
       "      <td>0.917956</td>\n",
       "    </tr>\n",
       "    <tr>\n",
       "      <th>Embarked_:_Age_5_quantile</th>\n",
       "      <td>0.927924</td>\n",
       "    </tr>\n",
       "    <tr>\n",
       "      <th>Embarked</th>\n",
       "      <td>0.945661</td>\n",
       "    </tr>\n",
       "    <tr>\n",
       "      <th>SibSp</th>\n",
       "      <td>0.948650</td>\n",
       "    </tr>\n",
       "    <tr>\n",
       "      <th>Age_5_quantile</th>\n",
       "      <td>0.964727</td>\n",
       "    </tr>\n",
       "  </tbody>\n",
       "</table>\n",
       "</div>"
      ],
      "text/plain": [
       "                                   entropy\n",
       "Pclass_:_Sex                      0.650560\n",
       "Sex_:_Fare_5_quantile             0.692831\n",
       "Sex_:_SibSp                       0.734534\n",
       "Sex_:_Embarked                    0.736222\n",
       "Sex_:_Age_5_quantile              0.746998\n",
       "Sex                               0.759411\n",
       "Age_5_quantile_:_Fare_5_quantile  0.822589\n",
       "Pclass_:_Age_5_quantile           0.838215\n",
       "Pclass_:_Fare_5_quantile          0.838274\n",
       "SibSp_:_Fare_5_quantile           0.851817\n",
       "Embarked_:_Fare_5_quantile        0.859144\n",
       "Pclass_:_SibSp                    0.866247\n",
       "Pclass_:_Embarked                 0.867568\n",
       "Pclass                            0.879509\n",
       "Fare_5_quantile                   0.881539\n",
       "SibSp_:_Age_5_quantile            0.899234\n",
       "SibSp_:_Embarked                  0.917956\n",
       "Embarked_:_Age_5_quantile         0.927924\n",
       "Embarked                          0.945661\n",
       "SibSp                             0.948650\n",
       "Age_5_quantile                    0.964727"
      ]
     },
     "execution_count": 25,
     "metadata": {},
     "output_type": "execute_result"
    }
   ],
   "source": [
    "df_features_entropy = pd.DataFrame(data = dic_features_entropy.values(),index = dic_features_entropy.keys(),columns = ['entropy']).sort_values(by = 'entropy')\n",
    "df_features_entropy"
   ]
  },
  {
   "cell_type": "markdown",
   "metadata": {},
   "source": [
    "- Concretely showing the features that distinguish the most groups with respect to the target variable \n",
    "- Need to account for proportions"
   ]
  },
  {
   "cell_type": "markdown",
   "metadata": {},
   "source": [
    "## Visualisation "
   ]
  },
  {
   "cell_type": "markdown",
   "metadata": {},
   "source": [
    "- Need to include the proportion as well - otherwise example of combination of class and sibling ?? Third class many sibblings all die, not because of proba but simply because we don't have any obervable data that says otherwise !"
   ]
  },
  {
   "cell_type": "code",
   "execution_count": 145,
   "metadata": {},
   "outputs": [],
   "source": [
    "def plotly_bar_chart(df_to_plot,target_value,feature_entropy_ranking,i):\n",
    "    \n",
    "    # Change i to assign a unique value to i \n",
    "    i += 1\n",
    "    \n",
    "    # Declare the fig\n",
    "    fig = px.bar(df_to_plot, x='visu_axis', y=id_col, text=id_col,labels={'visu_axis':'Feature',id_col:'count'})\n",
    "    fig.update_traces(textposition='outside')\n",
    "    fig.update_layout(barmode='group',\n",
    "                width=800, height=500,\n",
    "                legend={'x': 0, 'y': 1},\n",
    "                legend_title='<b> Target Value </b>',# For categorical only\n",
    "                showlegend=True,\n",
    "                xaxis_tickangle=-45,\n",
    "                title={'text':\" \".join([str(target_value), df_features_entropy.index[feature_entropy_ranking]]),\n",
    "                    'y':0.95,\n",
    "                    'x':0.5,\n",
    "                    'xanchor': 'center',\n",
    "                    'yanchor': 'top'},\n",
    "                font=dict(\n",
    "                    family=\"Courier New, monospace\",\n",
    "                    size=15,\n",
    "                    color=\"#7f7f7f\"))\n",
    "    \n",
    "    # Store the fig in the dictionnary\n",
    "    dic_fig[f'fig_{i}'] = fig\n",
    "    \n",
    "    return i"
   ]
  },
  {
   "cell_type": "code",
   "execution_count": 146,
   "metadata": {},
   "outputs": [],
   "source": [
    "def visualise(feature_entropy_ranking,i):\n",
    "    # Create dataframe to plot\n",
    "    df_visu = pd.DataFrame(df.groupby(by = list(df_features_entropy.index[feature_entropy_ranking].split(\"_:_\"))+ [target])[id_col].count())\n",
    "    # reset indexes\n",
    "    df_visu = df_visu.sort_values(by = id_col).reset_index()\n",
    "    # create a column\n",
    "    df_visu['visu_axis'] = df_visu.drop([id_col,target], axis=1).astype(str).apply('_'.join, axis=1)\n",
    "    \n",
    "    # Dashboard\n",
    "    #app = dash.Dash()\n",
    "    \n",
    "    for target_value in df_visu[target].unique():\n",
    "        # df to plot\n",
    "        df_to_plot = df_visu[df_visu[target]==target_value]\n",
    "    \n",
    "        ## plotting\n",
    "        \n",
    "        i = plotly_bar_chart(df_to_plot,target_value,feature_entropy_ranking,i)\n",
    "        \n",
    "        ## PLOTLY APPROACH\n",
    "        #fig = px.bar(df_to_plot, x='visu_axis', y=id_col, text=id_col,labels={'visu_axis':'Feature',id_col:'count'})\n",
    "        #fig.update_traces(textposition='outside')\n",
    "        #fig.update_layout(barmode='group',\n",
    "        #                  width=800, height=400,\n",
    "        #                  legend={'x': 0, 'y': 1},\n",
    "        #                  legend_title='<b> Target Value </b>',# For categorical only\n",
    "        #                  showlegend=True,\n",
    "        #                  xaxis_tickangle=-45,\n",
    "        #                  title={'text':\" \".join([str(target_value), df_features_entropy.index[feature_entropy_ranking]]),\n",
    "        #                        'y':0.95,\n",
    "        #                        'x':0.5,\n",
    "        #                         'xanchor': 'center',\n",
    "        #                        'yanchor': 'top'},\n",
    "        #                    font=dict(\n",
    "        #                        family=\"Courier New, monospace\",\n",
    "        #                        size=15,\n",
    "        #                        color=\"#7f7f7f\"\n",
    "        #                ))\n",
    "            \n",
    "        #fig.show()\n",
    "        \n",
    "        ## MATPLOTLIB APPROACH\n",
    "        #objects = tuple(df_to_plot['visu_axis'])\n",
    "        #y_pos = np.arange(len(objects))\n",
    "        #performance = list(df_to_plot[id_col])\n",
    "        #r,g,b = random.random(),random.random(),random.random()\n",
    "        #plt.bar(y_pos, performance, align='center', color = (r,g,b), alpha=0.5)\n",
    "        #plt.xticks(y_pos, objects, rotation='vertical')\n",
    "        #plt.ylabel('Count')\n",
    "        #plt.legend(str(target_value))\n",
    "        #plt.title(\" \".join([str(target_value), df_features_entropy.index[feature_entropy_ranking]]))\n",
    "        #print(i,\" \".join([str(target_value), df_features_entropy.index[feature_entropy_ranking]]))\n",
    "        #plt.legend(str(target_value))\n",
    "        #plt.show()\n",
    "    \n",
    "    print('------------------------------------------------------------------------------------------------')\n",
    "    return i"
   ]
  },
  {
   "cell_type": "code",
   "execution_count": 147,
   "metadata": {
    "scrolled": true
   },
   "outputs": [
    {
     "name": "stdout",
     "output_type": "stream",
     "text": [
      "------------------------------------------------------------------------------------------------\n",
      "------------------------------------------------------------------------------------------------\n",
      "------------------------------------------------------------------------------------------------\n",
      "------------------------------------------------------------------------------------------------\n",
      "------------------------------------------------------------------------------------------------\n"
     ]
    }
   ],
   "source": [
    "app = dash.Dash()\n",
    "\n",
    "# Stores figures\n",
    "dic_fig = {}\n",
    "# Iterate to change figures names\n",
    "i = 0\n",
    "\n",
    "# Generate the fig\n",
    "for f in range(0,5):\n",
    "    i = visualise(f,i)\n",
    "\n",
    "divs = []\n",
    "for fig_name in dic_fig:\n",
    "    divs.append(dic_fig[fig_name])"
   ]
  },
  {
   "cell_type": "code",
   "execution_count": 158,
   "metadata": {},
   "outputs": [
    {
     "name": "stdout",
     "output_type": "stream",
     "text": [
      "Running on http://127.0.0.1:8050/\n",
      "Running on http://127.0.0.1:8050/\n",
      "Running on http://127.0.0.1:8050/\n",
      "Running on http://127.0.0.1:8050/\n",
      "Running on http://127.0.0.1:8050/\n",
      "Running on http://127.0.0.1:8050/\n",
      "Running on http://127.0.0.1:8050/\n",
      "Running on http://127.0.0.1:8050/\n",
      "Running on http://127.0.0.1:8050/\n",
      "Running on http://127.0.0.1:8050/\n",
      "Running on http://127.0.0.1:8050/\n",
      "Running on http://127.0.0.1:8050/\n",
      "Running on http://127.0.0.1:8050/\n",
      "Debugger PIN: 843-136-810\n",
      "Debugger PIN: 843-136-810\n",
      "Debugger PIN: 843-136-810\n",
      "Debugger PIN: 843-136-810\n",
      "Debugger PIN: 843-136-810\n",
      "Debugger PIN: 843-136-810\n",
      "Debugger PIN: 843-136-810\n",
      "Debugger PIN: 843-136-810\n",
      "Debugger PIN: 843-136-810\n",
      "Debugger PIN: 843-136-810\n",
      "Debugger PIN: 843-136-810\n",
      "Debugger PIN: 843-136-810\n",
      "Debugger PIN: 843-136-810\n",
      " * Serving Flask app \"__main__\" (lazy loading)\n",
      " * Environment: production\n",
      "\u001b[31m   WARNING: This is a development server. Do not use it in a production deployment.\u001b[0m\n",
      "\u001b[2m   Use a production WSGI server instead.\u001b[0m\n",
      " * Debug mode: on\n"
     ]
    }
   ],
   "source": [
    "app.layout = html.Div([dcc.Graph(figure=fig) for fig in divs])\n",
    "app.run_server(debug=True, use_reloader=False)  # Turn off reloader if inside Jupyter"
   ]
  },
  {
   "cell_type": "code",
   "execution_count": 124,
   "metadata": {},
   "outputs": [
    {
     "ename": "SyntaxError",
     "evalue": "unexpected EOF while parsing (<ipython-input-124-d990704a104a>, line 5)",
     "output_type": "error",
     "traceback": [
      "\u001b[0;36m  File \u001b[0;32m\"<ipython-input-124-d990704a104a>\"\u001b[0;36m, line \u001b[0;32m5\u001b[0m\n\u001b[0;31m    #app.run_server(debug=True, use_reloader=False)  # Turn off reloader if inside Jupyter\u001b[0m\n\u001b[0m                                                                                          ^\u001b[0m\n\u001b[0;31mSyntaxError\u001b[0m\u001b[0;31m:\u001b[0m unexpected EOF while parsing\n"
     ]
    }
   ],
   "source": [
    "    app.layout = html.Div([\n",
    "    #dcc.Graph(figure=fig)\n",
    "    #])\n",
    "\n",
    "    #app.run_server(debug=True, use_reloader=False)  # Turn off reloader if inside Jupyter\n"
   ]
  },
  {
   "cell_type": "code",
   "execution_count": 89,
   "metadata": {},
   "outputs": [
    {
     "data": {
      "text/html": [
       "<div>\n",
       "<style scoped>\n",
       "    .dataframe tbody tr th:only-of-type {\n",
       "        vertical-align: middle;\n",
       "    }\n",
       "\n",
       "    .dataframe tbody tr th {\n",
       "        vertical-align: top;\n",
       "    }\n",
       "\n",
       "    .dataframe thead th {\n",
       "        text-align: right;\n",
       "    }\n",
       "</style>\n",
       "<table border=\"1\" class=\"dataframe\">\n",
       "  <thead>\n",
       "    <tr style=\"text-align: right;\">\n",
       "      <th></th>\n",
       "      <th>PassengerId</th>\n",
       "      <th>Survived</th>\n",
       "      <th>Pclass</th>\n",
       "      <th>Age</th>\n",
       "      <th>SibSp</th>\n",
       "      <th>Parch</th>\n",
       "      <th>Fare</th>\n",
       "    </tr>\n",
       "  </thead>\n",
       "  <tbody>\n",
       "    <tr>\n",
       "      <th>PassengerId</th>\n",
       "      <td>1.0</td>\n",
       "      <td>6.0</td>\n",
       "      <td>6.0</td>\n",
       "      <td>7.0</td>\n",
       "      <td>5.0</td>\n",
       "      <td>7.0</td>\n",
       "      <td>7.0</td>\n",
       "    </tr>\n",
       "    <tr>\n",
       "      <th>Survived</th>\n",
       "      <td>5.0</td>\n",
       "      <td>1.0</td>\n",
       "      <td>4.0</td>\n",
       "      <td>6.0</td>\n",
       "      <td>7.0</td>\n",
       "      <td>5.0</td>\n",
       "      <td>3.0</td>\n",
       "    </tr>\n",
       "    <tr>\n",
       "      <th>Pclass</th>\n",
       "      <td>3.0</td>\n",
       "      <td>2.0</td>\n",
       "      <td>1.0</td>\n",
       "      <td>2.0</td>\n",
       "      <td>6.0</td>\n",
       "      <td>6.0</td>\n",
       "      <td>2.0</td>\n",
       "    </tr>\n",
       "    <tr>\n",
       "      <th>Age</th>\n",
       "      <td>4.0</td>\n",
       "      <td>5.0</td>\n",
       "      <td>3.0</td>\n",
       "      <td>1.0</td>\n",
       "      <td>3.0</td>\n",
       "      <td>4.0</td>\n",
       "      <td>6.0</td>\n",
       "    </tr>\n",
       "    <tr>\n",
       "      <th>SibSp</th>\n",
       "      <td>2.0</td>\n",
       "      <td>7.0</td>\n",
       "      <td>5.0</td>\n",
       "      <td>3.0</td>\n",
       "      <td>1.0</td>\n",
       "      <td>2.0</td>\n",
       "      <td>5.0</td>\n",
       "    </tr>\n",
       "    <tr>\n",
       "      <th>Parch</th>\n",
       "      <td>6.0</td>\n",
       "      <td>4.0</td>\n",
       "      <td>7.0</td>\n",
       "      <td>4.0</td>\n",
       "      <td>2.0</td>\n",
       "      <td>1.0</td>\n",
       "      <td>4.0</td>\n",
       "    </tr>\n",
       "    <tr>\n",
       "      <th>Fare</th>\n",
       "      <td>7.0</td>\n",
       "      <td>3.0</td>\n",
       "      <td>2.0</td>\n",
       "      <td>5.0</td>\n",
       "      <td>4.0</td>\n",
       "      <td>3.0</td>\n",
       "      <td>1.0</td>\n",
       "    </tr>\n",
       "  </tbody>\n",
       "</table>\n",
       "</div>"
      ],
      "text/plain": [
       "             PassengerId  Survived  Pclass  Age  SibSp  Parch  Fare\n",
       "PassengerId          1.0       6.0     6.0  7.0    5.0    7.0   7.0\n",
       "Survived             5.0       1.0     4.0  6.0    7.0    5.0   3.0\n",
       "Pclass               3.0       2.0     1.0  2.0    6.0    6.0   2.0\n",
       "Age                  4.0       5.0     3.0  1.0    3.0    4.0   6.0\n",
       "SibSp                2.0       7.0     5.0  3.0    1.0    2.0   5.0\n",
       "Parch                6.0       4.0     7.0  4.0    2.0    1.0   4.0\n",
       "Fare                 7.0       3.0     2.0  5.0    4.0    3.0   1.0"
      ]
     },
     "execution_count": 89,
     "metadata": {},
     "output_type": "execute_result"
    }
   ],
   "source": [
    "df_corr = df.corr().abs().rank(ascending=False)\n",
    "df_corr"
   ]
  },
  {
   "cell_type": "code",
   "execution_count": 83,
   "metadata": {},
   "outputs": [],
   "source": [
    "import dash_table"
   ]
  },
  {
   "cell_type": "code",
   "execution_count": 87,
   "metadata": {},
   "outputs": [
    {
     "name": "stdout",
     "output_type": "stream",
     "text": [
      "Running on http://127.0.0.1:8050/\n",
      "Debugger PIN: 912-122-705\n",
      " * Serving Flask app \"__main__\" (lazy loading)\n",
      " * Environment: production\n",
      "\u001b[31m   WARNING: This is a development server. Do not use it in a production deployment.\u001b[0m\n",
      "\u001b[2m   Use a production WSGI server instead.\u001b[0m\n",
      " * Debug mode: on\n"
     ]
    }
   ],
   "source": [
    "app.layout = dash_table.DataTable(\n",
    "id='table',\n",
    "columns=[{\"name\": i, \"id\": i} for i in df_corr.columns],\n",
    "data=df_corr.to_dict('records'))\n",
    "app.run_server(debug=True, use_reloader=False)  # Turn off reloader if inside Jupyter"
   ]
  },
  {
   "cell_type": "code",
   "execution_count": null,
   "metadata": {},
   "outputs": [],
   "source": [
    "def make_barchart(id_name):\n",
    "    return html.Div([\n",
    "        html.Div([\n",
    "            html.Div([\n",
    "                html.Div(title, className = 'boxHeader'),\n",
    "                html.Div('LTD Unique Users', className = 'boxLabel'),\n",
    "                html.Div('916k', className = 'boxNumbers')\n",
    "            ], className = 'boxText')\n",
    "        ], className = 'innerBox' )\n",
    "    ], className='cardBox', id=id_name)\n",
    "\n",
    "divs = []\n",
    "for id_name in id_list:\n",
    "    divs.append(make_card(id_name))\n",
    "\n",
    "layout = html.Div(divs, className='container')"
   ]
  },
  {
   "cell_type": "code",
   "execution_count": 92,
   "metadata": {},
   "outputs": [],
   "source": [
    "app = dash.Dash()\n",
    "\n",
    "colors = {\n",
    "    'background': '#111111',\n",
    "    'text': '#7FDBFF'\n",
    "}\n",
    "\n",
    "markdown_text = '''\n",
    "### Dash and Markdown\n",
    "A lot of text here ############################\n",
    "'''\n",
    "\n",
    "app.layout = html.Div(style={'backgroundColor': colors['background']}, children=[\n",
    "    html.H1(\n",
    "        children='Auto_BI Dashboard',\n",
    "        style={\n",
    "            'textAlign': 'center',\n",
    "            'color': colors['text']\n",
    "        }\n",
    "    ),\n",
    "\n",
    "    html.Div(children='Dash: A web application framework for Python.', style={\n",
    "        'textAlign': 'center',\n",
    "        'color': colors['text']\n",
    "    }),\n",
    "\n",
    "    dcc.Markdown(children=markdown_text, style = {'color':\"#7f7f7f\"}),\n",
    "\n",
    "    dcc.Graph(\n",
    "        id='Graph1',\n",
    "        figure={\n",
    "            'data': [\n",
    "                {'x': [1, 2, 3], 'y': [4, 1, 2], 'type': 'bar', 'name': 'SF'},\n",
    "                {'x': [1, 2, 3], 'y': [2, 4, 5], 'type': 'bar', 'name': u'Montréal'},\n",
    "            ],\n",
    "            'layout': {\n",
    "                'plot_bgcolor': colors['background'],\n",
    "                'paper_bgcolor': colors['background'],\n",
    "                'font': {\n",
    "                    'color': colors['text']\n",
    "                }\n",
    "            }\n",
    "        }\n",
    "    ),\n",
    "\n",
    "    dcc.Graph(\n",
    "        id='Graph2',\n",
    "        figure={\n",
    "            'data': [\n",
    "                {'x': [2, 3, 4], 'y': [4, 1, 2], 'type': 'bar', 'name': 'SF'},\n",
    "                {'x': [9, 8, 7], 'y': [2, 4, 5], 'type': 'bar', 'name': u'Montréal'},\n",
    "            ],\n",
    "            'layout': {\n",
    "                'plot_bgcolor': colors['background'],\n",
    "                'paper_bgcolor': colors['background'],\n",
    "                'font': {\n",
    "                    'color': colors['text']\n",
    "                }\n",
    "            }\n",
    "        }\n",
    "    )\n",
    "])"
   ]
  },
  {
   "cell_type": "code",
   "execution_count": null,
   "metadata": {},
   "outputs": [],
   "source": [
    "gridLayout = []\n",
    "for r in range(1, rws + 1):\n",
    "    gridLayout.append(gridRow(r, cols))\n",
    "\n",
    "app.layout = html.Div(gridLayout)"
   ]
  },
  {
   "cell_type": "code",
   "execution_count": 97,
   "metadata": {},
   "outputs": [
    {
     "data": {
      "text/plain": [
       "Div(children=[H1(children='Hello Dash', style={'textAlign': 'center', 'color': '#7FDBFF'}), Div(children='Dash: A web application framework for Python.', style={'textAlign': 'center', 'color': '#7FDBFF'}), Markdown(children='\\n### Dash and Markdown\\nA lot of text here ############################\\n', style={'color': '#7f7f7f'}), Graph(id='Graph1', figure={'data': [{'x': [1, 2, 3], 'y': [4, 1, 2], 'type': 'bar', 'name': 'SF'}, {'x': [1, 2, 3], 'y': [2, 4, 5], 'type': 'bar', 'name': 'Montréal'}], 'layout': {'plot_bgcolor': '#111111', 'paper_bgcolor': '#111111', 'font': {'color': '#7FDBFF'}}}), Graph(id='Graph2', figure={'data': [{'x': [2, 3, 4], 'y': [4, 1, 2], 'type': 'bar', 'name': 'SF'}, {'x': [9, 8, 7], 'y': [2, 4, 5], 'type': 'bar', 'name': 'Montréal'}], 'layout': {'plot_bgcolor': '#111111', 'paper_bgcolor': '#111111', 'font': {'color': '#7FDBFF'}}})], style={'backgroundColor': '#111111'})"
      ]
     },
     "execution_count": 97,
     "metadata": {},
     "output_type": "execute_result"
    }
   ],
   "source": [
    "app.layout"
   ]
  },
  {
   "cell_type": "markdown",
   "metadata": {},
   "source": [
    "### Main call"
   ]
  },
  {
   "cell_type": "markdown",
   "metadata": {},
   "source": [
    "- Need to call the missing value\n",
    "- Then the bining of numerical columns\n",
    "- Then the Entropy\n",
    "- Then the feature combination\n",
    "- Then visualisation"
   ]
  },
  {
   "cell_type": "code",
   "execution_count": null,
   "metadata": {},
   "outputs": [],
   "source": [
    "# TODO: Replace missing values strat? \n",
    "\n",
    "# To Do: Numerical target value \n",
    "    # TODO: Handle entropy calculation when the target is not categorical DONE\n",
    "    # To Do: Numerical Value correlation / growth \n",
    "\n",
    "# To Do: Server visualisation (Dask)\n",
    "# To Do: Large Data Frame handling / Paralization\n",
    "# To Do: Library deployment\n",
    "\n",
    "# TODO: Target is not a column that we try to maximise, minimise or find correlation to, but rather a number of rows\n",
    "    # To Do: Visit Maximisation target value\n",
    "\n",
    "# TODO: Feature Engineering Generator\n",
    "    # Decide how many features we choose for text\n",
    "    # To Do: Feature extractor (text) DONE"
   ]
  },
  {
   "cell_type": "code",
   "execution_count": null,
   "metadata": {},
   "outputs": [],
   "source": [
    "print(\"this is new\")"
   ]
  },
  {
   "cell_type": "code",
   "execution_count": null,
   "metadata": {},
   "outputs": [],
   "source": []
  }
 ],
 "metadata": {
  "kernelspec": {
   "display_name": "auto_bi",
   "language": "python",
   "name": "auto_bi"
  },
  "language_info": {
   "codemirror_mode": {
    "name": "ipython",
    "version": 3
   },
   "file_extension": ".py",
   "mimetype": "text/x-python",
   "name": "python",
   "nbconvert_exporter": "python",
   "pygments_lexer": "ipython3",
   "version": "3.8.1"
  }
 },
 "nbformat": 4,
 "nbformat_minor": 4
}
